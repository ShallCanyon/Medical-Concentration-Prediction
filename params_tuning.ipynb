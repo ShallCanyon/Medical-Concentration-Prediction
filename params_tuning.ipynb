{
 "cells": [
  {
   "cell_type": "code",
   "execution_count": 19,
   "metadata": {},
   "outputs": [],
   "source": [
    "import optuna\n",
    "import numpy as np\n",
    "from sklearn.metrics import mean_squared_error, r2_score\n",
    "from sklearn.model_selection import StratifiedKFold, train_test_split, KFold\n",
    "from xgboost.sklearn import XGBRegressor\n",
    "import pandas as pd\n",
    "from sklearn.svm import SVR\n",
    "from sklearn.ensemble import RandomForestRegressor as RF\n",
    "from sklearn.neural_network import MLPRegressor as MLP\n",
    "# from lightgbm import LGBMRegressor\n",
    "import lightgbm as lgb\n",
    "from sklearn.preprocessing import MinMaxScaler\n",
    "import global_config as cfg\n",
    "from data_preprocess import get_X_Y"
   ]
  },
  {
   "cell_type": "code",
   "execution_count": 20,
   "metadata": {},
   "outputs": [],
   "source": [
    "model_enum = cfg.model_enum\n",
    "model_type = model_enum[2]"
   ]
  },
  {
   "cell_type": "code",
   "execution_count": 21,
   "metadata": {},
   "outputs": [],
   "source": [
    "# def get_X_Y(csvfile):\n",
    "#     df = pd.read_csv(csvfile)\n",
    "#     # 去除含有无效值的列\n",
    "#     df = df[~df.isin([np.nan, np.inf, -np.inf]).any(1)]\n",
    "#     df = df.dropna(axis=0, how='any')\n",
    "\n",
    "#     X = df.drop(['SMILES', 'Blood', 'Brain', 'Ratio'], axis=1)\n",
    "#     X = MinMaxScaler().fit_transform(X)\n",
    "#     # print(len(X))\n",
    "#     blood_y = df['Blood'].ravel()\n",
    "#     brain_y = df['Brain'].ravel()\n",
    "#     ratio_y = df['Ratio'].ravel()\n",
    "#     SMILES = df['SMILES']\n",
    "#     return pd.DataFrame(X).astype('float64'), blood_y, brain_y, ratio_y, SMILES"
   ]
  },
  {
   "cell_type": "code",
   "execution_count": 22,
   "metadata": {},
   "outputs": [],
   "source": [
    "def objective(trial, X, y):\n",
    "    # XGB Params\n",
    "    if model_type == model_enum[0]:\n",
    "        param_grid = {\n",
    "            # 'n_estimators': 600,\n",
    "\t        # 'learning_rate': 0.013,\n",
    "            # 'max_depth': 22,\n",
    "            # 'lambda': 0.003340201697365462,\n",
    "            # 'alpha': 0.001044793853811272,\n",
    "            # 'min_child_weight': 8,\n",
    "\t        # 'gamma': 0,\n",
    "            # 'colsample_bytree': 1.0,\n",
    "            # 'colsample_bylevel': 0.3,\n",
    "            # 'colsample_bynode': 0.6,\n",
    "\n",
    "            \"n_estimators\": trial.suggest_int(\"n_estimators\", 50, 3000, step=50),\n",
    "            \"learning_rate\": trial.suggest_float('learning_rate', 0.005, 0.03, step=0.001),\n",
    "            \"max_depth\": trial.suggest_int(\"max_depth\", 0, 30),\n",
    "            'lambda': trial.suggest_loguniform('lambda', 1e-3, 10.0),\n",
    "            'alpha': trial.suggest_loguniform('alpha', 1e-3, 10.0),\n",
    "            \"min_child_weight\": trial.suggest_int(\"min_child_weight\", 1, 30),\n",
    "            'gamma': trial.suggest_int(\"gamma\", 0, 20, step=1),\n",
    "            'colsample_bytree': trial.suggest_float(\"colsample_bytree\", 0, 1, step=0.1),\n",
    "            'colsample_bylevel': trial.suggest_float(\"colsample_bylevel\", 0, 1, step=0.1),\n",
    "            'colsample_bynode': trial.suggest_float(\"colsample_bynode\", 0, 1, step=0.1),\n",
    "        }\n",
    "    # LGBM params\n",
    "    elif model_type == model_enum[1]:\n",
    "        param_grid = {\n",
    "            \"boosting_type\": trial.suggest_categorical('boosting_type', ['gbdt', 'dart']),\n",
    "            \"max_depth\": trial.suggest_int(\"max_depth\", 1, 30),\n",
    "            \"learning_rate\": trial.suggest_categorical('learning_rate',\n",
    "                                                    [0.005, 0.008, 0.01, 0.012, 0.014, 0.016, 0.018, 0.02, 0.023, 0.025, 0.028, 0.03]),\n",
    "            \"n_estimators\": trial.suggest_int(\"n_estimators\", 50, 3000, step=50),\n",
    "            \"objective\": trial.suggest_categorical('objective', ['regression']),\n",
    "            \"min_child_samples\": trial.suggest_int(\"min_child_samples\", 5, 30),\n",
    "            # 'colsample_bytree': trial.suggest_float(\"colsample_bytree\", 0, 1, step=0.1),\n",
    "            'reg_lambda': trial.suggest_loguniform('reg_lambda', 1e-3, 10.0),\n",
    "            'reg_alpha': trial.suggest_loguniform('reg_alpha', 1e-3, 10.0),\n",
    "            # 'feature_fraction': trial.suggest_categorical('feature_fraction', [0.5])\n",
    "            # 'verbose': trial.suggest_categorical('verbose', [-1])\n",
    "        }\n",
    "    elif model_type == model_enum[2]:   #SVM\n",
    "        param_grid = {\n",
    "            \"C\": trial.suggest_float('C', 0.1, 10),\n",
    "            'gamma': trial.suggest_categorical(\"gamma\", ['scale', 'auto']),\n",
    "            'tol': trial.suggest_categorical(\"tol\", [1e-2, 1e-3, 1e-4]),\n",
    "            'max_iter': trial.suggest_categorical(\"max_iter\", [1000, 5000, 10000]),\n",
    "            'epsilon': trial.suggest_float(\"epsilon\", 0.1, 1.0)\n",
    "        }\n",
    "    elif model_type == model_enum[3]:   #RF\n",
    "        param_grid = {\n",
    "            \"n_estimators\": trial.suggest_int(\"n_estimators\", 100, 3000, step=100),\n",
    "            \"max_depth\": trial.suggest_int(\"max_depth\", 1, 30),\n",
    "        }\n",
    "    elif model_type == model_enum[4]:   #MLP\n",
    "        param_grid = {\n",
    "            \"hidden_layer_sizes\": trial.suggest_categorical(\"hidden_layer_sizes\", [(50,), (100,), (150,), (200,)]),\n",
    "            \"activation\": trial.suggest_categorical(\"activation\", ['tanh', 'relu']),\n",
    "            \"solver\": trial.suggest_categorical(\"solver\", ['lbfgs', 'sgd', 'adam']),\n",
    "            \"early_stopping\": True,\n",
    "            \"max_iter\": trial.suggest_int(\"max_iter\", 200, 1000, step=100),\n",
    "        }\n",
    "\n",
    "    cv = KFold(n_splits=5, shuffle=True)\n",
    "    \n",
    "    cv_scores = np.empty(5)\n",
    "    for idx, (train_idx, test_idx) in enumerate(cv.split(X, y)):\n",
    "        X_train, X_test = X.iloc[train_idx], X.iloc[test_idx]\n",
    "        y_train, y_test = y[train_idx], y[test_idx]\n",
    "\n",
    "        if model_type == model_enum[0]:\n",
    "            model = XGBRegressor(**param_grid)\n",
    "            model.fit(X_train, y_train, eval_set=[(X_test, y_test)], early_stopping_rounds=100, verbose=False)\n",
    "        elif model_type == model_enum[1]:\n",
    "            model = lgb.sklearn.LGBMRegressor(**param_grid)\n",
    "            # callbacks = [lgb.early_stopping(100, verbose=0), lgb.log_evaluation(period=0)]\n",
    "            callbacks = [lgb.log_evaluation(period=0)]\n",
    "            model.fit(X_train, y_train, eval_set=[(X_test, y_test)], callbacks=callbacks)\n",
    "        elif model_type == model_enum[2]:   #SVM\n",
    "            model = SVR(**param_grid)\n",
    "            model.fit(X_train, y_train)\n",
    "        elif model_type == model_enum[3]:   #RF\n",
    "            model = RF(**param_grid)\n",
    "            model.fit(X_train, y_train)\n",
    "        elif model_type == model_enum[4]:   #MLP\n",
    "            model = MLP(**param_grid)\n",
    "            model.fit(X_train, y_train)\n",
    "        preds = model.predict(X_test)\n",
    "        cv_scores[idx] = r2_score(y_test, preds)\n",
    "        # cv_scores[idx] = np.sqrt(mean_squared_error(y_test, preds)) / (y_test.max() - y_test.min())\n",
    "        # cv_scores[idx] = np.sqrt(mean_squared_error(y_test, preds))\n",
    "\n",
    "    return np.mean(cv_scores)"
   ]
  },
  {
   "cell_type": "code",
   "execution_count": 23,
   "metadata": {},
   "outputs": [
    {
     "name": "stderr",
     "output_type": "stream",
     "text": [
      "c:\\Users\\80473\\anaconda3\\envs\\BBB\\lib\\site-packages\\ipykernel_launcher.py:4: DtypeWarning: Columns (788,789,831,835,837,848,854,858,907,908,950,954,956,967,973,977,1148,1149) have mixed types.Specify dtype option on import or set low_memory=False.\n",
      "  after removing the cwd from sys.path.\n"
     ]
    },
    {
     "name": "stdout",
     "output_type": "stream",
     "text": [
      "(411, 9196)\n",
      "(411, 3576)\n",
      "XGB\n"
     ]
    }
   ],
   "source": [
    "csvfile = cfg.padel_csvfilepath\n",
    "n_trials = 50\n",
    "\n",
    "X, blood_y, brain_y, ratio_y, _ = get_X_Y(csvfile)\n",
    "blood_X = X.iloc[:, cfg.blood_fea]\n",
    "brain_X = X.iloc[:, cfg.brain_fea]\n",
    "ratio_X = X.iloc[:, cfg.X_fea]\n",
    "print(model_type)\n",
    "directions = [\"minimize\", \"maximize\"]\n",
    "direction = directions[1]"
   ]
  },
  {
   "cell_type": "code",
   "execution_count": 24,
   "metadata": {},
   "outputs": [
    {
     "name": "stderr",
     "output_type": "stream",
     "text": [
      "\u001b[32m[I 2023-01-11 19:12:54,601]\u001b[0m A new study created in memory with name: Blood_Regressor\u001b[0m\n",
      "\u001b[32m[I 2023-01-11 19:13:01,486]\u001b[0m Trial 0 finished with value: 0.27630162045114026 and parameters: {'n_estimators': 1950, 'learning_rate': 0.024, 'max_depth': 19, 'lambda': 0.05725171901943744, 'alpha': 3.1686920758281847, 'min_child_weight': 9, 'gamma': 18, 'colsample_bytree': 0.9, 'colsample_bylevel': 0.0, 'colsample_bynode': 1.0}. Best is trial 0 with value: 0.27630162045114026.\u001b[0m\n",
      "\u001b[32m[I 2023-01-11 19:13:04,413]\u001b[0m Trial 1 finished with value: 0.18723647099807766 and parameters: {'n_estimators': 450, 'learning_rate': 0.006, 'max_depth': 9, 'lambda': 0.47617410671793725, 'alpha': 7.296105810765127, 'min_child_weight': 10, 'gamma': 15, 'colsample_bytree': 0.7000000000000001, 'colsample_bylevel': 0.9, 'colsample_bynode': 1.0}. Best is trial 0 with value: 0.27630162045114026.\u001b[0m\n",
      "\u001b[32m[I 2023-01-11 19:13:05,693]\u001b[0m Trial 2 finished with value: 0.1173868147526754 and parameters: {'n_estimators': 200, 'learning_rate': 0.012, 'max_depth': 13, 'lambda': 0.014042791869198072, 'alpha': 0.17856763744345253, 'min_child_weight': 28, 'gamma': 4, 'colsample_bytree': 0.8, 'colsample_bylevel': 0.0, 'colsample_bynode': 0.6000000000000001}. Best is trial 0 with value: 0.27630162045114026.\u001b[0m\n",
      "\u001b[32m[I 2023-01-11 19:13:11,009]\u001b[0m Trial 3 finished with value: 0.4343861310972681 and parameters: {'n_estimators': 1050, 'learning_rate': 0.027, 'max_depth': 30, 'lambda': 0.003626228786051792, 'alpha': 6.716980126075003, 'min_child_weight': 16, 'gamma': 9, 'colsample_bytree': 0.8, 'colsample_bylevel': 1.0, 'colsample_bynode': 0.6000000000000001}. Best is trial 3 with value: 0.4343861310972681.\u001b[0m\n",
      "\u001b[32m[I 2023-01-11 19:13:12,523]\u001b[0m Trial 4 finished with value: 0.21497985960513422 and parameters: {'n_estimators': 250, 'learning_rate': 0.021, 'max_depth': 23, 'lambda': 0.0014086397048001292, 'alpha': 0.0205580144559125, 'min_child_weight': 27, 'gamma': 20, 'colsample_bytree': 0.6000000000000001, 'colsample_bylevel': 0.30000000000000004, 'colsample_bynode': 0.2}. Best is trial 3 with value: 0.4343861310972681.\u001b[0m\n",
      "\u001b[32m[I 2023-01-11 19:13:15,882]\u001b[0m Trial 5 finished with value: 0.3520503963342983 and parameters: {'n_estimators': 750, 'learning_rate': 0.027, 'max_depth': 6, 'lambda': 2.105893478841915, 'alpha': 0.01032426960985564, 'min_child_weight': 20, 'gamma': 17, 'colsample_bytree': 0.5, 'colsample_bylevel': 0.2, 'colsample_bynode': 0.7000000000000001}. Best is trial 3 with value: 0.4343861310972681.\u001b[0m\n",
      "\u001b[32m[I 2023-01-11 19:13:23,458]\u001b[0m Trial 6 finished with value: 0.30570721294031566 and parameters: {'n_estimators': 2450, 'learning_rate': 0.018000000000000002, 'max_depth': 18, 'lambda': 8.116961379959688, 'alpha': 0.0024165422086004965, 'min_child_weight': 29, 'gamma': 7, 'colsample_bytree': 0.1, 'colsample_bylevel': 0.4, 'colsample_bynode': 0.6000000000000001}. Best is trial 3 with value: 0.4343861310972681.\u001b[0m\n",
      "\u001b[32m[I 2023-01-11 19:13:36,113]\u001b[0m Trial 7 finished with value: 0.48321994795479073 and parameters: {'n_estimators': 2500, 'learning_rate': 0.01, 'max_depth': 8, 'lambda': 0.0038626986640690718, 'alpha': 1.2515441693796783, 'min_child_weight': 7, 'gamma': 7, 'colsample_bytree': 0.1, 'colsample_bylevel': 0.30000000000000004, 'colsample_bynode': 0.4}. Best is trial 7 with value: 0.48321994795479073.\u001b[0m\n",
      "\u001b[32m[I 2023-01-11 19:13:44,389]\u001b[0m Trial 8 finished with value: 0.42761744101466936 and parameters: {'n_estimators': 2050, 'learning_rate': 0.01, 'max_depth': 4, 'lambda': 0.032175043248766626, 'alpha': 0.4120343200792709, 'min_child_weight': 2, 'gamma': 3, 'colsample_bytree': 0.1, 'colsample_bylevel': 0.9, 'colsample_bynode': 0.4}. Best is trial 7 with value: 0.48321994795479073.\u001b[0m\n",
      "\u001b[32m[I 2023-01-11 19:13:47,057]\u001b[0m Trial 9 finished with value: 0.2129930964890035 and parameters: {'n_estimators': 500, 'learning_rate': 0.014000000000000002, 'max_depth': 9, 'lambda': 0.004331810016781612, 'alpha': 5.551053838484014, 'min_child_weight': 9, 'gamma': 6, 'colsample_bytree': 0.30000000000000004, 'colsample_bylevel': 0.30000000000000004, 'colsample_bynode': 0.8}. Best is trial 7 with value: 0.48321994795479073.\u001b[0m\n",
      "\u001b[32m[I 2023-01-11 19:13:55,125]\u001b[0m Trial 10 finished with value: 0.20833146319793272 and parameters: {'n_estimators': 3000, 'learning_rate': 0.005, 'max_depth': 2, 'lambda': 0.1755029573819393, 'alpha': 1.185695792917555, 'min_child_weight': 1, 'gamma': 0, 'colsample_bytree': 0.0, 'colsample_bylevel': 0.6000000000000001, 'colsample_bynode': 0.0}. Best is trial 7 with value: 0.48321994795479073.\u001b[0m\n",
      "\u001b[32m[I 2023-01-11 19:14:00,258]\u001b[0m Trial 11 finished with value: 0.46630749228192875 and parameters: {'n_estimators': 1150, 'learning_rate': 0.029, 'max_depth': 29, 'lambda': 0.0010231753125879786, 'alpha': 1.0286573687818967, 'min_child_weight': 16, 'gamma': 11, 'colsample_bytree': 1.0, 'colsample_bylevel': 0.6000000000000001, 'colsample_bynode': 0.4}. Best is trial 7 with value: 0.48321994795479073.\u001b[0m\n",
      "\u001b[32m[I 2023-01-11 19:14:06,175]\u001b[0m Trial 12 finished with value: 0.44722292031950595 and parameters: {'n_estimators': 1300, 'learning_rate': 0.03, 'max_depth': 27, 'lambda': 0.0011777789076902834, 'alpha': 0.7733836436281315, 'min_child_weight': 20, 'gamma': 12, 'colsample_bytree': 1.0, 'colsample_bylevel': 0.6000000000000001, 'colsample_bynode': 0.30000000000000004}. Best is trial 7 with value: 0.48321994795479073.\u001b[0m\n",
      "\u001b[32m[I 2023-01-11 19:14:13,248]\u001b[0m Trial 13 finished with value: 0.31057318852801297 and parameters: {'n_estimators': 1650, 'learning_rate': 0.016, 'max_depth': 14, 'lambda': 0.00880773391359305, 'alpha': 0.08003339255819641, 'min_child_weight': 14, 'gamma': 12, 'colsample_bytree': 0.4, 'colsample_bylevel': 0.7000000000000001, 'colsample_bynode': 0.1}. Best is trial 7 with value: 0.48321994795479073.\u001b[0m\n",
      "\u001b[32m[I 2023-01-11 19:14:27,160]\u001b[0m Trial 14 finished with value: 0.42812507016045076 and parameters: {'n_estimators': 2850, 'learning_rate': 0.009000000000000001, 'max_depth': 23, 'lambda': 0.0010687573033429626, 'alpha': 1.639784756039051, 'min_child_weight': 5, 'gamma': 11, 'colsample_bytree': 0.30000000000000004, 'colsample_bylevel': 0.5, 'colsample_bynode': 0.4}. Best is trial 7 with value: 0.48321994795479073.\u001b[0m\n",
      "\u001b[32m[I 2023-01-11 19:14:29,274]\u001b[0m Trial 15 finished with value: -0.003309964975405588 and parameters: {'n_estimators': 2450, 'learning_rate': 0.02, 'max_depth': 0, 'lambda': 0.015721959793749928, 'alpha': 0.22051500879569386, 'min_child_weight': 15, 'gamma': 14, 'colsample_bytree': 0.2, 'colsample_bylevel': 0.7000000000000001, 'colsample_bynode': 0.4}. Best is trial 7 with value: 0.48321994795479073.\u001b[0m\n",
      "\u001b[32m[I 2023-01-11 19:14:33,934]\u001b[0m Trial 16 finished with value: 0.2234065470036742 and parameters: {'n_estimators': 1500, 'learning_rate': 0.022000000000000002, 'max_depth': 10, 'lambda': 0.004337144036969242, 'alpha': 0.04196999249895743, 'min_child_weight': 22, 'gamma': 9, 'colsample_bytree': 0.5, 'colsample_bylevel': 0.2, 'colsample_bynode': 0.2}. Best is trial 7 with value: 0.48321994795479073.\u001b[0m\n",
      "\u001b[32m[I 2023-01-11 19:14:38,867]\u001b[0m Trial 17 finished with value: 0.37916550425340084 and parameters: {'n_estimators': 900, 'learning_rate': 0.015, 'max_depth': 17, 'lambda': 0.14667474072873318, 'alpha': 0.5181341786444603, 'min_child_weight': 13, 'gamma': 7, 'colsample_bytree': 1.0, 'colsample_bylevel': 0.5, 'colsample_bynode': 0.5}. Best is trial 7 with value: 0.48321994795479073.\u001b[0m\n",
      "\u001b[32m[I 2023-01-11 19:14:46,556]\u001b[0m Trial 18 finished with value: 0.2251094169496819 and parameters: {'n_estimators': 2050, 'learning_rate': 0.008, 'max_depth': 21, 'lambda': 0.003170540283258774, 'alpha': 2.140698667759097, 'min_child_weight': 6, 'gamma': 2, 'colsample_bytree': 0.0, 'colsample_bylevel': 0.1, 'colsample_bynode': 0.8}. Best is trial 7 with value: 0.48321994795479073.\u001b[0m\n",
      "\u001b[32m[I 2023-01-11 19:14:55,991]\u001b[0m Trial 19 finished with value: 0.3979587508303351 and parameters: {'n_estimators': 2500, 'learning_rate': 0.03, 'max_depth': 30, 'lambda': 0.4564943941439847, 'alpha': 0.27631787412210324, 'min_child_weight': 17, 'gamma': 14, 'colsample_bytree': 0.6000000000000001, 'colsample_bylevel': 0.4, 'colsample_bynode': 0.30000000000000004}. Best is trial 7 with value: 0.48321994795479073.\u001b[0m\n",
      "\u001b[32m[I 2023-01-11 19:14:59,974]\u001b[0m Trial 20 finished with value: 0.19040939124345224 and parameters: {'n_estimators': 1250, 'learning_rate': 0.012, 'max_depth': 12, 'lambda': 0.03542595664396732, 'alpha': 0.001183601423178827, 'min_child_weight': 24, 'gamma': 5, 'colsample_bytree': 0.30000000000000004, 'colsample_bylevel': 0.8, 'colsample_bynode': 0.0}. Best is trial 7 with value: 0.48321994795479073.\u001b[0m\n",
      "\u001b[32m[I 2023-01-11 19:15:07,006]\u001b[0m Trial 21 finished with value: 0.4598250304475888 and parameters: {'n_estimators': 1450, 'learning_rate': 0.03, 'max_depth': 27, 'lambda': 0.0010124180424535064, 'alpha': 0.847638578981595, 'min_child_weight': 19, 'gamma': 11, 'colsample_bytree': 1.0, 'colsample_bylevel': 0.6000000000000001, 'colsample_bynode': 0.30000000000000004}. Best is trial 7 with value: 0.48321994795479073.\u001b[0m\n",
      "\u001b[32m[I 2023-01-11 19:15:15,495]\u001b[0m Trial 22 finished with value: 0.5688307497754772 and parameters: {'n_estimators': 1700, 'learning_rate': 0.026000000000000002, 'max_depth': 26, 'lambda': 0.0022106369528429484, 'alpha': 0.9133162515639958, 'min_child_weight': 18, 'gamma': 9, 'colsample_bytree': 0.9, 'colsample_bylevel': 0.6000000000000001, 'colsample_bynode': 0.30000000000000004}. Best is trial 22 with value: 0.5688307497754772.\u001b[0m\n",
      "\u001b[32m[I 2023-01-11 19:15:20,871]\u001b[0m Trial 23 finished with value: 0.37104675479559507 and parameters: {'n_estimators': 1750, 'learning_rate': 0.025, 'max_depth': 24, 'lambda': 0.0024420023278934363, 'alpha': 3.1881922273230923, 'min_child_weight': 11, 'gamma': 8, 'colsample_bytree': 0.9, 'colsample_bylevel': 0.4, 'colsample_bynode': 0.5}. Best is trial 22 with value: 0.5688307497754772.\u001b[0m\n",
      "\u001b[32m[I 2023-01-11 19:15:27,045]\u001b[0m Trial 24 finished with value: 0.38782274772541275 and parameters: {'n_estimators': 2250, 'learning_rate': 0.027, 'max_depth': 26, 'lambda': 0.0074413400894814035, 'alpha': 0.09822520311250788, 'min_child_weight': 25, 'gamma': 10, 'colsample_bytree': 0.8, 'colsample_bylevel': 0.7000000000000001, 'colsample_bynode': 0.2}. Best is trial 22 with value: 0.5688307497754772.\u001b[0m\n",
      "\u001b[32m[I 2023-01-11 19:15:32,976]\u001b[0m Trial 25 finished with value: 0.4204647965335021 and parameters: {'n_estimators': 1800, 'learning_rate': 0.024, 'max_depth': 6, 'lambda': 0.0020323146899725803, 'alpha': 1.2587826956470691, 'min_child_weight': 18, 'gamma': 6, 'colsample_bytree': 0.9, 'colsample_bylevel': 0.5, 'colsample_bynode': 0.4}. Best is trial 22 with value: 0.5688307497754772.\u001b[0m\n",
      "\u001b[32m[I 2023-01-11 19:15:40,235]\u001b[0m Trial 26 finished with value: 0.37104872046409465 and parameters: {'n_estimators': 2750, 'learning_rate': 0.028, 'max_depth': 16, 'lambda': 0.00788601847998885, 'alpha': 0.4671883919475888, 'min_child_weight': 13, 'gamma': 13, 'colsample_bytree': 0.7000000000000001, 'colsample_bylevel': 0.30000000000000004, 'colsample_bynode': 0.1}. Best is trial 22 with value: 0.5688307497754772.\u001b[0m\n",
      "\u001b[32m[I 2023-01-11 19:15:45,205]\u001b[0m Trial 27 finished with value: 0.43569559014865494 and parameters: {'n_estimators': 1150, 'learning_rate': 0.018000000000000002, 'max_depth': 20, 'lambda': 0.017434076453392577, 'alpha': 2.8201206652286706, 'min_child_weight': 6, 'gamma': 9, 'colsample_bytree': 0.7000000000000001, 'colsample_bylevel': 0.6000000000000001, 'colsample_bynode': 0.5}. Best is trial 22 with value: 0.5688307497754772.\u001b[0m\n",
      "\u001b[32m[I 2023-01-11 19:15:49,651]\u001b[0m Trial 28 finished with value: 0.362231791780084 and parameters: {'n_estimators': 900, 'learning_rate': 0.023000000000000003, 'max_depth': 30, 'lambda': 0.0019500428571425502, 'alpha': 0.1504316156377521, 'min_child_weight': 22, 'gamma': 16, 'colsample_bytree': 0.9, 'colsample_bylevel': 0.8, 'colsample_bynode': 0.30000000000000004}. Best is trial 22 with value: 0.5688307497754772.\u001b[0m\n",
      "\u001b[32m[I 2023-01-11 19:15:59,100]\u001b[0m Trial 29 finished with value: 0.5171272179394552 and parameters: {'n_estimators': 2250, 'learning_rate': 0.025, 'max_depth': 28, 'lambda': 0.06521186415277866, 'alpha': 4.119966603100686, 'min_child_weight': 12, 'gamma': 10, 'colsample_bytree': 1.0, 'colsample_bylevel': 0.2, 'colsample_bynode': 0.1}. Best is trial 22 with value: 0.5688307497754772.\u001b[0m\n",
      "\u001b[32m[I 2023-01-11 19:16:07,606]\u001b[0m Trial 30 finished with value: 0.4781686702578204 and parameters: {'n_estimators': 2250, 'learning_rate': 0.025, 'max_depth': 25, 'lambda': 0.06673620191967682, 'alpha': 9.694600150283447, 'min_child_weight': 8, 'gamma': 8, 'colsample_bytree': 0.9, 'colsample_bylevel': 0.0, 'colsample_bynode': 0.1}. Best is trial 22 with value: 0.5688307497754772.\u001b[0m\n",
      "\u001b[32m[I 2023-01-11 19:16:15,628]\u001b[0m Trial 31 finished with value: 0.4430077109207978 and parameters: {'n_estimators': 2250, 'learning_rate': 0.026000000000000002, 'max_depth': 25, 'lambda': 0.07077596038356951, 'alpha': 9.28658275941317, 'min_child_weight': 8, 'gamma': 8, 'colsample_bytree': 0.9, 'colsample_bylevel': 0.0, 'colsample_bynode': 0.0}. Best is trial 22 with value: 0.5688307497754772.\u001b[0m\n",
      "\u001b[32m[I 2023-01-11 19:16:23,340]\u001b[0m Trial 32 finished with value: 0.3772368031390327 and parameters: {'n_estimators': 2250, 'learning_rate': 0.023000000000000003, 'max_depth': 21, 'lambda': 0.2698961584013924, 'alpha': 4.253829852524898, 'min_child_weight': 4, 'gamma': 5, 'colsample_bytree': 0.8, 'colsample_bylevel': 0.1, 'colsample_bynode': 0.1}. Best is trial 22 with value: 0.5688307497754772.\u001b[0m\n",
      "\u001b[32m[I 2023-01-11 19:16:30,009]\u001b[0m Trial 33 finished with value: 0.24322650643066157 and parameters: {'n_estimators': 1900, 'learning_rate': 0.02, 'max_depth': 27, 'lambda': 1.058567082916829, 'alpha': 3.1971903000912376, 'min_child_weight': 12, 'gamma': 7, 'colsample_bytree': 1.0, 'colsample_bylevel': 0.1, 'colsample_bynode': 0.2}. Best is trial 22 with value: 0.5688307497754772.\u001b[0m\n",
      "\u001b[32m[I 2023-01-11 19:16:36,636]\u001b[0m Trial 34 finished with value: 0.364264000152897 and parameters: {'n_estimators': 2650, 'learning_rate': 0.025, 'max_depth': 28, 'lambda': 0.04515963465489518, 'alpha': 7.164556001605926, 'min_child_weight': 9, 'gamma': 10, 'colsample_bytree': 0.8, 'colsample_bylevel': 0.0, 'colsample_bynode': 0.1}. Best is trial 22 with value: 0.5688307497754772.\u001b[0m\n",
      "\u001b[32m[I 2023-01-11 19:16:45,511]\u001b[0m Trial 35 finished with value: 0.33278422865209595 and parameters: {'n_estimators': 2050, 'learning_rate': 0.007, 'max_depth': 23, 'lambda': 0.08634306878903525, 'alpha': 9.542608645991468, 'min_child_weight': 7, 'gamma': 4, 'colsample_bytree': 0.6000000000000001, 'colsample_bylevel': 0.2, 'colsample_bynode': 1.0}. Best is trial 22 with value: 0.5688307497754772.\u001b[0m\n",
      "\u001b[32m[I 2023-01-11 19:16:57,348]\u001b[0m Trial 36 finished with value: 0.3745093915000801 and parameters: {'n_estimators': 2550, 'learning_rate': 0.012, 'max_depth': 25, 'lambda': 0.017048052773849486, 'alpha': 4.424919113565302, 'min_child_weight': 11, 'gamma': 8, 'colsample_bytree': 0.7000000000000001, 'colsample_bylevel': 0.1, 'colsample_bynode': 0.2}. Best is trial 22 with value: 0.5688307497754772.\u001b[0m\n",
      "\u001b[32m[I 2023-01-11 19:17:03,071]\u001b[0m Trial 37 finished with value: 0.3691629211834929 and parameters: {'n_estimators': 2250, 'learning_rate': 0.021, 'max_depth': 12, 'lambda': 0.02628075087893947, 'alpha': 1.8712372155852282, 'min_child_weight': 3, 'gamma': 19, 'colsample_bytree': 0.9, 'colsample_bylevel': 0.2, 'colsample_bynode': 0.1}. Best is trial 22 with value: 0.5688307497754772.\u001b[0m\n",
      "\u001b[32m[I 2023-01-11 19:17:11,052]\u001b[0m Trial 38 finished with value: 0.36138093978576036 and parameters: {'n_estimators': 2350, 'learning_rate': 0.025, 'max_depth': 7, 'lambda': 0.7402283965627464, 'alpha': 5.1955011046833075, 'min_child_weight': 10, 'gamma': 9, 'colsample_bytree': 0.5, 'colsample_bylevel': 0.30000000000000004, 'colsample_bynode': 0.30000000000000004}. Best is trial 22 with value: 0.5688307497754772.\u001b[0m\n",
      "\u001b[32m[I 2023-01-11 19:17:22,181]\u001b[0m Trial 39 finished with value: 0.5233023714441913 and parameters: {'n_estimators': 1900, 'learning_rate': 0.017, 'max_depth': 22, 'lambda': 0.10254308998294968, 'alpha': 0.688680062807528, 'min_child_weight': 8, 'gamma': 6, 'colsample_bytree': 0.4, 'colsample_bylevel': 0.0, 'colsample_bynode': 0.0}. Best is trial 22 with value: 0.5688307497754772.\u001b[0m\n",
      "\u001b[32m[I 2023-01-11 19:17:31,179]\u001b[0m Trial 40 finished with value: 0.41364929651094384 and parameters: {'n_estimators': 1650, 'learning_rate': 0.017, 'max_depth': 22, 'lambda': 7.068524168000186, 'alpha': 0.30781022627326743, 'min_child_weight': 15, 'gamma': 2, 'colsample_bytree': 0.4, 'colsample_bylevel': 0.4, 'colsample_bynode': 0.0}. Best is trial 22 with value: 0.5688307497754772.\u001b[0m\n",
      "\u001b[32m[I 2023-01-11 19:17:36,521]\u001b[0m Trial 41 finished with value: 0.37750947327979245 and parameters: {'n_estimators': 1900, 'learning_rate': 0.019, 'max_depth': 19, 'lambda': 0.1323859512738876, 'alpha': 0.6442478121099745, 'min_child_weight': 8, 'gamma': 6, 'colsample_bytree': 0.1, 'colsample_bylevel': 0.0, 'colsample_bynode': 0.0}. Best is trial 22 with value: 0.5688307497754772.\u001b[0m\n",
      "\u001b[32m[I 2023-01-11 19:17:45,041]\u001b[0m Trial 42 finished with value: 0.4058883229087458 and parameters: {'n_estimators': 2100, 'learning_rate': 0.014000000000000002, 'max_depth': 25, 'lambda': 0.049919799664508095, 'alpha': 2.2520957312508703, 'min_child_weight': 10, 'gamma': 10, 'colsample_bytree': 0.2, 'colsample_bylevel': 0.1, 'colsample_bynode': 0.1}. Best is trial 22 with value: 0.5688307497754772.\u001b[0m\n",
      "\u001b[32m[I 2023-01-11 19:17:52,088]\u001b[0m Trial 43 finished with value: 0.46104049590424995 and parameters: {'n_estimators': 2650, 'learning_rate': 0.028, 'max_depth': 28, 'lambda': 0.27898705627457093, 'alpha': 1.4467877423600382, 'min_child_weight': 7, 'gamma': 5, 'colsample_bytree': 0.4, 'colsample_bylevel': 0.0, 'colsample_bynode': 0.2}. Best is trial 22 with value: 0.5688307497754772.\u001b[0m\n",
      "\u001b[32m[I 2023-01-11 19:18:05,430]\u001b[0m Trial 44 finished with value: 0.49664693736098525 and parameters: {'n_estimators': 2100, 'learning_rate': 0.011, 'max_depth': 28, 'lambda': 0.0962338506025081, 'alpha': 0.005578257075153651, 'min_child_weight': 5, 'gamma': 7, 'colsample_bytree': 0.6000000000000001, 'colsample_bylevel': 0.2, 'colsample_bynode': 0.6000000000000001}. Best is trial 22 with value: 0.5688307497754772.\u001b[0m\n",
      "\u001b[32m[I 2023-01-11 19:18:23,781]\u001b[0m Trial 45 finished with value: 0.44531035662363905 and parameters: {'n_estimators': 1650, 'learning_rate': 0.011, 'max_depth': 29, 'lambda': 0.2483180558294687, 'alpha': 0.005088762991639266, 'min_child_weight': 1, 'gamma': 3, 'colsample_bytree': 0.6000000000000001, 'colsample_bylevel': 0.30000000000000004, 'colsample_bynode': 0.6000000000000001}. Best is trial 22 with value: 0.5688307497754772.\u001b[0m\n",
      "\u001b[32m[I 2023-01-11 19:18:30,215]\u001b[0m Trial 46 finished with value: 0.37852632815663545 and parameters: {'n_estimators': 2950, 'learning_rate': 0.013000000000000001, 'max_depth': 28, 'lambda': 0.1140580674458595, 'alpha': 0.015104620813663714, 'min_child_weight': 4, 'gamma': 7, 'colsample_bytree': 0.2, 'colsample_bylevel': 0.2, 'colsample_bynode': 0.7000000000000001}. Best is trial 22 with value: 0.5688307497754772.\u001b[0m\n",
      "\u001b[32m[I 2023-01-11 19:18:39,481]\u001b[0m Trial 47 finished with value: 0.44373078308552205 and parameters: {'n_estimators': 2100, 'learning_rate': 0.009000000000000001, 'max_depth': 3, 'lambda': 0.004949589976561908, 'alpha': 0.050898002855152794, 'min_child_weight': 3, 'gamma': 4, 'colsample_bytree': 0.30000000000000004, 'colsample_bylevel': 0.30000000000000004, 'colsample_bynode': 0.6000000000000001}. Best is trial 22 with value: 0.5688307497754772.\u001b[0m\n",
      "\u001b[32m[I 2023-01-11 19:18:48,112]\u001b[0m Trial 48 finished with value: 0.14015934351737128 and parameters: {'n_estimators': 1400, 'learning_rate': 0.005, 'max_depth': 26, 'lambda': 2.4162546541944385, 'alpha': 0.006477644570622283, 'min_child_weight': 5, 'gamma': 12, 'colsample_bytree': 0.0, 'colsample_bylevel': 0.4, 'colsample_bynode': 0.5}. Best is trial 22 with value: 0.5688307497754772.\u001b[0m\n",
      "\u001b[32m[I 2023-01-11 19:18:55,286]\u001b[0m Trial 49 finished with value: 0.33718275633927314 and parameters: {'n_estimators': 1850, 'learning_rate': 0.01, 'max_depth': 15, 'lambda': 0.5273764166351221, 'alpha': 0.15810093343736703, 'min_child_weight': 12, 'gamma': 6, 'colsample_bytree': 0.5, 'colsample_bylevel': 0.2, 'colsample_bynode': 0.7000000000000001}. Best is trial 22 with value: 0.5688307497754772.\u001b[0m\n"
     ]
    }
   ],
   "source": [
    "blood_study = optuna.create_study(direction=direction, study_name=\"Blood_Regressor\")\n",
    "func = lambda trial: objective(trial, blood_X, blood_y)\n",
    "blood_study.optimize(func, n_trials=n_trials)"
   ]
  },
  {
   "cell_type": "code",
   "execution_count": 25,
   "metadata": {},
   "outputs": [
    {
     "name": "stdout",
     "output_type": "stream",
     "text": [
      "Blood tuning result:\n",
      "Best value: 0.56883\n",
      "Best params:\n",
      "\t'n_estimators': 1700,\n",
      "\t'learning_rate': 0.026000000000000002,\n",
      "\t'max_depth': 26,\n",
      "\t'lambda': 0.0022106369528429484,\n",
      "\t'alpha': 0.9133162515639958,\n",
      "\t'min_child_weight': 18,\n",
      "\t'gamma': 9,\n",
      "\t'colsample_bytree': 0.9,\n",
      "\t'colsample_bylevel': 0.6000000000000001,\n",
      "\t'colsample_bynode': 0.30000000000000004,\n"
     ]
    }
   ],
   "source": [
    "print(\"Blood tuning result:\")\n",
    "print(f\"Best value: {blood_study.best_value:.5f}\")\n",
    "print(f\"Best params:\")\n",
    "\n",
    "for key, value in blood_study.best_params.items():\n",
    "    print(f\"\\t\\'{key}\\': {value},\")"
   ]
  },
  {
   "cell_type": "code",
   "execution_count": 26,
   "metadata": {},
   "outputs": [
    {
     "name": "stderr",
     "output_type": "stream",
     "text": [
      "\u001b[32m[I 2023-01-11 19:18:55,373]\u001b[0m A new study created in memory with name: Brain_Regressor\u001b[0m\n",
      "\u001b[32m[I 2023-01-11 19:19:00,471]\u001b[0m Trial 0 finished with value: 0.32978042639279626 and parameters: {'n_estimators': 650, 'learning_rate': 0.025, 'max_depth': 20, 'lambda': 0.0013889738498531737, 'alpha': 0.05943888448988878, 'min_child_weight': 3, 'gamma': 3, 'colsample_bytree': 0.7000000000000001, 'colsample_bylevel': 0.6000000000000001, 'colsample_bynode': 0.5}. Best is trial 0 with value: 0.32978042639279626.\u001b[0m\n",
      "\u001b[32m[I 2023-01-11 19:19:13,459]\u001b[0m Trial 1 finished with value: 0.4812016513535243 and parameters: {'n_estimators': 800, 'learning_rate': 0.009000000000000001, 'max_depth': 26, 'lambda': 0.0035178551496513983, 'alpha': 0.011806660160022906, 'min_child_weight': 1, 'gamma': 20, 'colsample_bytree': 0.7000000000000001, 'colsample_bylevel': 0.8, 'colsample_bynode': 0.8}. Best is trial 1 with value: 0.4812016513535243.\u001b[0m\n",
      "\u001b[32m[I 2023-01-11 19:19:18,297]\u001b[0m Trial 2 finished with value: 0.510689485985685 and parameters: {'n_estimators': 2950, 'learning_rate': 0.026000000000000002, 'max_depth': 19, 'lambda': 0.01406132225943624, 'alpha': 0.0016309511209608922, 'min_child_weight': 9, 'gamma': 7, 'colsample_bytree': 0.30000000000000004, 'colsample_bylevel': 0.6000000000000001, 'colsample_bynode': 0.1}. Best is trial 2 with value: 0.510689485985685.\u001b[0m\n",
      "\u001b[32m[I 2023-01-11 19:19:20,876]\u001b[0m Trial 3 finished with value: 0.39119876816988997 and parameters: {'n_estimators': 700, 'learning_rate': 0.024, 'max_depth': 21, 'lambda': 0.01267263977281487, 'alpha': 0.006200788198403283, 'min_child_weight': 30, 'gamma': 0, 'colsample_bytree': 0.7000000000000001, 'colsample_bylevel': 0.1, 'colsample_bynode': 0.7000000000000001}. Best is trial 2 with value: 0.510689485985685.\u001b[0m\n",
      "\u001b[32m[I 2023-01-11 19:19:23,412]\u001b[0m Trial 4 finished with value: 0.4313629349307512 and parameters: {'n_estimators': 500, 'learning_rate': 0.021, 'max_depth': 10, 'lambda': 0.08357561571477551, 'alpha': 0.4082505219595188, 'min_child_weight': 12, 'gamma': 12, 'colsample_bytree': 0.6000000000000001, 'colsample_bylevel': 0.5, 'colsample_bynode': 0.5}. Best is trial 2 with value: 0.510689485985685.\u001b[0m\n",
      "\u001b[32m[I 2023-01-11 19:19:26,696]\u001b[0m Trial 5 finished with value: 0.40800159721900114 and parameters: {'n_estimators': 650, 'learning_rate': 0.017, 'max_depth': 27, 'lambda': 8.223869912552503, 'alpha': 3.626722929394331, 'min_child_weight': 23, 'gamma': 13, 'colsample_bytree': 0.6000000000000001, 'colsample_bylevel': 0.8, 'colsample_bynode': 0.4}. Best is trial 2 with value: 0.510689485985685.\u001b[0m\n",
      "\u001b[32m[I 2023-01-11 19:19:29,502]\u001b[0m Trial 6 finished with value: 0.35251757344211454 and parameters: {'n_estimators': 850, 'learning_rate': 0.013000000000000001, 'max_depth': 26, 'lambda': 0.06274787700975215, 'alpha': 0.01844433316305011, 'min_child_weight': 30, 'gamma': 3, 'colsample_bytree': 0.2, 'colsample_bylevel': 0.1, 'colsample_bynode': 0.6000000000000001}. Best is trial 2 with value: 0.510689485985685.\u001b[0m\n",
      "\u001b[32m[I 2023-01-11 19:19:35,793]\u001b[0m Trial 7 finished with value: 0.3888204312257809 and parameters: {'n_estimators': 2000, 'learning_rate': 0.011, 'max_depth': 29, 'lambda': 0.017481784459277967, 'alpha': 0.007602462229759906, 'min_child_weight': 19, 'gamma': 14, 'colsample_bytree': 0.30000000000000004, 'colsample_bylevel': 0.5, 'colsample_bynode': 0.8}. Best is trial 2 with value: 0.510689485985685.\u001b[0m\n",
      "\u001b[32m[I 2023-01-11 19:19:40,840]\u001b[0m Trial 8 finished with value: 0.3644507527609191 and parameters: {'n_estimators': 1250, 'learning_rate': 0.008, 'max_depth': 5, 'lambda': 0.5304847129074401, 'alpha': 0.0019961200764579586, 'min_child_weight': 4, 'gamma': 6, 'colsample_bytree': 0.8, 'colsample_bylevel': 0.5, 'colsample_bynode': 0.8}. Best is trial 2 with value: 0.510689485985685.\u001b[0m\n",
      "\u001b[32m[I 2023-01-11 19:19:48,507]\u001b[0m Trial 9 finished with value: 0.3927653039416675 and parameters: {'n_estimators': 2400, 'learning_rate': 0.015, 'max_depth': 29, 'lambda': 0.40356199745725124, 'alpha': 0.16609294394573987, 'min_child_weight': 3, 'gamma': 18, 'colsample_bytree': 0.5, 'colsample_bylevel': 0.4, 'colsample_bynode': 0.5}. Best is trial 2 with value: 0.510689485985685.\u001b[0m\n",
      "\u001b[32m[I 2023-01-11 19:19:51,460]\u001b[0m Trial 10 finished with value: 0.2805171136779163 and parameters: {'n_estimators': 2950, 'learning_rate': 0.029, 'max_depth': 14, 'lambda': 3.4677528541948135, 'alpha': 0.0011653090258536263, 'min_child_weight': 10, 'gamma': 7, 'colsample_bytree': 0.0, 'colsample_bylevel': 1.0, 'colsample_bynode': 0.0}. Best is trial 2 with value: 0.510689485985685.\u001b[0m\n",
      "\u001b[32m[I 2023-01-11 19:20:00,066]\u001b[0m Trial 11 finished with value: 0.3741332717487452 and parameters: {'n_estimators': 1550, 'learning_rate': 0.005, 'max_depth': 20, 'lambda': 0.0012043368712182367, 'alpha': 0.02203430626175422, 'min_child_weight': 10, 'gamma': 20, 'colsample_bytree': 1.0, 'colsample_bylevel': 0.8, 'colsample_bynode': 1.0}. Best is trial 2 with value: 0.510689485985685.\u001b[0m\n",
      "\u001b[32m[I 2023-01-11 19:20:01,191]\u001b[0m Trial 12 finished with value: 0.3043019949068325 and parameters: {'n_estimators': 100, 'learning_rate': 0.03, 'max_depth': 22, 'lambda': 0.006015264766671425, 'alpha': 0.003417568852819219, 'min_child_weight': 7, 'gamma': 10, 'colsample_bytree': 0.4, 'colsample_bylevel': 0.8, 'colsample_bynode': 0.1}. Best is trial 2 with value: 0.510689485985685.\u001b[0m\n",
      "\u001b[32m[I 2023-01-11 19:20:08,159]\u001b[0m Trial 13 finished with value: 0.3869192425171454 and parameters: {'n_estimators': 2700, 'learning_rate': 0.02, 'max_depth': 15, 'lambda': 0.004710750098822642, 'alpha': 0.0011589453470982503, 'min_child_weight': 1, 'gamma': 16, 'colsample_bytree': 0.1, 'colsample_bylevel': 1.0, 'colsample_bynode': 0.30000000000000004}. Best is trial 2 with value: 0.510689485985685.\u001b[0m\n",
      "\u001b[32m[I 2023-01-11 19:20:14,461]\u001b[0m Trial 14 finished with value: 0.45716909738080985 and parameters: {'n_estimators': 1700, 'learning_rate': 0.008, 'max_depth': 23, 'lambda': 0.02772837970592861, 'alpha': 0.01861873505199678, 'min_child_weight': 15, 'gamma': 9, 'colsample_bytree': 1.0, 'colsample_bylevel': 0.7000000000000001, 'colsample_bynode': 0.2}. Best is trial 2 with value: 0.510689485985685.\u001b[0m\n",
      "\u001b[32m[I 2023-01-11 19:20:16,089]\u001b[0m Trial 15 finished with value: -0.00548411531389803 and parameters: {'n_estimators': 2200, 'learning_rate': 0.025, 'max_depth': 0, 'lambda': 0.003585586694719399, 'alpha': 1.1826689339249101, 'min_child_weight': 7, 'gamma': 6, 'colsample_bytree': 0.4, 'colsample_bylevel': 0.30000000000000004, 'colsample_bynode': 1.0}. Best is trial 2 with value: 0.510689485985685.\u001b[0m\n",
      "\u001b[32m[I 2023-01-11 19:20:21,683]\u001b[0m Trial 16 finished with value: 0.5551283748613958 and parameters: {'n_estimators': 1200, 'learning_rate': 0.02, 'max_depth': 11, 'lambda': 0.36716989542573114, 'alpha': 0.07744820876094145, 'min_child_weight': 6, 'gamma': 16, 'colsample_bytree': 0.8, 'colsample_bylevel': 0.30000000000000004, 'colsample_bynode': 0.0}. Best is trial 16 with value: 0.5551283748613958.\u001b[0m\n",
      "\u001b[32m[I 2023-01-11 19:20:27,651]\u001b[0m Trial 17 finished with value: 0.4656460641661119 and parameters: {'n_estimators': 1300, 'learning_rate': 0.021, 'max_depth': 10, 'lambda': 0.4074920333491805, 'alpha': 0.07471160543444362, 'min_child_weight': 14, 'gamma': 16, 'colsample_bytree': 0.9, 'colsample_bylevel': 0.30000000000000004, 'colsample_bynode': 0.0}. Best is trial 16 with value: 0.5551283748613958.\u001b[0m\n",
      "\u001b[32m[I 2023-01-11 19:20:32,411]\u001b[0m Trial 18 finished with value: 0.4251529549434089 and parameters: {'n_estimators': 1850, 'learning_rate': 0.027, 'max_depth': 16, 'lambda': 1.1603675789766443, 'alpha': 4.423432470340016, 'min_child_weight': 19, 'gamma': 8, 'colsample_bytree': 0.2, 'colsample_bylevel': 0.0, 'colsample_bynode': 0.2}. Best is trial 16 with value: 0.5551283748613958.\u001b[0m\n",
      "\u001b[32m[I 2023-01-11 19:20:39,092]\u001b[0m Trial 19 finished with value: 0.5417340893238174 and parameters: {'n_estimators': 1150, 'learning_rate': 0.018000000000000002, 'max_depth': 11, 'lambda': 0.16767416702129168, 'alpha': 0.39749932633071094, 'min_child_weight': 7, 'gamma': 11, 'colsample_bytree': 0.4, 'colsample_bylevel': 0.30000000000000004, 'colsample_bynode': 0.1}. Best is trial 16 with value: 0.5551283748613958.\u001b[0m\n",
      "\u001b[32m[I 2023-01-11 19:20:44,540]\u001b[0m Trial 20 finished with value: 0.48658408911118417 and parameters: {'n_estimators': 1150, 'learning_rate': 0.015, 'max_depth': 10, 'lambda': 0.1692102834661458, 'alpha': 0.39561109001567973, 'min_child_weight': 6, 'gamma': 12, 'colsample_bytree': 0.5, 'colsample_bylevel': 0.2, 'colsample_bynode': 0.30000000000000004}. Best is trial 16 with value: 0.5551283748613958.\u001b[0m\n",
      "\u001b[32m[I 2023-01-11 19:20:49,775]\u001b[0m Trial 21 finished with value: 0.44709508619762267 and parameters: {'n_estimators': 1150, 'learning_rate': 0.019, 'max_depth': 7, 'lambda': 0.21062366622386833, 'alpha': 1.1971141935381728, 'min_child_weight': 9, 'gamma': 15, 'colsample_bytree': 0.30000000000000004, 'colsample_bylevel': 0.30000000000000004, 'colsample_bynode': 0.1}. Best is trial 16 with value: 0.5551283748613958.\u001b[0m\n",
      "\u001b[32m[I 2023-01-11 19:20:53,358]\u001b[0m Trial 22 finished with value: 0.3940783861488434 and parameters: {'n_estimators': 1450, 'learning_rate': 0.022000000000000002, 'max_depth': 17, 'lambda': 1.090183713709058, 'alpha': 0.19473854533440763, 'min_child_weight': 12, 'gamma': 11, 'colsample_bytree': 0.4, 'colsample_bylevel': 0.4, 'colsample_bynode': 0.1}. Best is trial 16 with value: 0.5551283748613958.\u001b[0m\n",
      "\u001b[32m[I 2023-01-11 19:20:55,058]\u001b[0m Trial 23 finished with value: 0.2920518099871261 and parameters: {'n_estimators': 200, 'learning_rate': 0.017, 'max_depth': 13, 'lambda': 0.0628287459506824, 'alpha': 1.1136937662498063, 'min_child_weight': 6, 'gamma': 4, 'colsample_bytree': 0.2, 'colsample_bylevel': 0.6000000000000001, 'colsample_bynode': 0.0}. Best is trial 16 with value: 0.5551283748613958.\u001b[0m\n",
      "\u001b[32m[I 2023-01-11 19:20:58,673]\u001b[0m Trial 24 finished with value: 0.39454008190075124 and parameters: {'n_estimators': 950, 'learning_rate': 0.023000000000000003, 'max_depth': 5, 'lambda': 0.16237996236643445, 'alpha': 0.37476975795046524, 'min_child_weight': 9, 'gamma': 18, 'colsample_bytree': 0.30000000000000004, 'colsample_bylevel': 0.2, 'colsample_bynode': 0.2}. Best is trial 16 with value: 0.5551283748613958.\u001b[0m\n",
      "\u001b[32m[I 2023-01-11 19:21:02,609]\u001b[0m Trial 25 finished with value: 0.43471190289982486 and parameters: {'n_estimators': 2500, 'learning_rate': 0.027, 'max_depth': 18, 'lambda': 0.02381308065470154, 'alpha': 0.04279627130295342, 'min_child_weight': 18, 'gamma': 10, 'colsample_bytree': 0.5, 'colsample_bylevel': 0.4, 'colsample_bynode': 0.30000000000000004}. Best is trial 16 with value: 0.5551283748613958.\u001b[0m\n",
      "\u001b[32m[I 2023-01-11 19:21:09,565]\u001b[0m Trial 26 finished with value: 0.41292432883245545 and parameters: {'n_estimators': 2050, 'learning_rate': 0.018000000000000002, 'max_depth': 13, 'lambda': 1.2021496887202148, 'alpha': 8.697135759344453, 'min_child_weight': 12, 'gamma': 5, 'colsample_bytree': 0.8, 'colsample_bylevel': 0.6000000000000001, 'colsample_bynode': 0.1}. Best is trial 16 with value: 0.5551283748613958.\u001b[0m\n",
      "\u001b[32m[I 2023-01-11 19:21:12,801]\u001b[0m Trial 27 finished with value: 0.3631436909258324 and parameters: {'n_estimators': 1600, 'learning_rate': 0.028, 'max_depth': 8, 'lambda': 0.03564141668492247, 'alpha': 0.12356207375175972, 'min_child_weight': 5, 'gamma': 9, 'colsample_bytree': 0.6000000000000001, 'colsample_bylevel': 0.2, 'colsample_bynode': 0.0}. Best is trial 16 with value: 0.5551283748613958.\u001b[0m\n",
      "\u001b[32m[I 2023-01-11 19:21:15,461]\u001b[0m Trial 28 finished with value: -0.0033052086521925704 and parameters: {'n_estimators': 1000, 'learning_rate': 0.015, 'max_depth': 0, 'lambda': 0.009476989945965082, 'alpha': 0.619075098250574, 'min_child_weight': 8, 'gamma': 1, 'colsample_bytree': 0.0, 'colsample_bylevel': 0.4, 'colsample_bynode': 0.2}. Best is trial 16 with value: 0.5551283748613958.\u001b[0m\n",
      "\u001b[32m[I 2023-01-11 19:21:18,415]\u001b[0m Trial 29 finished with value: 0.44245935899233624 and parameters: {'n_estimators': 400, 'learning_rate': 0.026000000000000002, 'max_depth': 19, 'lambda': 2.302856173110781, 'alpha': 0.04083206805426151, 'min_child_weight': 3, 'gamma': 18, 'colsample_bytree': 0.8, 'colsample_bylevel': 0.7000000000000001, 'colsample_bynode': 0.1}. Best is trial 16 with value: 0.5551283748613958.\u001b[0m\n",
      "\u001b[32m[I 2023-01-11 19:21:23,004]\u001b[0m Trial 30 finished with value: 0.40977923636469404 and parameters: {'n_estimators': 1800, 'learning_rate': 0.023000000000000003, 'max_depth': 12, 'lambda': 0.28441426854826546, 'alpha': 0.003496723294746809, 'min_child_weight': 13, 'gamma': 14, 'colsample_bytree': 0.1, 'colsample_bylevel': 0.0, 'colsample_bynode': 0.4}. Best is trial 16 with value: 0.5551283748613958.\u001b[0m\n",
      "\u001b[32m[I 2023-01-11 19:21:29,150]\u001b[0m Trial 31 finished with value: 0.5371122953396219 and parameters: {'n_estimators': 1150, 'learning_rate': 0.016, 'max_depth': 11, 'lambda': 0.1287025300729266, 'alpha': 0.28963096919079245, 'min_child_weight': 5, 'gamma': 12, 'colsample_bytree': 0.5, 'colsample_bylevel': 0.2, 'colsample_bynode': 0.30000000000000004}. Best is trial 16 with value: 0.5551283748613958.\u001b[0m\n",
      "\u001b[32m[I 2023-01-11 19:21:37,527]\u001b[0m Trial 32 finished with value: 0.6063138109489656 and parameters: {'n_estimators': 1450, 'learning_rate': 0.013000000000000001, 'max_depth': 11, 'lambda': 0.1245428483067459, 'alpha': 0.20833503659100544, 'min_child_weight': 1, 'gamma': 12, 'colsample_bytree': 0.4, 'colsample_bylevel': 0.1, 'colsample_bynode': 0.4}. Best is trial 32 with value: 0.6063138109489656.\u001b[0m\n",
      "\u001b[32m[I 2023-01-11 19:21:44,570]\u001b[0m Trial 33 finished with value: 0.5098648338563573 and parameters: {'n_estimators': 1400, 'learning_rate': 0.013000000000000001, 'max_depth': 7, 'lambda': 0.11168934790939493, 'alpha': 0.2328844519793409, 'min_child_weight': 1, 'gamma': 13, 'colsample_bytree': 0.4, 'colsample_bylevel': 0.1, 'colsample_bynode': 0.4}. Best is trial 32 with value: 0.6063138109489656.\u001b[0m\n",
      "\u001b[32m[I 2023-01-11 19:21:49,349]\u001b[0m Trial 34 finished with value: 0.5782798001277528 and parameters: {'n_estimators': 1050, 'learning_rate': 0.013000000000000001, 'max_depth': 3, 'lambda': 0.6639026482325435, 'alpha': 0.10309080141327574, 'min_child_weight': 4, 'gamma': 11, 'colsample_bytree': 0.5, 'colsample_bylevel': 0.2, 'colsample_bynode': 0.30000000000000004}. Best is trial 32 with value: 0.6063138109489656.\u001b[0m\n",
      "\u001b[32m[I 2023-01-11 19:21:52,961]\u001b[0m Trial 35 finished with value: 0.41778351470934066 and parameters: {'n_estimators': 900, 'learning_rate': 0.012, 'max_depth': 3, 'lambda': 0.7273719128961013, 'alpha': 0.09958125433293243, 'min_child_weight': 1, 'gamma': 11, 'colsample_bytree': 0.6000000000000001, 'colsample_bylevel': 0.1, 'colsample_bynode': 0.4}. Best is trial 32 with value: 0.6063138109489656.\u001b[0m\n",
      "\u001b[32m[I 2023-01-11 19:21:56,031]\u001b[0m Trial 36 finished with value: 0.49490588114238776 and parameters: {'n_estimators': 700, 'learning_rate': 0.011, 'max_depth': 3, 'lambda': 0.2501455095195932, 'alpha': 0.06032558433462949, 'min_child_weight': 3, 'gamma': 16, 'colsample_bytree': 0.7000000000000001, 'colsample_bylevel': 0.30000000000000004, 'colsample_bynode': 0.6000000000000001}. Best is trial 32 with value: 0.6063138109489656.\u001b[0m\n",
      "\u001b[32m[I 2023-01-11 19:21:59,138]\u001b[0m Trial 37 finished with value: 0.45573251493252903 and parameters: {'n_estimators': 400, 'learning_rate': 0.019, 'max_depth': 9, 'lambda': 2.268027881459299, 'alpha': 0.11865758518104398, 'min_child_weight': 4, 'gamma': 14, 'colsample_bytree': 0.6000000000000001, 'colsample_bylevel': 0.0, 'colsample_bynode': 0.6000000000000001}. Best is trial 32 with value: 0.6063138109489656.\u001b[0m\n",
      "\u001b[32m[I 2023-01-11 19:22:03,585]\u001b[0m Trial 38 finished with value: 0.39157146285305955 and parameters: {'n_estimators': 1350, 'learning_rate': 0.014000000000000002, 'max_depth': 5, 'lambda': 0.04657201828872982, 'alpha': 0.7398589455230794, 'min_child_weight': 24, 'gamma': 9, 'colsample_bytree': 0.4, 'colsample_bylevel': 0.1, 'colsample_bynode': 0.2}. Best is trial 32 with value: 0.6063138109489656.\u001b[0m\n",
      "\u001b[32m[I 2023-01-11 19:22:09,009]\u001b[0m Trial 39 finished with value: 0.46808682461520934 and parameters: {'n_estimators': 1050, 'learning_rate': 0.011, 'max_depth': 3, 'lambda': 9.351184741959472, 'alpha': 0.03208773843608094, 'min_child_weight': 2, 'gamma': 11, 'colsample_bytree': 0.5, 'colsample_bylevel': 0.2, 'colsample_bynode': 0.4}. Best is trial 32 with value: 0.6063138109489656.\u001b[0m\n",
      "\u001b[32m[I 2023-01-11 19:22:13,043]\u001b[0m Trial 40 finished with value: 0.44278330472493516 and parameters: {'n_estimators': 600, 'learning_rate': 0.009000000000000001, 'max_depth': 12, 'lambda': 0.7465284541324644, 'alpha': 2.135801419861425, 'min_child_weight': 5, 'gamma': 13, 'colsample_bytree': 0.30000000000000004, 'colsample_bylevel': 0.30000000000000004, 'colsample_bynode': 0.30000000000000004}. Best is trial 32 with value: 0.6063138109489656.\u001b[0m\n",
      "\u001b[32m[I 2023-01-11 19:22:19,336]\u001b[0m Trial 41 finished with value: 0.43055004123345253 and parameters: {'n_estimators': 1100, 'learning_rate': 0.017, 'max_depth': 11, 'lambda': 0.09082637312246575, 'alpha': 0.30489453256157817, 'min_child_weight': 5, 'gamma': 12, 'colsample_bytree': 0.5, 'colsample_bylevel': 0.2, 'colsample_bynode': 0.30000000000000004}. Best is trial 32 with value: 0.6063138109489656.\u001b[0m\n",
      "\u001b[32m[I 2023-01-11 19:22:24,460]\u001b[0m Trial 42 finished with value: 0.4945197713765241 and parameters: {'n_estimators': 1250, 'learning_rate': 0.017, 'max_depth': 14, 'lambda': 0.4114116209650531, 'alpha': 0.570229435842184, 'min_child_weight': 7, 'gamma': 10, 'colsample_bytree': 0.5, 'colsample_bylevel': 0.1, 'colsample_bynode': 0.5}. Best is trial 32 with value: 0.6063138109489656.\u001b[0m\n",
      "\u001b[32m[I 2023-01-11 19:22:29,580]\u001b[0m Trial 43 finished with value: 0.5189451505508073 and parameters: {'n_estimators': 800, 'learning_rate': 0.016, 'max_depth': 8, 'lambda': 0.13350635225111224, 'alpha': 0.0788466070943279, 'min_child_weight': 3, 'gamma': 13, 'colsample_bytree': 0.7000000000000001, 'colsample_bylevel': 0.2, 'colsample_bynode': 0.4}. Best is trial 32 with value: 0.6063138109489656.\u001b[0m\n",
      "\u001b[32m[I 2023-01-11 19:22:36,737]\u001b[0m Trial 44 finished with value: 0.5119294297275279 and parameters: {'n_estimators': 1600, 'learning_rate': 0.013000000000000001, 'max_depth': 11, 'lambda': 0.2878085424429668, 'alpha': 0.17383723039558827, 'min_child_weight': 4, 'gamma': 15, 'colsample_bytree': 0.4, 'colsample_bylevel': 0.4, 'colsample_bynode': 0.5}. Best is trial 32 with value: 0.6063138109489656.\u001b[0m\n",
      "\u001b[32m[I 2023-01-11 19:22:42,367]\u001b[0m Trial 45 finished with value: 0.49503015796734307 and parameters: {'n_estimators': 1500, 'learning_rate': 0.019, 'max_depth': 6, 'lambda': 0.06878856131337549, 'alpha': 0.20587984898741754, 'min_child_weight': 11, 'gamma': 8, 'colsample_bytree': 0.6000000000000001, 'colsample_bylevel': 0.1, 'colsample_bynode': 0.0}. Best is trial 32 with value: 0.6063138109489656.\u001b[0m\n",
      "\u001b[32m[I 2023-01-11 19:22:48,957]\u001b[0m Trial 46 finished with value: 0.4335851776875135 and parameters: {'n_estimators': 1250, 'learning_rate': 0.016, 'max_depth': 15, 'lambda': 0.5637996081670333, 'alpha': 0.010993337672362368, 'min_child_weight': 2, 'gamma': 11, 'colsample_bytree': 0.7000000000000001, 'colsample_bylevel': 0.30000000000000004, 'colsample_bynode': 0.7000000000000001}. Best is trial 32 with value: 0.6063138109489656.\u001b[0m\n",
      "\u001b[32m[I 2023-01-11 19:22:53,931]\u001b[0m Trial 47 finished with value: 0.475832998614949 and parameters: {'n_estimators': 850, 'learning_rate': 0.01, 'max_depth': 9, 'lambda': 0.11227768335580904, 'alpha': 0.13839813248658317, 'min_child_weight': 8, 'gamma': 19, 'colsample_bytree': 0.6000000000000001, 'colsample_bylevel': 0.5, 'colsample_bynode': 0.2}. Best is trial 32 with value: 0.6063138109489656.\u001b[0m\n",
      "\u001b[32m[I 2023-01-11 19:22:59,010]\u001b[0m Trial 48 finished with value: 0.32971125137231255 and parameters: {'n_estimators': 1700, 'learning_rate': 0.014000000000000002, 'max_depth': 11, 'lambda': 4.936082363864632, 'alpha': 0.03135799467141356, 'min_child_weight': 27, 'gamma': 15, 'colsample_bytree': 0.9, 'colsample_bylevel': 0.0, 'colsample_bynode': 0.30000000000000004}. Best is trial 32 with value: 0.6063138109489656.\u001b[0m\n",
      "\u001b[32m[I 2023-01-11 19:23:05,718]\u001b[0m Trial 49 finished with value: 0.4432661169829529 and parameters: {'n_estimators': 1150, 'learning_rate': 0.006, 'max_depth': 24, 'lambda': 0.19396621214458573, 'alpha': 0.32543080805672675, 'min_child_weight': 6, 'gamma': 17, 'colsample_bytree': 0.4, 'colsample_bylevel': 0.2, 'colsample_bynode': 0.1}. Best is trial 32 with value: 0.6063138109489656.\u001b[0m\n"
     ]
    }
   ],
   "source": [
    "brain_study = optuna.create_study(direction=direction, study_name=\"Brain_Regressor\")\n",
    "func = lambda trial: objective(trial, brain_X, brain_y)\n",
    "brain_study.optimize(func, n_trials=n_trials)"
   ]
  },
  {
   "cell_type": "code",
   "execution_count": 27,
   "metadata": {},
   "outputs": [
    {
     "name": "stdout",
     "output_type": "stream",
     "text": [
      "Brain tuning result:\n",
      "Best value: 0.60631\n",
      "Best params:\n",
      "\t'n_estimators': 1450,\n",
      "\t'learning_rate': 0.013000000000000001,\n",
      "\t'max_depth': 11,\n",
      "\t'lambda': 0.1245428483067459,\n",
      "\t'alpha': 0.20833503659100544,\n",
      "\t'min_child_weight': 1,\n",
      "\t'gamma': 12,\n",
      "\t'colsample_bytree': 0.4,\n",
      "\t'colsample_bylevel': 0.1,\n",
      "\t'colsample_bynode': 0.4,\n"
     ]
    }
   ],
   "source": [
    "print(\"Brain tuning result:\")\n",
    "print(f\"Best value: {brain_study.best_value:.5f}\")\n",
    "print(f\"Best params:\")\n",
    "\n",
    "for key, value in brain_study.best_params.items():\n",
    "    print(f\"\\t\\'{key}\\': {value},\")"
   ]
  },
  {
   "cell_type": "code",
   "execution_count": 28,
   "metadata": {},
   "outputs": [
    {
     "name": "stderr",
     "output_type": "stream",
     "text": [
      "\u001b[32m[I 2023-01-11 19:23:05,805]\u001b[0m A new study created in memory with name: Ratio_Regressor\u001b[0m\n",
      "\u001b[32m[I 2023-01-11 19:23:08,802]\u001b[0m Trial 0 finished with value: -0.0034815830923528245 and parameters: {'n_estimators': 3000, 'learning_rate': 0.009000000000000001, 'max_depth': 0, 'lambda': 0.007632309746011552, 'alpha': 8.172215586698337, 'min_child_weight': 12, 'gamma': 2, 'colsample_bytree': 0.4, 'colsample_bylevel': 0.9, 'colsample_bynode': 0.5}. Best is trial 0 with value: -0.0034815830923528245.\u001b[0m\n",
      "\u001b[32m[I 2023-01-11 19:23:09,553]\u001b[0m Trial 1 finished with value: 0.2299909865012447 and parameters: {'n_estimators': 100, 'learning_rate': 0.026000000000000002, 'max_depth': 22, 'lambda': 0.36808734395247433, 'alpha': 0.10735847642067452, 'min_child_weight': 30, 'gamma': 16, 'colsample_bytree': 0.7000000000000001, 'colsample_bylevel': 0.2, 'colsample_bynode': 0.9}. Best is trial 1 with value: 0.2299909865012447.\u001b[0m\n",
      "\u001b[32m[I 2023-01-11 19:23:13,464]\u001b[0m Trial 2 finished with value: 0.31022333499542676 and parameters: {'n_estimators': 1400, 'learning_rate': 0.01, 'max_depth': 2, 'lambda': 0.0012152079983693477, 'alpha': 6.105695321743592, 'min_child_weight': 13, 'gamma': 5, 'colsample_bytree': 0.9, 'colsample_bylevel': 0.30000000000000004, 'colsample_bynode': 1.0}. Best is trial 2 with value: 0.31022333499542676.\u001b[0m\n",
      "\u001b[32m[I 2023-01-11 19:23:16,515]\u001b[0m Trial 3 finished with value: 0.31111831641721227 and parameters: {'n_estimators': 900, 'learning_rate': 0.012, 'max_depth': 21, 'lambda': 0.0013356954876652127, 'alpha': 4.18151510536478, 'min_child_weight': 19, 'gamma': 6, 'colsample_bytree': 0.2, 'colsample_bylevel': 0.9, 'colsample_bynode': 0.6000000000000001}. Best is trial 3 with value: 0.31111831641721227.\u001b[0m\n",
      "\u001b[32m[I 2023-01-11 19:23:20,910]\u001b[0m Trial 4 finished with value: 0.3393280050165943 and parameters: {'n_estimators': 950, 'learning_rate': 0.012, 'max_depth': 19, 'lambda': 0.2641625951495256, 'alpha': 3.2248035713257153, 'min_child_weight': 23, 'gamma': 4, 'colsample_bytree': 0.9, 'colsample_bylevel': 0.6000000000000001, 'colsample_bynode': 0.4}. Best is trial 4 with value: 0.3393280050165943.\u001b[0m\n",
      "\u001b[32m[I 2023-01-11 19:23:24,950]\u001b[0m Trial 5 finished with value: 0.16513398382095357 and parameters: {'n_estimators': 1250, 'learning_rate': 0.019, 'max_depth': 1, 'lambda': 0.07783393708915376, 'alpha': 0.44712076887245833, 'min_child_weight': 21, 'gamma': 11, 'colsample_bytree': 0.9, 'colsample_bylevel': 0.9, 'colsample_bynode': 0.0}. Best is trial 4 with value: 0.3393280050165943.\u001b[0m\n",
      "\u001b[32m[I 2023-01-11 19:23:28,037]\u001b[0m Trial 6 finished with value: 0.3488694917594983 and parameters: {'n_estimators': 600, 'learning_rate': 0.022000000000000002, 'max_depth': 24, 'lambda': 3.3622026164448604, 'alpha': 0.22720627471480392, 'min_child_weight': 11, 'gamma': 4, 'colsample_bytree': 0.4, 'colsample_bylevel': 0.9, 'colsample_bynode': 0.6000000000000001}. Best is trial 6 with value: 0.3488694917594983.\u001b[0m\n",
      "\u001b[32m[I 2023-01-11 19:23:28,471]\u001b[0m Trial 7 finished with value: 0.006617817327014141 and parameters: {'n_estimators': 50, 'learning_rate': 0.008, 'max_depth': 19, 'lambda': 0.7809164363918212, 'alpha': 0.4263021245190667, 'min_child_weight': 19, 'gamma': 16, 'colsample_bytree': 0.1, 'colsample_bylevel': 0.9, 'colsample_bynode': 0.0}. Best is trial 6 with value: 0.3488694917594983.\u001b[0m\n",
      "\u001b[32m[I 2023-01-11 19:23:29,836]\u001b[0m Trial 8 finished with value: -0.004559984745631285 and parameters: {'n_estimators': 2150, 'learning_rate': 0.029, 'max_depth': 0, 'lambda': 0.0012676409274805986, 'alpha': 0.1567409694294791, 'min_child_weight': 4, 'gamma': 12, 'colsample_bytree': 0.5, 'colsample_bylevel': 0.8, 'colsample_bynode': 0.30000000000000004}. Best is trial 6 with value: 0.3488694917594983.\u001b[0m\n",
      "\u001b[32m[I 2023-01-11 19:23:32,095]\u001b[0m Trial 9 finished with value: 0.3181035187741535 and parameters: {'n_estimators': 2950, 'learning_rate': 0.029, 'max_depth': 14, 'lambda': 0.01342063550123588, 'alpha': 0.22243870404679061, 'min_child_weight': 17, 'gamma': 20, 'colsample_bytree': 0.9, 'colsample_bylevel': 0.5, 'colsample_bynode': 0.9}. Best is trial 6 with value: 0.3488694917594983.\u001b[0m\n",
      "\u001b[32m[I 2023-01-11 19:23:37,904]\u001b[0m Trial 10 finished with value: 0.36012937937066225 and parameters: {'n_estimators': 600, 'learning_rate': 0.02, 'max_depth': 30, 'lambda': 8.508500197990815, 'alpha': 0.0033850930239936725, 'min_child_weight': 1, 'gamma': 0, 'colsample_bytree': 0.30000000000000004, 'colsample_bylevel': 0.0, 'colsample_bynode': 0.7000000000000001}. Best is trial 10 with value: 0.36012937937066225.\u001b[0m\n",
      "\u001b[32m[I 2023-01-11 19:23:43,274]\u001b[0m Trial 11 finished with value: 0.33949534995613995 and parameters: {'n_estimators': 600, 'learning_rate': 0.019, 'max_depth': 30, 'lambda': 8.350825061992717, 'alpha': 0.0026537723585523085, 'min_child_weight': 1, 'gamma': 0, 'colsample_bytree': 0.30000000000000004, 'colsample_bylevel': 0.0, 'colsample_bynode': 0.7000000000000001}. Best is trial 10 with value: 0.36012937937066225.\u001b[0m\n",
      "\u001b[32m[I 2023-01-11 19:23:45,843]\u001b[0m Trial 12 finished with value: 0.1416665454389931 and parameters: {'n_estimators': 2000, 'learning_rate': 0.024, 'max_depth': 30, 'lambda': 9.953069814570078, 'alpha': 0.006048351092499277, 'min_child_weight': 9, 'gamma': 0, 'colsample_bytree': 0.0, 'colsample_bylevel': 0.0, 'colsample_bynode': 0.7000000000000001}. Best is trial 10 with value: 0.36012937937066225.\u001b[0m\n",
      "\u001b[32m[I 2023-01-11 19:23:48,417]\u001b[0m Trial 13 finished with value: 0.3237470557647245 and parameters: {'n_estimators': 450, 'learning_rate': 0.022000000000000002, 'max_depth': 26, 'lambda': 2.5648029238830437, 'alpha': 0.012907165857912933, 'min_child_weight': 7, 'gamma': 8, 'colsample_bytree': 0.6000000000000001, 'colsample_bylevel': 0.6000000000000001, 'colsample_bynode': 0.30000000000000004}. Best is trial 10 with value: 0.36012937937066225.\u001b[0m\n",
      "\u001b[32m[I 2023-01-11 19:23:56,687]\u001b[0m Trial 14 finished with value: 0.3255957740197794 and parameters: {'n_estimators': 1850, 'learning_rate': 0.016, 'max_depth': 13, 'lambda': 1.9352689942391805, 'alpha': 0.02452454393617935, 'min_child_weight': 1, 'gamma': 3, 'colsample_bytree': 0.4, 'colsample_bylevel': 0.30000000000000004, 'colsample_bynode': 0.8}. Best is trial 10 with value: 0.36012937937066225.\u001b[0m\n",
      "\u001b[32m[I 2023-01-11 19:24:00,405]\u001b[0m Trial 15 finished with value: 0.2927642745464253 and parameters: {'n_estimators': 550, 'learning_rate': 0.017, 'max_depth': 26, 'lambda': 2.357606019827099, 'alpha': 0.045448373343858865, 'min_child_weight': 7, 'gamma': 8, 'colsample_bytree': 0.2, 'colsample_bylevel': 0.7000000000000001, 'colsample_bynode': 0.5}. Best is trial 10 with value: 0.36012937937066225.\u001b[0m\n",
      "\u001b[32m[I 2023-01-11 19:24:03,176]\u001b[0m Trial 16 finished with value: 0.2904414205331426 and parameters: {'n_estimators': 1000, 'learning_rate': 0.022000000000000002, 'max_depth': 7, 'lambda': 0.046300959450373116, 'alpha': 0.0010128082990923093, 'min_child_weight': 12, 'gamma': 2, 'colsample_bytree': 0.7000000000000001, 'colsample_bylevel': 0.4, 'colsample_bynode': 0.6000000000000001}. Best is trial 10 with value: 0.36012937937066225.\u001b[0m\n",
      "\u001b[32m[I 2023-01-11 19:24:10,829]\u001b[0m Trial 17 finished with value: 0.3607247834100119 and parameters: {'n_estimators': 1600, 'learning_rate': 0.015, 'max_depth': 26, 'lambda': 4.844530452893094, 'alpha': 1.444115152188761, 'min_child_weight': 26, 'gamma': 7, 'colsample_bytree': 0.4, 'colsample_bylevel': 0.1, 'colsample_bynode': 0.2}. Best is trial 17 with value: 0.3607247834100119.\u001b[0m\n",
      "\u001b[32m[I 2023-01-11 19:24:19,934]\u001b[0m Trial 18 finished with value: 0.2455353135892231 and parameters: {'n_estimators': 1800, 'learning_rate': 0.005, 'max_depth': 28, 'lambda': 0.6882796118199774, 'alpha': 1.322974547732321, 'min_child_weight': 27, 'gamma': 8, 'colsample_bytree': 0.2, 'colsample_bylevel': 0.1, 'colsample_bynode': 0.2}. Best is trial 17 with value: 0.3607247834100119.\u001b[0m\n",
      "\u001b[32m[I 2023-01-11 19:24:25,166]\u001b[0m Trial 19 finished with value: 0.3014242555894783 and parameters: {'n_estimators': 2600, 'learning_rate': 0.015, 'max_depth': 10, 'lambda': 5.995122659188027, 'alpha': 0.041695118278681186, 'min_child_weight': 25, 'gamma': 13, 'colsample_bytree': 0.6000000000000001, 'colsample_bylevel': 0.1, 'colsample_bynode': 0.1}. Best is trial 17 with value: 0.3607247834100119.\u001b[0m\n",
      "\u001b[32m[I 2023-01-11 19:24:29,249]\u001b[0m Trial 20 finished with value: 0.2257189507569523 and parameters: {'n_estimators': 1550, 'learning_rate': 0.014000000000000002, 'max_depth': 17, 'lambda': 1.1016746134577184, 'alpha': 1.354368246442741, 'min_child_weight': 29, 'gamma': 14, 'colsample_bytree': 0.30000000000000004, 'colsample_bylevel': 0.2, 'colsample_bynode': 0.2}. Best is trial 17 with value: 0.3607247834100119.\u001b[0m\n",
      "\u001b[32m[I 2023-01-11 19:24:31,782]\u001b[0m Trial 21 finished with value: 0.3089964555291845 and parameters: {'n_estimators': 350, 'learning_rate': 0.021, 'max_depth': 24, 'lambda': 4.157867045393163, 'alpha': 0.8882142810888468, 'min_child_weight': 16, 'gamma': 6, 'colsample_bytree': 0.4, 'colsample_bylevel': 0.0, 'colsample_bynode': 0.7000000000000001}. Best is trial 17 with value: 0.3607247834100119.\u001b[0m\n",
      "\u001b[32m[I 2023-01-11 19:24:35,030]\u001b[0m Trial 22 finished with value: 0.32569476616915677 and parameters: {'n_estimators': 1200, 'learning_rate': 0.025, 'max_depth': 25, 'lambda': 3.969757229934578, 'alpha': 0.3630209105106265, 'min_child_weight': 5, 'gamma': 1, 'colsample_bytree': 0.5, 'colsample_bylevel': 1.0, 'colsample_bynode': 0.6000000000000001}. Best is trial 17 with value: 0.3607247834100119.\u001b[0m\n",
      "\u001b[32m[I 2023-01-11 19:24:37,765]\u001b[0m Trial 23 finished with value: 0.23849170269249945 and parameters: {'n_estimators': 700, 'learning_rate': 0.019, 'max_depth': 28, 'lambda': 1.6967337700273573, 'alpha': 0.05535007131010456, 'min_child_weight': 10, 'gamma': 4, 'colsample_bytree': 0.30000000000000004, 'colsample_bylevel': 0.1, 'colsample_bynode': 0.4}. Best is trial 17 with value: 0.3607247834100119.\u001b[0m\n",
      "\u001b[32m[I 2023-01-11 19:24:40,503]\u001b[0m Trial 24 finished with value: 0.17835048169974216 and parameters: {'n_estimators': 1600, 'learning_rate': 0.027, 'max_depth': 23, 'lambda': 0.26023774840446984, 'alpha': 0.012793727905885212, 'min_child_weight': 14, 'gamma': 9, 'colsample_bytree': 0.0, 'colsample_bylevel': 0.4, 'colsample_bynode': 0.8}. Best is trial 17 with value: 0.3607247834100119.\u001b[0m\n",
      "\u001b[32m[I 2023-01-11 19:24:43,054]\u001b[0m Trial 25 finished with value: 0.3025536946027968 and parameters: {'n_estimators': 300, 'learning_rate': 0.023000000000000003, 'max_depth': 27, 'lambda': 3.966048915191426, 'alpha': 0.7650593953128586, 'min_child_weight': 3, 'gamma': 6, 'colsample_bytree': 0.5, 'colsample_bylevel': 0.2, 'colsample_bynode': 0.4}. Best is trial 17 with value: 0.3607247834100119.\u001b[0m\n",
      "\u001b[32m[I 2023-01-11 19:24:46,550]\u001b[0m Trial 26 finished with value: 0.30199346666806154 and parameters: {'n_estimators': 2250, 'learning_rate': 0.02, 'max_depth': 20, 'lambda': 0.5343517017691711, 'alpha': 2.771513428037557, 'min_child_weight': 24, 'gamma': 3, 'colsample_bytree': 0.30000000000000004, 'colsample_bylevel': 0.7000000000000001, 'colsample_bynode': 0.8}. Best is trial 17 with value: 0.3607247834100119.\u001b[0m\n",
      "\u001b[32m[I 2023-01-11 19:24:51,418]\u001b[0m Trial 27 finished with value: 0.3141901866621143 and parameters: {'n_estimators': 800, 'learning_rate': 0.017, 'max_depth': 30, 'lambda': 0.15637936861112356, 'alpha': 0.0012911696640643176, 'min_child_weight': 9, 'gamma': 10, 'colsample_bytree': 0.1, 'colsample_bylevel': 0.30000000000000004, 'colsample_bynode': 0.6000000000000001}. Best is trial 17 with value: 0.3607247834100119.\u001b[0m\n",
      "\u001b[32m[I 2023-01-11 19:24:54,433]\u001b[0m Trial 28 finished with value: 0.27763864901364405 and parameters: {'n_estimators': 1150, 'learning_rate': 0.013000000000000001, 'max_depth': 16, 'lambda': 1.5033783362508295, 'alpha': 0.004161109070756071, 'min_child_weight': 21, 'gamma': 1, 'colsample_bytree': 0.6000000000000001, 'colsample_bylevel': 0.5, 'colsample_bynode': 0.5}. Best is trial 17 with value: 0.3607247834100119.\u001b[0m\n",
      "\u001b[32m[I 2023-01-11 19:24:58,517]\u001b[0m Trial 29 finished with value: 0.3815724229721075 and parameters: {'n_estimators': 1400, 'learning_rate': 0.018000000000000002, 'max_depth': 23, 'lambda': 5.599908028889678, 'alpha': 8.503428132294024, 'min_child_weight': 11, 'gamma': 3, 'colsample_bytree': 0.4, 'colsample_bylevel': 1.0, 'colsample_bynode': 0.30000000000000004}. Best is trial 29 with value: 0.3815724229721075.\u001b[0m\n",
      "\u001b[32m[I 2023-01-11 19:25:03,083]\u001b[0m Trial 30 finished with value: 0.307220822065364 and parameters: {'n_estimators': 2300, 'learning_rate': 0.01, 'max_depth': 28, 'lambda': 0.01731104549631361, 'alpha': 9.932576652326244, 'min_child_weight': 7, 'gamma': 2, 'colsample_bytree': 0.7000000000000001, 'colsample_bylevel': 1.0, 'colsample_bynode': 0.2}. Best is trial 29 with value: 0.3815724229721075.\u001b[0m\n",
      "\u001b[32m[I 2023-01-11 19:25:08,485]\u001b[0m Trial 31 finished with value: 0.3807339842970246 and parameters: {'n_estimators': 1400, 'learning_rate': 0.018000000000000002, 'max_depth': 24, 'lambda': 6.393445324740032, 'alpha': 2.058068912395681, 'min_child_weight': 11, 'gamma': 4, 'colsample_bytree': 0.4, 'colsample_bylevel': 1.0, 'colsample_bynode': 0.30000000000000004}. Best is trial 29 with value: 0.3815724229721075.\u001b[0m\n",
      "\u001b[32m[I 2023-01-11 19:25:11,444]\u001b[0m Trial 32 finished with value: 0.27357575230672915 and parameters: {'n_estimators': 1350, 'learning_rate': 0.018000000000000002, 'max_depth': 22, 'lambda': 6.970999670075833, 'alpha': 2.0213658707615902, 'min_child_weight': 14, 'gamma': 7, 'colsample_bytree': 0.4, 'colsample_bylevel': 1.0, 'colsample_bynode': 0.30000000000000004}. Best is trial 29 with value: 0.3815724229721075.\u001b[0m\n",
      "\u001b[32m[I 2023-01-11 19:25:15,337]\u001b[0m Trial 33 finished with value: 0.2813849079244216 and parameters: {'n_estimators': 1700, 'learning_rate': 0.015, 'max_depth': 23, 'lambda': 5.680939749223785, 'alpha': 5.403046798760926, 'min_child_weight': 18, 'gamma': 3, 'colsample_bytree': 0.4, 'colsample_bylevel': 0.7000000000000001, 'colsample_bynode': 0.1}. Best is trial 29 with value: 0.3815724229721075.\u001b[0m\n",
      "\u001b[32m[I 2023-01-11 19:25:18,923]\u001b[0m Trial 34 finished with value: 0.2556043251160979 and parameters: {'n_estimators': 1500, 'learning_rate': 0.016, 'max_depth': 26, 'lambda': 8.980451600121338, 'alpha': 6.602919827660543, 'min_child_weight': 15, 'gamma': 5, 'colsample_bytree': 0.5, 'colsample_bylevel': 0.8, 'colsample_bynode': 0.1}. Best is trial 29 with value: 0.3815724229721075.\u001b[0m\n",
      "\u001b[32m[I 2023-01-11 19:25:23,165]\u001b[0m Trial 35 finished with value: 0.3005947963788708 and parameters: {'n_estimators': 1050, 'learning_rate': 0.02, 'max_depth': 21, 'lambda': 0.004202822691343899, 'alpha': 2.063386785836389, 'min_child_weight': 12, 'gamma': 1, 'colsample_bytree': 0.30000000000000004, 'colsample_bylevel': 0.1, 'colsample_bynode': 0.30000000000000004}. Best is trial 29 with value: 0.3815724229721075.\u001b[0m\n",
      "\u001b[32m[I 2023-01-11 19:25:28,206]\u001b[0m Trial 36 finished with value: 0.27235069260169353 and parameters: {'n_estimators': 1400, 'learning_rate': 0.012, 'max_depth': 18, 'lambda': 1.4504241969088303, 'alpha': 4.232321176384254, 'min_child_weight': 21, 'gamma': 5, 'colsample_bytree': 0.2, 'colsample_bylevel': 0.8, 'colsample_bynode': 0.4}. Best is trial 29 with value: 0.3815724229721075.\u001b[0m\n",
      "\u001b[32m[I 2023-01-11 19:25:32,443]\u001b[0m Trial 37 finished with value: 0.24119458922053855 and parameters: {'n_estimators': 1950, 'learning_rate': 0.017, 'max_depth': 28, 'lambda': 3.0660887490751905, 'alpha': 9.070053826438652, 'min_child_weight': 5, 'gamma': 0, 'colsample_bytree': 0.1, 'colsample_bylevel': 1.0, 'colsample_bynode': 0.2}. Best is trial 29 with value: 0.3815724229721075.\u001b[0m\n",
      "\u001b[32m[I 2023-01-11 19:25:36,927]\u001b[0m Trial 38 finished with value: 0.3499144021096087 and parameters: {'n_estimators': 2500, 'learning_rate': 0.018000000000000002, 'max_depth': 21, 'lambda': 0.9472025978087834, 'alpha': 0.657198220535411, 'min_child_weight': 28, 'gamma': 5, 'colsample_bytree': 0.5, 'colsample_bylevel': 0.9, 'colsample_bynode': 1.0}. Best is trial 29 with value: 0.3815724229721075.\u001b[0m\n",
      "\u001b[32m[I 2023-01-11 19:25:38,318]\u001b[0m Trial 39 finished with value: 0.21719842763858876 and parameters: {'n_estimators': 200, 'learning_rate': 0.014000000000000002, 'max_depth': 4, 'lambda': 0.4229277464230454, 'alpha': 0.08430725776286187, 'min_child_weight': 8, 'gamma': 3, 'colsample_bytree': 0.2, 'colsample_bylevel': 0.0, 'colsample_bynode': 0.5}. Best is trial 29 with value: 0.3815724229721075.\u001b[0m\n",
      "\u001b[32m[I 2023-01-11 19:25:42,273]\u001b[0m Trial 40 finished with value: 0.3371471640303556 and parameters: {'n_estimators': 850, 'learning_rate': 0.02, 'max_depth': 24, 'lambda': 4.780109133262905, 'alpha': 2.561394542721091, 'min_child_weight': 11, 'gamma': 7, 'colsample_bytree': 0.8, 'colsample_bylevel': 0.30000000000000004, 'colsample_bynode': 0.1}. Best is trial 29 with value: 0.3815724229721075.\u001b[0m\n",
      "\u001b[32m[I 2023-01-11 19:25:46,292]\u001b[0m Trial 41 finished with value: 0.24998712421383903 and parameters: {'n_estimators': 2600, 'learning_rate': 0.018000000000000002, 'max_depth': 21, 'lambda': 0.973790709893481, 'alpha': 0.884766922399355, 'min_child_weight': 29, 'gamma': 5, 'colsample_bytree': 0.4, 'colsample_bylevel': 0.9, 'colsample_bynode': 1.0}. Best is trial 29 with value: 0.3815724229721075.\u001b[0m\n",
      "\u001b[32m[I 2023-01-11 19:25:51,120]\u001b[0m Trial 42 finished with value: 0.24097676386240918 and parameters: {'n_estimators': 2500, 'learning_rate': 0.016, 'max_depth': 22, 'lambda': 2.3936594821564516, 'alpha': 0.5073775856349115, 'min_child_weight': 26, 'gamma': 4, 'colsample_bytree': 0.5, 'colsample_bylevel': 0.9, 'colsample_bynode': 1.0}. Best is trial 29 with value: 0.3815724229721075.\u001b[0m\n",
      "\u001b[32m[I 2023-01-11 19:25:54,140]\u001b[0m Trial 43 finished with value: 0.277986029378298 and parameters: {'n_estimators': 2950, 'learning_rate': 0.021, 'max_depth': 19, 'lambda': 6.086707777208357, 'alpha': 3.483257616248611, 'min_child_weight': 30, 'gamma': 2, 'colsample_bytree': 0.6000000000000001, 'colsample_bylevel': 1.0, 'colsample_bynode': 0.9}. Best is trial 29 with value: 0.3815724229721075.\u001b[0m\n",
      "\u001b[32m[I 2023-01-11 19:25:58,328]\u001b[0m Trial 44 finished with value: 0.306683205691359 and parameters: {'n_estimators': 1300, 'learning_rate': 0.018000000000000002, 'max_depth': 25, 'lambda': 8.520299639900102, 'alpha': 1.4771834919951579, 'min_child_weight': 27, 'gamma': 7, 'colsample_bytree': 0.30000000000000004, 'colsample_bylevel': 0.9, 'colsample_bynode': 0.4}. Best is trial 29 with value: 0.3815724229721075.\u001b[0m\n",
      "\u001b[32m[I 2023-01-11 19:26:04,497]\u001b[0m Trial 45 finished with value: 0.25263381544404473 and parameters: {'n_estimators': 2800, 'learning_rate': 0.01, 'max_depth': 29, 'lambda': 2.9508164278171445, 'alpha': 0.18731838042675872, 'min_child_weight': 22, 'gamma': 20, 'colsample_bytree': 0.4, 'colsample_bylevel': 0.8, 'colsample_bynode': 0.30000000000000004}. Best is trial 29 with value: 0.3815724229721075.\u001b[0m\n",
      "\u001b[32m[I 2023-01-11 19:26:06,504]\u001b[0m Trial 46 finished with value: 0.29003373588358433 and parameters: {'n_estimators': 2150, 'learning_rate': 0.019, 'max_depth': 26, 'lambda': 1.1285832800706204, 'alpha': 0.30750667613519866, 'min_child_weight': 19, 'gamma': 4, 'colsample_bytree': 0.5, 'colsample_bylevel': 0.6000000000000001, 'colsample_bynode': 0.9}. Best is trial 29 with value: 0.3815724229721075.\u001b[0m\n",
      "\u001b[32m[I 2023-01-11 19:26:14,438]\u001b[0m Trial 47 finished with value: 0.3253982576369715 and parameters: {'n_estimators': 1700, 'learning_rate': 0.012, 'max_depth': 12, 'lambda': 4.921200500616593, 'alpha': 0.6074430689919248, 'min_child_weight': 3, 'gamma': 6, 'colsample_bytree': 0.5, 'colsample_bylevel': 1.0, 'colsample_bynode': 0.0}. Best is trial 29 with value: 0.3815724229721075.\u001b[0m\n",
      "\u001b[32m[I 2023-01-11 19:26:18,161]\u001b[0m Trial 48 finished with value: 0.2912340400803627 and parameters: {'n_estimators': 1050, 'learning_rate': 0.015, 'max_depth': 23, 'lambda': 0.08773624014273652, 'alpha': 4.823948333278115, 'min_child_weight': 28, 'gamma': 10, 'colsample_bytree': 0.4, 'colsample_bylevel': 0.8, 'colsample_bynode': 0.30000000000000004}. Best is trial 29 with value: 0.3815724229721075.\u001b[0m\n",
      "\u001b[32m[I 2023-01-11 19:26:21,380]\u001b[0m Trial 49 finished with value: 0.30240651795110807 and parameters: {'n_estimators': 1450, 'learning_rate': 0.023000000000000003, 'max_depth': 27, 'lambda': 0.2747374975384547, 'alpha': 0.10703128847172745, 'min_child_weight': 25, 'gamma': 2, 'colsample_bytree': 1.0, 'colsample_bylevel': 0.9, 'colsample_bynode': 0.2}. Best is trial 29 with value: 0.3815724229721075.\u001b[0m\n"
     ]
    }
   ],
   "source": [
    "ratio_study = optuna.create_study(direction=direction, study_name=\"Ratio_Regressor\")\n",
    "func = lambda trial: objective(trial, ratio_X, ratio_y)\n",
    "ratio_study.optimize(func, n_trials=n_trials)"
   ]
  },
  {
   "cell_type": "code",
   "execution_count": 29,
   "metadata": {},
   "outputs": [
    {
     "name": "stdout",
     "output_type": "stream",
     "text": [
      "Ratio tuning result:\n",
      "Best value: 0.38157\n",
      "Best params:\n",
      "\t'n_estimators': 1400,\n",
      "\t'learning_rate': 0.018000000000000002,\n",
      "\t'max_depth': 23,\n",
      "\t'lambda': 5.599908028889678,\n",
      "\t'alpha': 8.503428132294024,\n",
      "\t'min_child_weight': 11,\n",
      "\t'gamma': 3,\n",
      "\t'colsample_bytree': 0.4,\n",
      "\t'colsample_bylevel': 1.0,\n",
      "\t'colsample_bynode': 0.30000000000000004,\n"
     ]
    }
   ],
   "source": [
    "print(\"Ratio tuning result:\")\n",
    "print(f\"Best value: {ratio_study.best_value:.5f}\")\n",
    "print(f\"Best params:\")\n",
    "\n",
    "for key, value in ratio_study.best_params.items():\n",
    "    print(f\"\\t\\'{key}\\': {value},\")"
   ]
  }
 ],
 "metadata": {
  "kernelspec": {
   "display_name": "BBB",
   "language": "python",
   "name": "python3"
  },
  "language_info": {
   "codemirror_mode": {
    "name": "ipython",
    "version": 3
   },
   "file_extension": ".py",
   "mimetype": "text/x-python",
   "name": "python",
   "nbconvert_exporter": "python",
   "pygments_lexer": "ipython3",
   "version": "3.7.12"
  },
  "orig_nbformat": 4,
  "vscode": {
   "interpreter": {
    "hash": "1e16bf243da0930d7340ce187bde8e3a4b0a6cf5e6333c4d640cd2c98ac77f14"
   }
  }
 },
 "nbformat": 4,
 "nbformat_minor": 2
}
