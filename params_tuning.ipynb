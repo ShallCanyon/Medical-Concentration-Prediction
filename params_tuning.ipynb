{
 "cells": [
  {
   "cell_type": "code",
   "execution_count": 1,
   "metadata": {},
   "outputs": [
    {
     "name": "stderr",
     "output_type": "stream",
     "text": [
      "c:\\Users\\80473\\anaconda3\\envs\\BBB\\lib\\site-packages\\tqdm\\auto.py:22: TqdmWarning: IProgress not found. Please update jupyter and ipywidgets. See https://ipywidgets.readthedocs.io/en/stable/user_install.html\n",
      "  from .autonotebook import tqdm as notebook_tqdm\n"
     ]
    }
   ],
   "source": [
    "import optuna\n",
    "import numpy as np\n",
    "from sklearn.metrics import mean_squared_error, r2_score\n",
    "from sklearn.model_selection import StratifiedKFold, train_test_split, KFold\n",
    "from xgboost.sklearn import XGBRegressor\n",
    "import pandas as pd\n",
    "# from lightgbm import LGBMRegressor\n",
    "import lightgbm as lgb\n",
    "from sklearn.preprocessing import MinMaxScaler"
   ]
  },
  {
   "cell_type": "code",
   "execution_count": 2,
   "metadata": {},
   "outputs": [],
   "source": [
    "def get_X_Y(csvfile):\n",
    "    df = pd.read_csv(csvfile)\n",
    "    X = df.drop(['SMILES', 'Blood', 'Brain', 'Ratio'], axis=1)\n",
    "    X = MinMaxScaler().fit_transform(X)\n",
    "    # print(len(X))\n",
    "    blood_y = df['Blood'].ravel()\n",
    "    brain_y = df['Brain'].ravel()\n",
    "    ratio_y = df['Ratio'].ravel()\n",
    "    SMILES = df['SMILES']\n",
    "    return pd.DataFrame(X), blood_y, brain_y, ratio_y, SMILES"
   ]
  },
  {
   "cell_type": "code",
   "execution_count": 3,
   "metadata": {},
   "outputs": [],
   "source": [
    "def objective(trial, X, y):\n",
    "    # XGB Params\n",
    "    # param_grid = {\n",
    "    #     \"n_estimators\": trial.suggest_int(\"n_estimators\", 50, 3000, step=50),\n",
    "    #     \"learning_rate\": trial.suggest_categorical('learning_rate',\n",
    "    #                                                [0.005, 0.008, 0.01, 0.012, 0.014, 0.016, 0.018, 0.02, 0.023, 0.025, 0.028, 0.03]),\n",
    "    #     \"max_depth\": trial.suggest_int(\"max_depth\", 0, 30),\n",
    "    #     'lambda': trial.suggest_loguniform('lambda', 1e-3, 10.0),\n",
    "    #     'alpha': trial.suggest_loguniform('alpha', 1e-3, 10.0),\n",
    "    #     \"min_child_weight\": trial.suggest_int(\"min_child_weight\", 1, 30),\n",
    "    #     'gamma': trial.suggest_int(\"gamma\", 0, 20, step=1),\n",
    "    #     'colsample_bytree': trial.suggest_float(\"colsample_bytree\", 0, 1, step=0.1),\n",
    "    #     'colsample_bylevel': trial.suggest_float(\"colsample_bylevel\", 0, 1, step=0.1),\n",
    "    #     'colsample_bynode': trial.suggest_float(\"colsample_bynode\", 0, 1, step=0.1),\n",
    "    # }\n",
    "    # LGBM params\n",
    "    param_grid = {\n",
    "        \"boosting_type\": trial.suggest_categorical('boosting_type', ['gbdt', 'dart']),\n",
    "        \"max_depth\": trial.suggest_int(\"max_depth\", 1, 30),\n",
    "        \"learning_rate\": trial.suggest_categorical('learning_rate',\n",
    "                                                   [0.005, 0.008, 0.01, 0.012, 0.014, 0.016, 0.018, 0.02, 0.023, 0.025, 0.028, 0.03]),\n",
    "        \"n_estimators\": trial.suggest_int(\"n_estimators\", 50, 3000, step=50),\n",
    "        \"objective\": trial.suggest_categorical('objective', ['regression']),\n",
    "        \"min_child_samples\": trial.suggest_int(\"min_child_samples\", 5, 30),\n",
    "        # 'colsample_bytree': trial.suggest_float(\"colsample_bytree\", 0, 1, step=0.1),\n",
    "        'reg_lambda': trial.suggest_loguniform('reg_lambda', 1e-3, 10.0),\n",
    "        'reg_alpha': trial.suggest_loguniform('reg_alpha', 1e-3, 10.0),\n",
    "        # 'feature_fraction': trial.suggest_categorical('feature_fraction', [0.5])\n",
    "        # 'verbose': trial.suggest_categorical('verbose', [-1])\n",
    "    }\n",
    "\n",
    "    cv = KFold(n_splits=5, shuffle=True)\n",
    "    \n",
    "    cv_scores = np.empty(5)\n",
    "    for idx, (train_idx, test_idx) in enumerate(cv.split(X, y)):\n",
    "        X_train, X_test = X.iloc[train_idx], X.iloc[test_idx]\n",
    "        y_train, y_test = y[train_idx], y[test_idx]\n",
    "\n",
    "        # model = XGBRegressor(**param_grid)\n",
    "        # model.fit(X_train, y_train, eval_set=[(X_test, y_test)], early_stopping_rounds=100, verbose=False)\n",
    "        model = lgb.sklearn.LGBMRegressor(**param_grid)\n",
    "        # callbacks = [lgb.early_stopping(100, verbose=0), lgb.log_evaluation(period=0)]\n",
    "        callbacks = [lgb.log_evaluation(period=0)]\n",
    "        model.fit(X_train, y_train, eval_set=[(X_test, y_test)], callbacks=callbacks)\n",
    "        preds = model.predict(X_test)\n",
    "        cv_scores[idx] = r2_score(y_test, preds)\n",
    "\n",
    "    return np.mean(cv_scores)"
   ]
  },
  {
   "cell_type": "code",
   "execution_count": 4,
   "metadata": {},
   "outputs": [
    {
     "name": "stderr",
     "output_type": "stream",
     "text": [
      "\u001b[32m[I 2022-12-30 16:44:04,402]\u001b[0m A new study created in memory with name: Blood_Regressor\u001b[0m\n",
      "\u001b[32m[I 2022-12-30 16:44:05,682]\u001b[0m Trial 0 finished with value: 0.26246424547614017 and parameters: {'boosting_type': 'gbdt', 'max_depth': 9, 'learning_rate': 0.028, 'n_estimators': 200, 'objective': 'regression', 'min_child_samples': 25, 'reg_lambda': 0.4610443495472666, 'reg_alpha': 0.9451403456552597}. Best is trial 0 with value: 0.26246424547614017.\u001b[0m\n",
      "\u001b[32m[I 2022-12-30 16:45:13,605]\u001b[0m Trial 1 finished with value: 0.26055649237261125 and parameters: {'boosting_type': 'dart', 'max_depth': 7, 'learning_rate': 0.005, 'n_estimators': 2950, 'objective': 'regression', 'min_child_samples': 7, 'reg_lambda': 4.624125493327024, 'reg_alpha': 2.160826177629117}. Best is trial 0 with value: 0.26246424547614017.\u001b[0m\n",
      "\u001b[32m[I 2022-12-30 16:45:15,225]\u001b[0m Trial 2 finished with value: 0.16085726900611713 and parameters: {'boosting_type': 'gbdt', 'max_depth': 7, 'learning_rate': 0.005, 'n_estimators': 300, 'objective': 'regression', 'min_child_samples': 24, 'reg_lambda': 0.24028708761592354, 'reg_alpha': 0.010182564993087267}. Best is trial 0 with value: 0.26246424547614017.\u001b[0m\n",
      "\u001b[32m[I 2022-12-30 16:45:49,881]\u001b[0m Trial 3 finished with value: -0.16394856799247695 and parameters: {'boosting_type': 'dart', 'max_depth': 10, 'learning_rate': 0.018, 'n_estimators': 1800, 'objective': 'regression', 'min_child_samples': 26, 'reg_lambda': 0.06799483837150498, 'reg_alpha': 0.6288610212892541}. Best is trial 0 with value: 0.26246424547614017.\u001b[0m\n",
      "\u001b[32m[I 2022-12-30 16:45:58,559]\u001b[0m Trial 4 finished with value: -0.5405204941452119 and parameters: {'boosting_type': 'gbdt', 'max_depth': 5, 'learning_rate': 0.01, 'n_estimators': 2150, 'objective': 'regression', 'min_child_samples': 28, 'reg_lambda': 7.078226842123351, 'reg_alpha': 0.0654230475422014}. Best is trial 0 with value: 0.26246424547614017.\u001b[0m\n",
      "\u001b[32m[I 2022-12-30 16:45:59,244]\u001b[0m Trial 5 finished with value: 0.13552822075014173 and parameters: {'boosting_type': 'dart', 'max_depth': 16, 'learning_rate': 0.012, 'n_estimators': 100, 'objective': 'regression', 'min_child_samples': 18, 'reg_lambda': 0.31003190930052943, 'reg_alpha': 3.366149729749673}. Best is trial 0 with value: 0.26246424547614017.\u001b[0m\n",
      "\u001b[32m[I 2022-12-30 16:46:00,820]\u001b[0m Trial 6 finished with value: -0.05421866423417896 and parameters: {'boosting_type': 'gbdt', 'max_depth': 4, 'learning_rate': 0.005, 'n_estimators': 450, 'objective': 'regression', 'min_child_samples': 21, 'reg_lambda': 0.7224863725763508, 'reg_alpha': 0.041975744418576294}. Best is trial 0 with value: 0.26246424547614017.\u001b[0m\n",
      "\u001b[32m[I 2022-12-30 16:46:06,661]\u001b[0m Trial 7 finished with value: 0.41426809747215776 and parameters: {'boosting_type': 'gbdt', 'max_depth': 3, 'learning_rate': 0.008, 'n_estimators': 2050, 'objective': 'regression', 'min_child_samples': 13, 'reg_lambda': 0.00816448264303434, 'reg_alpha': 0.06761901910033208}. Best is trial 7 with value: 0.41426809747215776.\u001b[0m\n",
      "\u001b[32m[I 2022-12-30 16:46:18,375]\u001b[0m Trial 8 finished with value: -0.45366845641175 and parameters: {'boosting_type': 'gbdt', 'max_depth': 24, 'learning_rate': 0.018, 'n_estimators': 850, 'objective': 'regression', 'min_child_samples': 11, 'reg_lambda': 0.03659884371234873, 'reg_alpha': 0.0014155285190761721}. Best is trial 7 with value: 0.41426809747215776.\u001b[0m\n",
      "\u001b[32m[I 2022-12-30 16:46:29,780]\u001b[0m Trial 9 finished with value: 0.4885449146719825 and parameters: {'boosting_type': 'gbdt', 'max_depth': 22, 'learning_rate': 0.018, 'n_estimators': 1450, 'objective': 'regression', 'min_child_samples': 6, 'reg_lambda': 0.003594925229822692, 'reg_alpha': 3.7553240432198303}. Best is trial 9 with value: 0.4885449146719825.\u001b[0m\n",
      "\u001b[32m[I 2022-12-30 16:46:56,571]\u001b[0m Trial 10 finished with value: 0.2781960914192635 and parameters: {'boosting_type': 'dart', 'max_depth': 30, 'learning_rate': 0.03, 'n_estimators': 1200, 'objective': 'regression', 'min_child_samples': 5, 'reg_lambda': 0.001101263759075637, 'reg_alpha': 9.400848103833702}. Best is trial 9 with value: 0.4885449146719825.\u001b[0m\n",
      "\u001b[32m[I 2022-12-30 16:47:16,831]\u001b[0m Trial 11 finished with value: -0.5028811611906963 and parameters: {'boosting_type': 'gbdt', 'max_depth': 17, 'learning_rate': 0.008, 'n_estimators': 2250, 'objective': 'regression', 'min_child_samples': 13, 'reg_lambda': 0.004720924847142775, 'reg_alpha': 0.3038250429408186}. Best is trial 9 with value: 0.4885449146719825.\u001b[0m\n",
      "\u001b[32m[I 2022-12-30 16:47:34,050]\u001b[0m Trial 12 finished with value: -0.7249760079079255 and parameters: {'boosting_type': 'gbdt', 'max_depth': 22, 'learning_rate': 0.02, 'n_estimators': 1500, 'objective': 'regression', 'min_child_samples': 12, 'reg_lambda': 0.010311265588831739, 'reg_alpha': 0.013652353323516355}. Best is trial 9 with value: 0.4885449146719825.\u001b[0m\n",
      "\u001b[32m[I 2022-12-30 16:47:37,684]\u001b[0m Trial 13 finished with value: -1.6881475092364913 and parameters: {'boosting_type': 'gbdt', 'max_depth': 1, 'learning_rate': 0.008, 'n_estimators': 2600, 'objective': 'regression', 'min_child_samples': 9, 'reg_lambda': 0.0012879520278399914, 'reg_alpha': 0.18196789149666526}. Best is trial 9 with value: 0.4885449146719825.\u001b[0m\n",
      "\u001b[32m[I 2022-12-30 16:47:52,732]\u001b[0m Trial 14 finished with value: -1.4028792901418932 and parameters: {'boosting_type': 'gbdt', 'max_depth': 21, 'learning_rate': 0.025, 'n_estimators': 1750, 'objective': 'regression', 'min_child_samples': 15, 'reg_lambda': 0.010547370557717355, 'reg_alpha': 0.015693714205567727}. Best is trial 9 with value: 0.4885449146719825.\u001b[0m\n",
      "\u001b[32m[I 2022-12-30 16:48:00,810]\u001b[0m Trial 15 finished with value: 0.1436609022043624 and parameters: {'boosting_type': 'gbdt', 'max_depth': 27, 'learning_rate': 0.016, 'n_estimators': 1100, 'objective': 'regression', 'min_child_samples': 17, 'reg_lambda': 0.004084838859615126, 'reg_alpha': 0.002373254043328459}. Best is trial 9 with value: 0.4885449146719825.\u001b[0m\n",
      "\u001b[32m[I 2022-12-30 16:48:18,204]\u001b[0m Trial 16 finished with value: 0.4368210836811488 and parameters: {'boosting_type': 'gbdt', 'max_depth': 13, 'learning_rate': 0.023, 'n_estimators': 2150, 'objective': 'regression', 'min_child_samples': 5, 'reg_lambda': 0.023662297634010586, 'reg_alpha': 0.12085439755348916}. Best is trial 9 with value: 0.4885449146719825.\u001b[0m\n",
      "\u001b[32m[I 2022-12-30 16:48:23,691]\u001b[0m Trial 17 finished with value: -0.52568375891932 and parameters: {'boosting_type': 'gbdt', 'max_depth': 13, 'learning_rate': 0.023, 'n_estimators': 2500, 'objective': 'regression', 'min_child_samples': 5, 'reg_lambda': 0.030102079519758535, 'reg_alpha': 9.78246578039744}. Best is trial 9 with value: 0.4885449146719825.\u001b[0m\n",
      "\u001b[32m[I 2022-12-30 16:49:00,308]\u001b[0m Trial 18 finished with value: 0.03229890921395149 and parameters: {'boosting_type': 'dart', 'max_depth': 19, 'learning_rate': 0.014, 'n_estimators': 1500, 'objective': 'regression', 'min_child_samples': 9, 'reg_lambda': 0.02517734913759612, 'reg_alpha': 2.4785764501229286}. Best is trial 9 with value: 0.4885449146719825.\u001b[0m\n",
      "\u001b[32m[I 2022-12-30 16:49:10,222]\u001b[0m Trial 19 finished with value: 0.2719210517421985 and parameters: {'boosting_type': 'gbdt', 'max_depth': 13, 'learning_rate': 0.023, 'n_estimators': 900, 'objective': 'regression', 'min_child_samples': 8, 'reg_lambda': 0.002422982516040072, 'reg_alpha': 0.25858283125164}. Best is trial 9 with value: 0.4885449146719825.\u001b[0m\n",
      "\u001b[32m[I 2022-12-30 16:49:37,028]\u001b[0m Trial 20 finished with value: -0.5374462586051538 and parameters: {'boosting_type': 'gbdt', 'max_depth': 25, 'learning_rate': 0.023, 'n_estimators': 1800, 'objective': 'regression', 'min_child_samples': 5, 'reg_lambda': 0.09970856391151015, 'reg_alpha': 0.004395727865071605}. Best is trial 9 with value: 0.4885449146719825.\u001b[0m\n",
      "\u001b[32m[I 2022-12-30 16:49:40,286]\u001b[0m Trial 21 finished with value: -1.7266203320074545 and parameters: {'boosting_type': 'gbdt', 'max_depth': 1, 'learning_rate': 0.008, 'n_estimators': 2100, 'objective': 'regression', 'min_child_samples': 11, 'reg_lambda': 0.010379679761352642, 'reg_alpha': 0.032146427283496024}. Best is trial 9 with value: 0.4885449146719825.\u001b[0m\n",
      "\u001b[32m[I 2022-12-30 16:50:00,360]\u001b[0m Trial 22 finished with value: -2.30848332411004 and parameters: {'boosting_type': 'gbdt', 'max_depth': 13, 'learning_rate': 0.018, 'n_estimators': 2450, 'objective': 'regression', 'min_child_samples': 15, 'reg_lambda': 0.004516850402030962, 'reg_alpha': 0.12194995576934606}. Best is trial 9 with value: 0.4885449146719825.\u001b[0m\n",
      "\u001b[32m[I 2022-12-30 16:50:14,482]\u001b[0m Trial 23 finished with value: 0.050148729651695124 and parameters: {'boosting_type': 'gbdt', 'max_depth': 19, 'learning_rate': 0.03, 'n_estimators': 2850, 'objective': 'regression', 'min_child_samples': 7, 'reg_lambda': 0.014981143700192254, 'reg_alpha': 0.6312354199040073}. Best is trial 9 with value: 0.4885449146719825.\u001b[0m\n",
      "\u001b[32m[I 2022-12-30 16:50:27,500]\u001b[0m Trial 24 finished with value: -0.8055821757924277 and parameters: {'boosting_type': 'gbdt', 'max_depth': 29, 'learning_rate': 0.028, 'n_estimators': 1950, 'objective': 'regression', 'min_child_samples': 21, 'reg_lambda': 0.002762628492704749, 'reg_alpha': 0.08667016709371136}. Best is trial 9 with value: 0.4885449146719825.\u001b[0m\n",
      "\u001b[32m[I 2022-12-30 16:50:40,269]\u001b[0m Trial 25 finished with value: -0.5855253978265827 and parameters: {'boosting_type': 'gbdt', 'max_depth': 11, 'learning_rate': 0.012, 'n_estimators': 1400, 'objective': 'regression', 'min_child_samples': 9, 'reg_lambda': 0.0546973217600778, 'reg_alpha': 0.027706288039895745}. Best is trial 9 with value: 0.4885449146719825.\u001b[0m\n",
      "\u001b[32m[I 2022-12-30 16:50:48,755]\u001b[0m Trial 26 finished with value: -0.2932330608287683 and parameters: {'boosting_type': 'gbdt', 'max_depth': 4, 'learning_rate': 0.014, 'n_estimators': 2350, 'objective': 'regression', 'min_child_samples': 14, 'reg_lambda': 0.01917402229443459, 'reg_alpha': 1.251997994192402}. Best is trial 9 with value: 0.4885449146719825.\u001b[0m\n",
      "\u001b[32m[I 2022-12-30 16:52:11,205]\u001b[0m Trial 27 finished with value: 0.5003328667146951 and parameters: {'boosting_type': 'dart', 'max_depth': 19, 'learning_rate': 0.016, 'n_estimators': 2700, 'objective': 'regression', 'min_child_samples': 10, 'reg_lambda': 0.005293813028263606, 'reg_alpha': 0.3736524905316094}. Best is trial 27 with value: 0.5003328667146951.\u001b[0m\n",
      "\u001b[32m[I 2022-12-30 16:53:20,824]\u001b[0m Trial 28 finished with value: -1.6206903329362565 and parameters: {'boosting_type': 'dart', 'max_depth': 18, 'learning_rate': 0.016, 'n_estimators': 2800, 'objective': 'regression', 'min_child_samples': 7, 'reg_lambda': 0.002440010400859759, 'reg_alpha': 4.032491481886242}. Best is trial 27 with value: 0.5003328667146951.\u001b[0m\n",
      "\u001b[32m[I 2022-12-30 16:54:33,127]\u001b[0m Trial 29 finished with value: -1.9893789038728549 and parameters: {'boosting_type': 'dart', 'max_depth': 21, 'learning_rate': 0.016, 'n_estimators': 2600, 'objective': 'regression', 'min_child_samples': 10, 'reg_lambda': 0.1578865578966371, 'reg_alpha': 0.4481362008587655}. Best is trial 27 with value: 0.5003328667146951.\u001b[0m\n",
      "\u001b[32m[I 2022-12-30 16:54:33,129]\u001b[0m A new study created in memory with name: Brain_Regressor\u001b[0m\n",
      "\u001b[32m[I 2022-12-30 16:54:53,266]\u001b[0m Trial 0 finished with value: -30.609547672610738 and parameters: {'boosting_type': 'dart', 'max_depth': 2, 'learning_rate': 0.02, 'n_estimators': 2650, 'objective': 'regression', 'min_child_samples': 29, 'reg_lambda': 2.4190121689676203, 'reg_alpha': 0.004615470467917608}. Best is trial 0 with value: -30.609547672610738.\u001b[0m\n",
      "\u001b[32m[I 2022-12-30 16:55:41,588]\u001b[0m Trial 1 finished with value: 0.5213951028795569 and parameters: {'boosting_type': 'dart', 'max_depth': 21, 'learning_rate': 0.018, 'n_estimators': 2700, 'objective': 'regression', 'min_child_samples': 24, 'reg_lambda': 2.6716701644976277, 'reg_alpha': 0.014551643973068996}. Best is trial 1 with value: 0.5213951028795569.\u001b[0m\n",
      "\u001b[32m[I 2022-12-30 16:55:42,913]\u001b[0m Trial 2 finished with value: -8.399062392995628 and parameters: {'boosting_type': 'gbdt', 'max_depth': 15, 'learning_rate': 0.02, 'n_estimators': 300, 'objective': 'regression', 'min_child_samples': 26, 'reg_lambda': 0.37714991445486007, 'reg_alpha': 0.3869889188151973}. Best is trial 1 with value: 0.5213951028795569.\u001b[0m\n",
      "\u001b[32m[I 2022-12-30 16:56:00,798]\u001b[0m Trial 3 finished with value: -17.303483250859635 and parameters: {'boosting_type': 'gbdt', 'max_depth': 27, 'learning_rate': 0.012, 'n_estimators': 3000, 'objective': 'regression', 'min_child_samples': 20, 'reg_lambda': 0.002048051886700642, 'reg_alpha': 0.002237297554046703}. Best is trial 1 with value: 0.5213951028795569.\u001b[0m\n",
      "\u001b[32m[I 2022-12-30 16:57:04,671]\u001b[0m Trial 4 finished with value: -36.98391839298773 and parameters: {'boosting_type': 'dart', 'max_depth': 18, 'learning_rate': 0.012, 'n_estimators': 2600, 'objective': 'regression', 'min_child_samples': 14, 'reg_lambda': 0.28944383403842405, 'reg_alpha': 0.47410842481837023}. Best is trial 1 with value: 0.5213951028795569.\u001b[0m\n",
      "\u001b[32m[I 2022-12-30 16:57:14,632]\u001b[0m Trial 5 finished with value: 0.3663865503164365 and parameters: {'boosting_type': 'gbdt', 'max_depth': 18, 'learning_rate': 0.03, 'n_estimators': 2050, 'objective': 'regression', 'min_child_samples': 30, 'reg_lambda': 0.02438684194414147, 'reg_alpha': 0.6672882621794267}. Best is trial 1 with value: 0.5213951028795569.\u001b[0m\n",
      "\u001b[32m[I 2022-12-30 16:57:49,031]\u001b[0m Trial 6 finished with value: -4.2890267923608505 and parameters: {'boosting_type': 'dart', 'max_depth': 10, 'learning_rate': 0.01, 'n_estimators': 1650, 'objective': 'regression', 'min_child_samples': 11, 'reg_lambda': 9.79538462072484, 'reg_alpha': 0.16807456850582347}. Best is trial 1 with value: 0.5213951028795569.\u001b[0m\n",
      "\u001b[32m[I 2022-12-30 16:57:49,918]\u001b[0m Trial 7 finished with value: -61.4033051483896 and parameters: {'boosting_type': 'dart', 'max_depth': 1, 'learning_rate': 0.03, 'n_estimators': 200, 'objective': 'regression', 'min_child_samples': 30, 'reg_lambda': 0.9302567613062256, 'reg_alpha': 0.0027918964020883378}. Best is trial 1 with value: 0.5213951028795569.\u001b[0m\n",
      "\u001b[32m[I 2022-12-30 16:58:33,868]\u001b[0m Trial 8 finished with value: -29.895516109660292 and parameters: {'boosting_type': 'dart', 'max_depth': 13, 'learning_rate': 0.028, 'n_estimators': 1950, 'objective': 'regression', 'min_child_samples': 16, 'reg_lambda': 0.10704209559950695, 'reg_alpha': 0.3601748051824034}. Best is trial 1 with value: 0.5213951028795569.\u001b[0m\n",
      "\u001b[32m[I 2022-12-30 16:58:37,639]\u001b[0m Trial 9 finished with value: -2.4683013846211797 and parameters: {'boosting_type': 'dart', 'max_depth': 20, 'learning_rate': 0.02, 'n_estimators': 300, 'objective': 'regression', 'min_child_samples': 11, 'reg_lambda': 0.3570862931659281, 'reg_alpha': 0.010912909927785623}. Best is trial 1 with value: 0.5213951028795569.\u001b[0m\n",
      "\u001b[32m[I 2022-12-30 16:58:51,430]\u001b[0m Trial 10 finished with value: -6.11975577463646 and parameters: {'boosting_type': 'dart', 'max_depth': 28, 'learning_rate': 0.018, 'n_estimators': 950, 'objective': 'regression', 'min_child_samples': 22, 'reg_lambda': 0.015257142240510533, 'reg_alpha': 5.956298775746568}. Best is trial 1 with value: 0.5213951028795569.\u001b[0m\n",
      "\u001b[32m[I 2022-12-30 16:59:02,552]\u001b[0m Trial 11 finished with value: -19.315757925238085 and parameters: {'boosting_type': 'gbdt', 'max_depth': 21, 'learning_rate': 0.014, 'n_estimators': 2200, 'objective': 'regression', 'min_child_samples': 23, 'reg_lambda': 0.016529599103739332, 'reg_alpha': 0.02121824057732089}. Best is trial 1 with value: 0.5213951028795569.\u001b[0m\n",
      "\u001b[32m[I 2022-12-30 16:59:08,363]\u001b[0m Trial 12 finished with value: -112.28513726068702 and parameters: {'boosting_type': 'gbdt', 'max_depth': 24, 'learning_rate': 0.005, 'n_estimators': 1300, 'objective': 'regression', 'min_child_samples': 26, 'reg_lambda': 0.01807194715450471, 'reg_alpha': 2.636543574890574}. Best is trial 1 with value: 0.5213951028795569.\u001b[0m\n",
      "\u001b[32m[I 2022-12-30 16:59:21,869]\u001b[0m Trial 13 finished with value: -2.9121339903306995 and parameters: {'boosting_type': 'gbdt', 'max_depth': 9, 'learning_rate': 0.023, 'n_estimators': 2250, 'objective': 'regression', 'min_child_samples': 6, 'reg_lambda': 0.0010827083204488959, 'reg_alpha': 0.039344951704824195}. Best is trial 1 with value: 0.5213951028795569.\u001b[0m\n",
      "\u001b[32m[I 2022-12-30 16:59:36,023]\u001b[0m Trial 14 finished with value: -2.8891021095547114 and parameters: {'boosting_type': 'gbdt', 'max_depth': 23, 'learning_rate': 0.018, 'n_estimators': 3000, 'objective': 'regression', 'min_child_samples': 25, 'reg_lambda': 0.0051900252786576204, 'reg_alpha': 1.5222037509754343}. Best is trial 1 with value: 0.5213951028795569.\u001b[0m\n",
      "\u001b[32m[I 2022-12-30 16:59:43,424]\u001b[0m Trial 15 finished with value: 0.5556888091038807 and parameters: {'boosting_type': 'gbdt', 'max_depth': 17, 'learning_rate': 0.025, 'n_estimators': 1750, 'objective': 'regression', 'min_child_samples': 30, 'reg_lambda': 0.06353162043963569, 'reg_alpha': 0.0673384175214849}. Best is trial 15 with value: 0.5556888091038807.\u001b[0m\n",
      "\u001b[32m[I 2022-12-30 17:00:09,734]\u001b[0m Trial 16 finished with value: 0.3104963640960914 and parameters: {'boosting_type': 'dart', 'max_depth': 30, 'learning_rate': 0.025, 'n_estimators': 1350, 'objective': 'regression', 'min_child_samples': 19, 'reg_lambda': 0.06568228469966307, 'reg_alpha': 0.08175033235410628}. Best is trial 15 with value: 0.5556888091038807.\u001b[0m\n",
      "\u001b[32m[I 2022-12-30 17:00:18,246]\u001b[0m Trial 17 finished with value: -88.62779926474511 and parameters: {'boosting_type': 'gbdt', 'max_depth': 12, 'learning_rate': 0.008, 'n_estimators': 1700, 'objective': 'regression', 'min_child_samples': 26, 'reg_lambda': 7.425258963012768, 'reg_alpha': 0.011903882960132929}. Best is trial 15 with value: 0.5556888091038807.\u001b[0m\n",
      "\u001b[32m[I 2022-12-30 17:00:27,758]\u001b[0m Trial 18 finished with value: 0.46723585789440125 and parameters: {'boosting_type': 'dart', 'max_depth': 5, 'learning_rate': 0.016, 'n_estimators': 850, 'objective': 'regression', 'min_child_samples': 22, 'reg_lambda': 1.7916233374096129, 'reg_alpha': 0.0011537206428231166}. Best is trial 15 with value: 0.5556888091038807.\u001b[0m\n",
      "\u001b[32m[I 2022-12-30 17:00:40,332]\u001b[0m Trial 19 finished with value: 0.561524420818969 and parameters: {'boosting_type': 'gbdt', 'max_depth': 16, 'learning_rate': 0.025, 'n_estimators': 2550, 'objective': 'regression', 'min_child_samples': 28, 'reg_lambda': 0.08538775926146094, 'reg_alpha': 0.07632249600835359}. Best is trial 19 with value: 0.561524420818969.\u001b[0m\n",
      "\u001b[32m[I 2022-12-30 17:00:52,396]\u001b[0m Trial 20 finished with value: -28.804020440713195 and parameters: {'boosting_type': 'gbdt', 'max_depth': 16, 'learning_rate': 0.025, 'n_estimators': 2400, 'objective': 'regression', 'min_child_samples': 28, 'reg_lambda': 0.06801648514029218, 'reg_alpha': 0.0408752893527165}. Best is trial 19 with value: 0.561524420818969.\u001b[0m\n",
      "\u001b[32m[I 2022-12-30 17:01:06,017]\u001b[0m Trial 21 finished with value: 0.5550683908428373 and parameters: {'boosting_type': 'gbdt', 'max_depth': 24, 'learning_rate': 0.025, 'n_estimators': 2700, 'objective': 'regression', 'min_child_samples': 28, 'reg_lambda': 0.14229195054921318, 'reg_alpha': 0.14662073933282094}. Best is trial 19 with value: 0.561524420818969.\u001b[0m\n",
      "\u001b[32m[I 2022-12-30 17:01:18,459]\u001b[0m Trial 22 finished with value: 0.39143405449419805 and parameters: {'boosting_type': 'gbdt', 'max_depth': 24, 'learning_rate': 0.025, 'n_estimators': 2450, 'objective': 'regression', 'min_child_samples': 28, 'reg_lambda': 0.1474015498496954, 'reg_alpha': 0.12189544607145016}. Best is trial 19 with value: 0.561524420818969.\u001b[0m\n",
      "\u001b[32m[I 2022-12-30 17:01:28,674]\u001b[0m Trial 23 finished with value: -1.00903129047706 and parameters: {'boosting_type': 'gbdt', 'max_depth': 16, 'learning_rate': 0.025, 'n_estimators': 1900, 'objective': 'regression', 'min_child_samples': 28, 'reg_lambda': 0.0393863408448794, 'reg_alpha': 0.0627084439794769}. Best is trial 19 with value: 0.561524420818969.\u001b[0m\n",
      "\u001b[32m[I 2022-12-30 17:01:42,480]\u001b[0m Trial 24 finished with value: -139.51646715571079 and parameters: {'boosting_type': 'gbdt', 'max_depth': 8, 'learning_rate': 0.025, 'n_estimators': 2800, 'objective': 'regression', 'min_child_samples': 30, 'reg_lambda': 0.20629053504417016, 'reg_alpha': 0.19598318110718227}. Best is trial 19 with value: 0.561524420818969.\u001b[0m\n",
      "\u001b[32m[I 2022-12-30 17:01:47,505]\u001b[0m Trial 25 finished with value: -1.4535522941356895 and parameters: {'boosting_type': 'gbdt', 'max_depth': 26, 'learning_rate': 0.025, 'n_estimators': 900, 'objective': 'regression', 'min_child_samples': 27, 'reg_lambda': 0.007170895992579509, 'reg_alpha': 1.027503066074066}. Best is trial 19 with value: 0.561524420818969.\u001b[0m\n",
      "\u001b[32m[I 2022-12-30 17:02:05,801]\u001b[0m Trial 26 finished with value: 0.34253814116640174 and parameters: {'boosting_type': 'gbdt', 'max_depth': 13, 'learning_rate': 0.025, 'n_estimators': 2350, 'objective': 'regression', 'min_child_samples': 20, 'reg_lambda': 0.6481435291984694, 'reg_alpha': 0.2253320083155994}. Best is trial 19 with value: 0.561524420818969.\u001b[0m\n",
      "\u001b[32m[I 2022-12-30 17:02:18,760]\u001b[0m Trial 27 finished with value: -14.158335760075516 and parameters: {'boosting_type': 'gbdt', 'max_depth': 19, 'learning_rate': 0.016, 'n_estimators': 2100, 'objective': 'regression', 'min_child_samples': 24, 'reg_lambda': 0.04240297748257649, 'reg_alpha': 0.02655496465563171}. Best is trial 19 with value: 0.561524420818969.\u001b[0m\n",
      "\u001b[32m[I 2022-12-30 17:02:44,286]\u001b[0m Trial 28 finished with value: -47.45678940960132 and parameters: {'boosting_type': 'gbdt', 'max_depth': 22, 'learning_rate': 0.014, 'n_estimators': 1800, 'objective': 'regression', 'min_child_samples': 5, 'reg_lambda': 0.1239385821099399, 'reg_alpha': 0.06049465189012601}. Best is trial 19 with value: 0.561524420818969.\u001b[0m\n",
      "\u001b[32m[I 2022-12-30 17:02:54,521]\u001b[0m Trial 29 finished with value: -60.560100656547704 and parameters: {'boosting_type': 'gbdt', 'max_depth': 5, 'learning_rate': 0.005, 'n_estimators': 2600, 'objective': 'regression', 'min_child_samples': 29, 'reg_lambda': 0.005813914847201756, 'reg_alpha': 0.004595563685508987}. Best is trial 19 with value: 0.561524420818969.\u001b[0m\n"
     ]
    }
   ],
   "source": [
    "filetime = \"20221221\"\n",
    "csvfile = f\"./result/{filetime}/RatioDescriptors.csv\"\n",
    "n_trials=30\n",
    "\n",
    "X, blood_y, brain_y, ratio_y, _ = get_X_Y(csvfile)\n",
    "blood_fea = [162, 222, 254, 255, 261, 300, 320, 325, 338, 369, 396, 441, 446, 474, 481, 489, 502, 514, 529, 530, 541, 549, 565, 568, 570, 582, 594, 598, 602, 631, 632, 638, 645, 646, 648, 802, 807, 832, 986, 1145, 1226, 1232, 1266, 1287, 1289, 1297, 1316, 1356, 1539, 1544]\n",
    "brain_fea = [3, 40, 150, 164, 243, 246, 254, 255, 261, 310, 342, 368, 369, 449, 450, 458, 497, 506, 529, 542, 549, 578, 602, 604, 610, 618, 637, 642, 644, 646, 770, 781, 801, 814, 846, 986, 999, 1065, 1078, 1136, 1143, 1157, 1278, 1316, 1329, 1330, 1336, 1543, 1545, 1547]\n",
    "blood_X = X.iloc[:, blood_fea]\n",
    "brain_X = X.iloc[:, brain_fea]\n",
    "\n",
    "blood_study = optuna.create_study(direction=\"maximize\", study_name=\"Blood_Regressor\")\n",
    "func = lambda trial: objective(trial, blood_X, blood_y)\n",
    "blood_study.optimize(func, n_trials=n_trials)\n",
    "\n",
    "brain_study = optuna.create_study(direction=\"maximize\", study_name=\"Brain_Regressor\")\n",
    "func = lambda trial: objective(trial, brain_X, brain_y)\n",
    "brain_study.optimize(func, n_trials=n_trials)\n"
   ]
  },
  {
   "cell_type": "code",
   "execution_count": 5,
   "metadata": {},
   "outputs": [
    {
     "name": "stdout",
     "output_type": "stream",
     "text": [
      "Blood tuning result:\n",
      "Best value: 0.50033\n",
      "Best params:\n",
      "\t'boosting_type': dart,\n",
      "\t'max_depth': 19,\n",
      "\t'learning_rate': 0.016,\n",
      "\t'n_estimators': 2700,\n",
      "\t'objective': regression,\n",
      "\t'min_child_samples': 10,\n",
      "\t'reg_lambda': 0.005293813028263606,\n",
      "\t'reg_alpha': 0.3736524905316094,\n",
      "Brain tuning result:\n",
      "Best value: 0.56152\n",
      "Best params:\n",
      "\t'boosting_type': gbdt,\n",
      "\t'max_depth': 16,\n",
      "\t'learning_rate': 0.025,\n",
      "\t'n_estimators': 2550,\n",
      "\t'objective': regression,\n",
      "\t'min_child_samples': 28,\n",
      "\t'reg_lambda': 0.08538775926146094,\n",
      "\t'reg_alpha': 0.07632249600835359,\n"
     ]
    },
    {
     "data": {
      "text/plain": [
       "\"\\nBest value: 0.60784\\nBest params:\\n\\t'n_estimators': 1300,\\n\\t'learning_rate': 0.016,\\n\\t'max_depth': 21,\\n\\t'lambda': 0.34332326291020665,\\n\\t'alpha': 0.8596755985778055,\\n\\t'min_child_weight': 20,\\n\\t'gamma': 10,\\n\\t'colsample_bytree': 0.9,\\n\\t'colsample_bylevel': 1.0,\\n\\t'colsample_bynode': 0.6,\\n\""
      ]
     },
     "execution_count": 5,
     "metadata": {},
     "output_type": "execute_result"
    }
   ],
   "source": [
    "print(\"Blood tuning result:\")\n",
    "print(f\"Best value: {blood_study.best_value:.5f}\")\n",
    "print(f\"Best params:\")\n",
    "\n",
    "for key, value in blood_study.best_params.items():\n",
    "    print(f\"\\t\\'{key}\\': {value},\")\n",
    "\n",
    "print(\"Brain tuning result:\")\n",
    "print(f\"Best value: {brain_study.best_value:.5f}\")\n",
    "print(f\"Best params:\")\n",
    "\n",
    "for key, value in brain_study.best_params.items():\n",
    "    print(f\"\\t\\'{key}\\': {value},\")\n",
    "\"\"\"\n",
    "Best value: 0.60784\n",
    "Best params:\n",
    "\t'n_estimators': 1300,\n",
    "\t'learning_rate': 0.016,\n",
    "\t'max_depth': 21,\n",
    "\t'lambda': 0.34332326291020665,\n",
    "\t'alpha': 0.8596755985778055,\n",
    "\t'min_child_weight': 20,\n",
    "\t'gamma': 10,\n",
    "\t'colsample_bytree': 0.9,\n",
    "\t'colsample_bylevel': 1.0,\n",
    "\t'colsample_bynode': 0.6,\n",
    "\"\"\""
   ]
  }
 ],
 "metadata": {
  "kernelspec": {
   "display_name": "BBB",
   "language": "python",
   "name": "python3"
  },
  "language_info": {
   "codemirror_mode": {
    "name": "ipython",
    "version": 3
   },
   "file_extension": ".py",
   "mimetype": "text/x-python",
   "name": "python",
   "nbconvert_exporter": "python",
   "pygments_lexer": "ipython3",
   "version": "3.7.12"
  },
  "orig_nbformat": 4,
  "vscode": {
   "interpreter": {
    "hash": "1e16bf243da0930d7340ce187bde8e3a4b0a6cf5e6333c4d640cd2c98ac77f14"
   }
  }
 },
 "nbformat": 4,
 "nbformat_minor": 2
}
