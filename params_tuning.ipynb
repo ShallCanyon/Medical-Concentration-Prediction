{
 "cells": [
  {
   "cell_type": "code",
   "execution_count": 67,
   "metadata": {},
   "outputs": [],
   "source": [
    "import optuna\n",
    "import numpy as np\n",
    "from sklearn.metrics import mean_squared_error, r2_score\n",
    "from sklearn.model_selection import StratifiedKFold, train_test_split, KFold\n",
    "from xgboost.sklearn import XGBRegressor\n",
    "import pandas as pd\n",
    "from sklearn.svm import SVR\n",
    "from sklearn.ensemble import RandomForestRegressor as RF\n",
    "from sklearn.neural_network import MLPRegressor as MLP\n",
    "# from lightgbm import LGBMRegressor\n",
    "import lightgbm as lgb\n",
    "from sklearn.preprocessing import MinMaxScaler\n",
    "import global_config as cfg"
   ]
  },
  {
   "cell_type": "code",
   "execution_count": 68,
   "metadata": {},
   "outputs": [],
   "source": [
    "model_enum = cfg.model_enum\n",
    "model_type = model_enum[2]"
   ]
  },
  {
   "cell_type": "code",
   "execution_count": 69,
   "metadata": {},
   "outputs": [],
   "source": [
    "def get_X_Y(csvfile):\n",
    "    df = pd.read_csv(csvfile)\n",
    "    # 去除含有无效值的列\n",
    "    df = df[~df.isin([np.nan, np.inf, -np.inf]).any(1)]\n",
    "    df = df.dropna(axis=0, how='any')\n",
    "\n",
    "    X = df.drop(['SMILES', 'Blood', 'Brain', 'Ratio'], axis=1)\n",
    "    X = MinMaxScaler().fit_transform(X)\n",
    "    # print(len(X))\n",
    "    blood_y = df['Blood'].ravel()\n",
    "    brain_y = df['Brain'].ravel()\n",
    "    ratio_y = df['Ratio'].ravel()\n",
    "    SMILES = df['SMILES']\n",
    "    return pd.DataFrame(X).astype('float64'), blood_y, brain_y, ratio_y, SMILES"
   ]
  },
  {
   "cell_type": "code",
   "execution_count": 70,
   "metadata": {},
   "outputs": [],
   "source": [
    "def objective(trial, X, y):\n",
    "    # XGB Params\n",
    "    if model_type == model_enum[0]:\n",
    "        param_grid = {\n",
    "            # 'n_estimators': 600,\n",
    "\t        # 'learning_rate': 0.013,\n",
    "            # 'max_depth': 22,\n",
    "            # 'lambda': 0.003340201697365462,\n",
    "            # 'alpha': 0.001044793853811272,\n",
    "            # 'min_child_weight': 8,\n",
    "\t        # 'gamma': 0,\n",
    "            # 'colsample_bytree': 1.0,\n",
    "            # 'colsample_bylevel': 0.3,\n",
    "            # 'colsample_bynode': 0.6,\n",
    "\n",
    "            \"n_estimators\": trial.suggest_int(\"n_estimators\", 50, 3000, step=50),\n",
    "            \"learning_rate\": trial.suggest_float('learning_rate', 0.005, 0.03, step=0.001),\n",
    "            \"max_depth\": trial.suggest_int(\"max_depth\", 0, 30),\n",
    "            'lambda': trial.suggest_loguniform('lambda', 1e-3, 10.0),\n",
    "            'alpha': trial.suggest_loguniform('alpha', 1e-3, 10.0),\n",
    "            \"min_child_weight\": trial.suggest_int(\"min_child_weight\", 1, 30),\n",
    "            'gamma': trial.suggest_int(\"gamma\", 0, 20, step=1),\n",
    "            'colsample_bytree': trial.suggest_float(\"colsample_bytree\", 0, 1, step=0.1),\n",
    "            'colsample_bylevel': trial.suggest_float(\"colsample_bylevel\", 0, 1, step=0.1),\n",
    "            'colsample_bynode': trial.suggest_float(\"colsample_bynode\", 0, 1, step=0.1),\n",
    "        }\n",
    "    # LGBM params\n",
    "    elif model_type == model_enum[1]:\n",
    "        param_grid = {\n",
    "            \"boosting_type\": trial.suggest_categorical('boosting_type', ['gbdt', 'dart']),\n",
    "            \"max_depth\": trial.suggest_int(\"max_depth\", 1, 30),\n",
    "            \"learning_rate\": trial.suggest_categorical('learning_rate',\n",
    "                                                    [0.005, 0.008, 0.01, 0.012, 0.014, 0.016, 0.018, 0.02, 0.023, 0.025, 0.028, 0.03]),\n",
    "            \"n_estimators\": trial.suggest_int(\"n_estimators\", 50, 3000, step=50),\n",
    "            \"objective\": trial.suggest_categorical('objective', ['regression']),\n",
    "            \"min_child_samples\": trial.suggest_int(\"min_child_samples\", 5, 30),\n",
    "            # 'colsample_bytree': trial.suggest_float(\"colsample_bytree\", 0, 1, step=0.1),\n",
    "            'reg_lambda': trial.suggest_loguniform('reg_lambda', 1e-3, 10.0),\n",
    "            'reg_alpha': trial.suggest_loguniform('reg_alpha', 1e-3, 10.0),\n",
    "            # 'feature_fraction': trial.suggest_categorical('feature_fraction', [0.5])\n",
    "            # 'verbose': trial.suggest_categorical('verbose', [-1])\n",
    "        }\n",
    "    elif model_type == model_enum[2]:   #SVM\n",
    "        param_grid = {\n",
    "            \"C\": trial.suggest_float('C', 0.1, 10),\n",
    "            'gamma': trial.suggest_categorical(\"gamma\", ['scale', 'auto']),\n",
    "            'tol': trial.suggest_categorical(\"tol\", [1e-2, 1e-3, 1e-4]),\n",
    "            'max_iter': trial.suggest_categorical(\"max_iter\", [1000, 5000, 10000]),\n",
    "            'epsilon': trial.suggest_float(\"epsilon\", 0.1, 1.0)\n",
    "        }\n",
    "    elif model_type == model_enum[3]:   #RF\n",
    "        param_grid = {\n",
    "            \"n_estimators\": trial.suggest_int(\"n_estimators\", 100, 3000, step=100),\n",
    "            \"max_depth\": trial.suggest_int(\"max_depth\", 1, 30),\n",
    "        }\n",
    "    elif model_type == model_enum[4]:   #MLP\n",
    "        param_grid = {\n",
    "            \"hidden_layer_sizes\": trial.suggest_categorical(\"hidden_layer_sizes\", [(50,), (100,), (150,), (200,)]),\n",
    "            \"activation\": trial.suggest_categorical(\"activation\", ['tanh', 'relu']),\n",
    "            \"solver\": trial.suggest_categorical(\"solver\", ['lbfgs', 'sgd', 'adam']),\n",
    "            \"early_stopping\": True,\n",
    "            \"max_iter\": trial.suggest_int(\"max_iter\", 200, 1000, step=100),\n",
    "        }\n",
    "\n",
    "    cv = KFold(n_splits=5, shuffle=True)\n",
    "    \n",
    "    cv_scores = np.empty(5)\n",
    "    for idx, (train_idx, test_idx) in enumerate(cv.split(X, y)):\n",
    "        X_train, X_test = X.iloc[train_idx], X.iloc[test_idx]\n",
    "        y_train, y_test = y[train_idx], y[test_idx]\n",
    "\n",
    "        if model_type == model_enum[0]:\n",
    "            model = XGBRegressor(**param_grid)\n",
    "            model.fit(X_train, y_train, eval_set=[(X_test, y_test)], early_stopping_rounds=100, verbose=False)\n",
    "        elif model_type == model_enum[1]:\n",
    "            model = lgb.sklearn.LGBMRegressor(**param_grid)\n",
    "            # callbacks = [lgb.early_stopping(100, verbose=0), lgb.log_evaluation(period=0)]\n",
    "            callbacks = [lgb.log_evaluation(period=0)]\n",
    "            model.fit(X_train, y_train, eval_set=[(X_test, y_test)], callbacks=callbacks)\n",
    "        elif model_type == model_enum[2]:   #SVM\n",
    "            model = SVR(**param_grid)\n",
    "            model.fit(X_train, y_train)\n",
    "        elif model_type == model_enum[3]:   #RF\n",
    "            model = RF(**param_grid)\n",
    "            model.fit(X_train, y_train)\n",
    "        elif model_type == model_enum[4]:   #MLP\n",
    "            model = MLP(**param_grid)\n",
    "            model.fit(X_train, y_train)\n",
    "        preds = model.predict(X_test)\n",
    "        # cv_scores[idx] = r2_score(y_test, preds)\n",
    "        cv_scores[idx] = np.sqrt(mean_squared_error(y_test, preds))\n",
    "\n",
    "    return np.mean(cv_scores)"
   ]
  },
  {
   "cell_type": "code",
   "execution_count": 71,
   "metadata": {},
   "outputs": [
    {
     "name": "stderr",
     "output_type": "stream",
     "text": [
      "c:\\Users\\80473\\anaconda3\\envs\\BBB\\lib\\site-packages\\ipykernel_launcher.py:4: DtypeWarning: Columns (788,789,831,835,837,848,854,858,907,908,950,954,956,967,973,977,1148,1149) have mixed types.Specify dtype option on import or set low_memory=False.\n",
      "  after removing the cwd from sys.path.\n"
     ]
    },
    {
     "name": "stdout",
     "output_type": "stream",
     "text": [
      "SVM\n"
     ]
    }
   ],
   "source": [
    "csvfile = cfg.padel_csvfilepath\n",
    "n_trials = 50\n",
    "\n",
    "X, blood_y, brain_y, ratio_y, _ = get_X_Y(csvfile)\n",
    "blood_X = X.iloc[:, cfg.blood_fea]\n",
    "brain_X = X.iloc[:, cfg.brain_fea]\n",
    "ratio_X = X.iloc[:, cfg.X_fea]\n",
    "print(model_type)\n"
   ]
  },
  {
   "cell_type": "code",
   "execution_count": 72,
   "metadata": {},
   "outputs": [
    {
     "name": "stderr",
     "output_type": "stream",
     "text": [
      "\u001b[32m[I 2023-01-08 17:26:07,675]\u001b[0m A new study created in memory with name: Blood_Regressor\u001b[0m\n",
      "\u001b[33m[W 2023-01-08 17:26:07,678]\u001b[0m Trial 0 failed because of the following error: TypeError(\"suggest_float() missing 1 required positional argument: 'high'\")\u001b[0m\n",
      "Traceback (most recent call last):\n",
      "  File \"c:\\Users\\80473\\anaconda3\\envs\\BBB\\lib\\site-packages\\optuna\\study\\_optimize.py\", line 213, in _run_trial\n",
      "    value_or_values = func(trial)\n",
      "  File \"C:\\Users\\80473\\AppData\\Local\\Temp\\ipykernel_8544\\3756893959.py\", line 2, in <lambda>\n",
      "    func = lambda trial: objective(trial, ratio_X, ratio_y)\n",
      "  File \"C:\\Users\\80473\\AppData\\Local\\Temp\\ipykernel_8544\\2366098666.py\", line 45, in objective\n",
      "    \"C\": trial.suggest_float('C', [0.1, 10]),\n",
      "TypeError: suggest_float() missing 1 required positional argument: 'high'\n"
     ]
    },
    {
     "ename": "TypeError",
     "evalue": "suggest_float() missing 1 required positional argument: 'high'",
     "output_type": "error",
     "traceback": [
      "\u001b[1;31m---------------------------------------------------------------------------\u001b[0m",
      "\u001b[1;31mTypeError\u001b[0m                                 Traceback (most recent call last)",
      "\u001b[1;32m~\\AppData\\Local\\Temp\\ipykernel_8544\\3756893959.py\u001b[0m in \u001b[0;36m<module>\u001b[1;34m\u001b[0m\n\u001b[0;32m      1\u001b[0m \u001b[0mblood_study\u001b[0m \u001b[1;33m=\u001b[0m \u001b[0moptuna\u001b[0m\u001b[1;33m.\u001b[0m\u001b[0mcreate_study\u001b[0m\u001b[1;33m(\u001b[0m\u001b[0mdirection\u001b[0m\u001b[1;33m=\u001b[0m\u001b[1;34m\"minimize\"\u001b[0m\u001b[1;33m,\u001b[0m \u001b[0mstudy_name\u001b[0m\u001b[1;33m=\u001b[0m\u001b[1;34m\"Blood_Regressor\"\u001b[0m\u001b[1;33m)\u001b[0m\u001b[1;33m\u001b[0m\u001b[1;33m\u001b[0m\u001b[0m\n\u001b[0;32m      2\u001b[0m \u001b[0mfunc\u001b[0m \u001b[1;33m=\u001b[0m \u001b[1;32mlambda\u001b[0m \u001b[0mtrial\u001b[0m\u001b[1;33m:\u001b[0m \u001b[0mobjective\u001b[0m\u001b[1;33m(\u001b[0m\u001b[0mtrial\u001b[0m\u001b[1;33m,\u001b[0m \u001b[0mratio_X\u001b[0m\u001b[1;33m,\u001b[0m \u001b[0mratio_y\u001b[0m\u001b[1;33m)\u001b[0m\u001b[1;33m\u001b[0m\u001b[1;33m\u001b[0m\u001b[0m\n\u001b[1;32m----> 3\u001b[1;33m \u001b[0mblood_study\u001b[0m\u001b[1;33m.\u001b[0m\u001b[0moptimize\u001b[0m\u001b[1;33m(\u001b[0m\u001b[0mfunc\u001b[0m\u001b[1;33m,\u001b[0m \u001b[0mn_trials\u001b[0m\u001b[1;33m=\u001b[0m\u001b[0mn_trials\u001b[0m\u001b[1;33m)\u001b[0m\u001b[1;33m\u001b[0m\u001b[1;33m\u001b[0m\u001b[0m\n\u001b[0m",
      "\u001b[1;32mc:\\Users\\80473\\anaconda3\\envs\\BBB\\lib\\site-packages\\optuna\\study\\study.py\u001b[0m in \u001b[0;36moptimize\u001b[1;34m(self, func, n_trials, timeout, n_jobs, catch, callbacks, gc_after_trial, show_progress_bar)\u001b[0m\n\u001b[0;32m    407\u001b[0m             \u001b[0mcallbacks\u001b[0m\u001b[1;33m=\u001b[0m\u001b[0mcallbacks\u001b[0m\u001b[1;33m,\u001b[0m\u001b[1;33m\u001b[0m\u001b[1;33m\u001b[0m\u001b[0m\n\u001b[0;32m    408\u001b[0m             \u001b[0mgc_after_trial\u001b[0m\u001b[1;33m=\u001b[0m\u001b[0mgc_after_trial\u001b[0m\u001b[1;33m,\u001b[0m\u001b[1;33m\u001b[0m\u001b[1;33m\u001b[0m\u001b[0m\n\u001b[1;32m--> 409\u001b[1;33m             \u001b[0mshow_progress_bar\u001b[0m\u001b[1;33m=\u001b[0m\u001b[0mshow_progress_bar\u001b[0m\u001b[1;33m,\u001b[0m\u001b[1;33m\u001b[0m\u001b[1;33m\u001b[0m\u001b[0m\n\u001b[0m\u001b[0;32m    410\u001b[0m         )\n\u001b[0;32m    411\u001b[0m \u001b[1;33m\u001b[0m\u001b[0m\n",
      "\u001b[1;32mc:\\Users\\80473\\anaconda3\\envs\\BBB\\lib\\site-packages\\optuna\\study\\_optimize.py\u001b[0m in \u001b[0;36m_optimize\u001b[1;34m(study, func, n_trials, timeout, n_jobs, catch, callbacks, gc_after_trial, show_progress_bar)\u001b[0m\n\u001b[0;32m     74\u001b[0m                 \u001b[0mreseed_sampler_rng\u001b[0m\u001b[1;33m=\u001b[0m\u001b[1;32mFalse\u001b[0m\u001b[1;33m,\u001b[0m\u001b[1;33m\u001b[0m\u001b[1;33m\u001b[0m\u001b[0m\n\u001b[0;32m     75\u001b[0m                 \u001b[0mtime_start\u001b[0m\u001b[1;33m=\u001b[0m\u001b[1;32mNone\u001b[0m\u001b[1;33m,\u001b[0m\u001b[1;33m\u001b[0m\u001b[1;33m\u001b[0m\u001b[0m\n\u001b[1;32m---> 76\u001b[1;33m                 \u001b[0mprogress_bar\u001b[0m\u001b[1;33m=\u001b[0m\u001b[0mprogress_bar\u001b[0m\u001b[1;33m,\u001b[0m\u001b[1;33m\u001b[0m\u001b[1;33m\u001b[0m\u001b[0m\n\u001b[0m\u001b[0;32m     77\u001b[0m             )\n\u001b[0;32m     78\u001b[0m         \u001b[1;32melse\u001b[0m\u001b[1;33m:\u001b[0m\u001b[1;33m\u001b[0m\u001b[1;33m\u001b[0m\u001b[0m\n",
      "\u001b[1;32mc:\\Users\\80473\\anaconda3\\envs\\BBB\\lib\\site-packages\\optuna\\study\\_optimize.py\u001b[0m in \u001b[0;36m_optimize_sequential\u001b[1;34m(study, func, n_trials, timeout, catch, callbacks, gc_after_trial, reseed_sampler_rng, time_start, progress_bar)\u001b[0m\n\u001b[0;32m    161\u001b[0m \u001b[1;33m\u001b[0m\u001b[0m\n\u001b[0;32m    162\u001b[0m         \u001b[1;32mtry\u001b[0m\u001b[1;33m:\u001b[0m\u001b[1;33m\u001b[0m\u001b[1;33m\u001b[0m\u001b[0m\n\u001b[1;32m--> 163\u001b[1;33m             \u001b[0mtrial\u001b[0m \u001b[1;33m=\u001b[0m \u001b[0m_run_trial\u001b[0m\u001b[1;33m(\u001b[0m\u001b[0mstudy\u001b[0m\u001b[1;33m,\u001b[0m \u001b[0mfunc\u001b[0m\u001b[1;33m,\u001b[0m \u001b[0mcatch\u001b[0m\u001b[1;33m)\u001b[0m\u001b[1;33m\u001b[0m\u001b[1;33m\u001b[0m\u001b[0m\n\u001b[0m\u001b[0;32m    164\u001b[0m         \u001b[1;32mexcept\u001b[0m \u001b[0mException\u001b[0m\u001b[1;33m:\u001b[0m\u001b[1;33m\u001b[0m\u001b[1;33m\u001b[0m\u001b[0m\n\u001b[0;32m    165\u001b[0m             \u001b[1;32mraise\u001b[0m\u001b[1;33m\u001b[0m\u001b[1;33m\u001b[0m\u001b[0m\n",
      "\u001b[1;32mc:\\Users\\80473\\anaconda3\\envs\\BBB\\lib\\site-packages\\optuna\\study\\_optimize.py\u001b[0m in \u001b[0;36m_run_trial\u001b[1;34m(study, func, catch)\u001b[0m\n\u001b[0;32m    262\u001b[0m \u001b[1;33m\u001b[0m\u001b[0m\n\u001b[0;32m    263\u001b[0m     \u001b[1;32mif\u001b[0m \u001b[0mstate\u001b[0m \u001b[1;33m==\u001b[0m \u001b[0mTrialState\u001b[0m\u001b[1;33m.\u001b[0m\u001b[0mFAIL\u001b[0m \u001b[1;32mand\u001b[0m \u001b[0mfunc_err\u001b[0m \u001b[1;32mis\u001b[0m \u001b[1;32mnot\u001b[0m \u001b[1;32mNone\u001b[0m \u001b[1;32mand\u001b[0m \u001b[1;32mnot\u001b[0m \u001b[0misinstance\u001b[0m\u001b[1;33m(\u001b[0m\u001b[0mfunc_err\u001b[0m\u001b[1;33m,\u001b[0m \u001b[0mcatch\u001b[0m\u001b[1;33m)\u001b[0m\u001b[1;33m:\u001b[0m\u001b[1;33m\u001b[0m\u001b[1;33m\u001b[0m\u001b[0m\n\u001b[1;32m--> 264\u001b[1;33m         \u001b[1;32mraise\u001b[0m \u001b[0mfunc_err\u001b[0m\u001b[1;33m\u001b[0m\u001b[1;33m\u001b[0m\u001b[0m\n\u001b[0m\u001b[0;32m    265\u001b[0m     \u001b[1;32mreturn\u001b[0m \u001b[0mtrial\u001b[0m\u001b[1;33m\u001b[0m\u001b[1;33m\u001b[0m\u001b[0m\n\u001b[0;32m    266\u001b[0m \u001b[1;33m\u001b[0m\u001b[0m\n",
      "\u001b[1;32mc:\\Users\\80473\\anaconda3\\envs\\BBB\\lib\\site-packages\\optuna\\study\\_optimize.py\u001b[0m in \u001b[0;36m_run_trial\u001b[1;34m(study, func, catch)\u001b[0m\n\u001b[0;32m    211\u001b[0m \u001b[1;33m\u001b[0m\u001b[0m\n\u001b[0;32m    212\u001b[0m     \u001b[1;32mtry\u001b[0m\u001b[1;33m:\u001b[0m\u001b[1;33m\u001b[0m\u001b[1;33m\u001b[0m\u001b[0m\n\u001b[1;32m--> 213\u001b[1;33m         \u001b[0mvalue_or_values\u001b[0m \u001b[1;33m=\u001b[0m \u001b[0mfunc\u001b[0m\u001b[1;33m(\u001b[0m\u001b[0mtrial\u001b[0m\u001b[1;33m)\u001b[0m\u001b[1;33m\u001b[0m\u001b[1;33m\u001b[0m\u001b[0m\n\u001b[0m\u001b[0;32m    214\u001b[0m     \u001b[1;32mexcept\u001b[0m \u001b[0mexceptions\u001b[0m\u001b[1;33m.\u001b[0m\u001b[0mTrialPruned\u001b[0m \u001b[1;32mas\u001b[0m \u001b[0me\u001b[0m\u001b[1;33m:\u001b[0m\u001b[1;33m\u001b[0m\u001b[1;33m\u001b[0m\u001b[0m\n\u001b[0;32m    215\u001b[0m         \u001b[1;31m# TODO(mamu): Handle multi-objective cases.\u001b[0m\u001b[1;33m\u001b[0m\u001b[1;33m\u001b[0m\u001b[1;33m\u001b[0m\u001b[0m\n",
      "\u001b[1;32m~\\AppData\\Local\\Temp\\ipykernel_8544\\3756893959.py\u001b[0m in \u001b[0;36m<lambda>\u001b[1;34m(trial)\u001b[0m\n\u001b[0;32m      1\u001b[0m \u001b[0mblood_study\u001b[0m \u001b[1;33m=\u001b[0m \u001b[0moptuna\u001b[0m\u001b[1;33m.\u001b[0m\u001b[0mcreate_study\u001b[0m\u001b[1;33m(\u001b[0m\u001b[0mdirection\u001b[0m\u001b[1;33m=\u001b[0m\u001b[1;34m\"minimize\"\u001b[0m\u001b[1;33m,\u001b[0m \u001b[0mstudy_name\u001b[0m\u001b[1;33m=\u001b[0m\u001b[1;34m\"Blood_Regressor\"\u001b[0m\u001b[1;33m)\u001b[0m\u001b[1;33m\u001b[0m\u001b[1;33m\u001b[0m\u001b[0m\n\u001b[1;32m----> 2\u001b[1;33m \u001b[0mfunc\u001b[0m \u001b[1;33m=\u001b[0m \u001b[1;32mlambda\u001b[0m \u001b[0mtrial\u001b[0m\u001b[1;33m:\u001b[0m \u001b[0mobjective\u001b[0m\u001b[1;33m(\u001b[0m\u001b[0mtrial\u001b[0m\u001b[1;33m,\u001b[0m \u001b[0mratio_X\u001b[0m\u001b[1;33m,\u001b[0m \u001b[0mratio_y\u001b[0m\u001b[1;33m)\u001b[0m\u001b[1;33m\u001b[0m\u001b[1;33m\u001b[0m\u001b[0m\n\u001b[0m\u001b[0;32m      3\u001b[0m \u001b[0mblood_study\u001b[0m\u001b[1;33m.\u001b[0m\u001b[0moptimize\u001b[0m\u001b[1;33m(\u001b[0m\u001b[0mfunc\u001b[0m\u001b[1;33m,\u001b[0m \u001b[0mn_trials\u001b[0m\u001b[1;33m=\u001b[0m\u001b[0mn_trials\u001b[0m\u001b[1;33m)\u001b[0m\u001b[1;33m\u001b[0m\u001b[1;33m\u001b[0m\u001b[0m\n",
      "\u001b[1;32m~\\AppData\\Local\\Temp\\ipykernel_8544\\2366098666.py\u001b[0m in \u001b[0;36mobjective\u001b[1;34m(trial, X, y)\u001b[0m\n\u001b[0;32m     43\u001b[0m     \u001b[1;32melif\u001b[0m \u001b[0mmodel_type\u001b[0m \u001b[1;33m==\u001b[0m \u001b[0mmodel_enum\u001b[0m\u001b[1;33m[\u001b[0m\u001b[1;36m2\u001b[0m\u001b[1;33m]\u001b[0m\u001b[1;33m:\u001b[0m   \u001b[1;31m#SVM\u001b[0m\u001b[1;33m\u001b[0m\u001b[1;33m\u001b[0m\u001b[0m\n\u001b[0;32m     44\u001b[0m         param_grid = {\n\u001b[1;32m---> 45\u001b[1;33m             \u001b[1;34m\"C\"\u001b[0m\u001b[1;33m:\u001b[0m \u001b[0mtrial\u001b[0m\u001b[1;33m.\u001b[0m\u001b[0msuggest_float\u001b[0m\u001b[1;33m(\u001b[0m\u001b[1;34m'C'\u001b[0m\u001b[1;33m,\u001b[0m \u001b[1;33m[\u001b[0m\u001b[1;36m0.1\u001b[0m\u001b[1;33m,\u001b[0m \u001b[1;36m10\u001b[0m\u001b[1;33m]\u001b[0m\u001b[1;33m)\u001b[0m\u001b[1;33m,\u001b[0m\u001b[1;33m\u001b[0m\u001b[1;33m\u001b[0m\u001b[0m\n\u001b[0m\u001b[0;32m     46\u001b[0m             \u001b[1;34m'gamma'\u001b[0m\u001b[1;33m:\u001b[0m \u001b[0mtrial\u001b[0m\u001b[1;33m.\u001b[0m\u001b[0msuggest_categorical\u001b[0m\u001b[1;33m(\u001b[0m\u001b[1;34m\"gamma\"\u001b[0m\u001b[1;33m,\u001b[0m \u001b[1;33m[\u001b[0m\u001b[1;34m'scale'\u001b[0m\u001b[1;33m,\u001b[0m \u001b[1;34m'auto'\u001b[0m\u001b[1;33m]\u001b[0m\u001b[1;33m)\u001b[0m\u001b[1;33m,\u001b[0m\u001b[1;33m\u001b[0m\u001b[1;33m\u001b[0m\u001b[0m\n\u001b[0;32m     47\u001b[0m             \u001b[1;34m'tol'\u001b[0m\u001b[1;33m:\u001b[0m \u001b[0mtrial\u001b[0m\u001b[1;33m.\u001b[0m\u001b[0msuggest_categorical\u001b[0m\u001b[1;33m(\u001b[0m\u001b[1;34m\"tol\"\u001b[0m\u001b[1;33m,\u001b[0m \u001b[1;33m[\u001b[0m\u001b[1;36m1e-2\u001b[0m\u001b[1;33m,\u001b[0m \u001b[1;36m1e-3\u001b[0m\u001b[1;33m,\u001b[0m \u001b[1;36m1e-4\u001b[0m\u001b[1;33m]\u001b[0m\u001b[1;33m)\u001b[0m\u001b[1;33m,\u001b[0m\u001b[1;33m\u001b[0m\u001b[1;33m\u001b[0m\u001b[0m\n",
      "\u001b[1;31mTypeError\u001b[0m: suggest_float() missing 1 required positional argument: 'high'"
     ]
    }
   ],
   "source": [
    "blood_study = optuna.create_study(direction=\"minimize\", study_name=\"Blood_Regressor\")\n",
    "func = lambda trial: objective(trial, ratio_X, ratio_y)\n",
    "blood_study.optimize(func, n_trials=n_trials)"
   ]
  },
  {
   "cell_type": "code",
   "execution_count": null,
   "metadata": {},
   "outputs": [
    {
     "name": "stdout",
     "output_type": "stream",
     "text": [
      "Blood tuning result:\n",
      "Best value: 1.34910\n",
      "Best params:\n",
      "\t'boosting_type': dart,\n",
      "\t'max_depth': 9,\n",
      "\t'learning_rate': 0.014,\n",
      "\t'n_estimators': 2900,\n",
      "\t'objective': regression,\n",
      "\t'min_child_samples': 30,\n",
      "\t'reg_lambda': 0.01837328293363213,\n",
      "\t'reg_alpha': 0.028586571129442278,\n"
     ]
    }
   ],
   "source": [
    "print(\"Blood tuning result:\")\n",
    "print(f\"Best value: {blood_study.best_value:.5f}\")\n",
    "print(f\"Best params:\")\n",
    "\n",
    "for key, value in blood_study.best_params.items():\n",
    "    print(f\"\\t\\'{key}\\': {value},\")"
   ]
  },
  {
   "cell_type": "code",
   "execution_count": null,
   "metadata": {},
   "outputs": [],
   "source": [
    "# brain_study = optuna.create_study(direction=\"minimize\", study_name=\"Brain_Regressor\")\n",
    "# func = lambda trial: objective(trial, brain_X, brain_y)\n",
    "# brain_study.optimize(func, n_trials=n_trials)\n"
   ]
  },
  {
   "cell_type": "code",
   "execution_count": null,
   "metadata": {},
   "outputs": [],
   "source": [
    "# print(\"Brain tuning result:\")\n",
    "# print(f\"Best value: {brain_study.best_value:.5f}\")\n",
    "# print(f\"Best params:\")\n",
    "\n",
    "# for key, value in brain_study.best_params.items():\n",
    "#     print(f\"\\t\\'{key}\\': {value},\")"
   ]
  }
 ],
 "metadata": {
  "kernelspec": {
   "display_name": "BBB",
   "language": "python",
   "name": "python3"
  },
  "language_info": {
   "codemirror_mode": {
    "name": "ipython",
    "version": 3
   },
   "file_extension": ".py",
   "mimetype": "text/x-python",
   "name": "python",
   "nbconvert_exporter": "python",
   "pygments_lexer": "ipython3",
   "version": "3.7.12"
  },
  "orig_nbformat": 4,
  "vscode": {
   "interpreter": {
    "hash": "1e16bf243da0930d7340ce187bde8e3a4b0a6cf5e6333c4d640cd2c98ac77f14"
   }
  }
 },
 "nbformat": 4,
 "nbformat_minor": 2
}
