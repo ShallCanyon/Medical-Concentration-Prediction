{
 "cells": [
  {
   "cell_type": "code",
   "execution_count": 10,
   "metadata": {},
   "outputs": [],
   "source": [
    "from sklearn.preprocessing import StandardScaler, MinMaxScaler, LabelEncoder\n",
    "from sklearn.pipeline import make_pipeline\n",
    "from sklearn.feature_selection import VarianceThreshold, RFE, RFECV, f_regression, mutual_info_regression, SelectPercentile, SelectFromModel\n",
    "from sklearn.model_selection import StratifiedKFold\n",
    "from sklearn.svm import SVC\n",
    "from sklearn.ensemble import ExtraTreesClassifier\n",
    "from sklearn.linear_model import LogisticRegression as LR\n",
    "from time import time\n",
    "import pandas as pd"
   ]
  },
  {
   "cell_type": "code",
   "execution_count": 11,
   "metadata": {},
   "outputs": [],
   "source": [
    "def get_X_Y(csvfile):\n",
    "    df = pd.read_csv(csvfile)\n",
    "    print(\"Initial: \", df.shape)\n",
    "\n",
    "    df = df.dropna(axis=1)\n",
    "    print(\"DropNA: \", df.shape)\n",
    "    df = df.drop_duplicates()\n",
    "    print(\"Drop duplicates: \", df.shape)\n",
    "    \n",
    "    X = df.drop(['SMILES', 'Blood', 'Brain', 'Ratio'], axis=1).astype('float64')\n",
    "    X = MinMaxScaler().fit_transform(X)\n",
    "    # print(len(X))\n",
    "    blood_y = df['Blood'].ravel()\n",
    "    brain_y = df['Brain'].ravel()\n",
    "    ratio_y = df['Ratio'].ravel()\n",
    "    SMILES = df['SMILES']\n",
    "    return X, blood_y, brain_y, ratio_y, SMILES"
   ]
  },
  {
   "cell_type": "code",
   "execution_count": 12,
   "metadata": {},
   "outputs": [],
   "source": [
    "def get_VT(thres=0.02):\n",
    "    # deleted all features that were either one or zero in more than 98% of samples\n",
    "    selector = VarianceThreshold(thres)\n",
    "    return selector\n",
    "\n",
    "def get_RFE(n):\n",
    "    from sklearn.ensemble import RandomForestRegressor as RFR\n",
    "    \n",
    "    # base estimator SVM\n",
    "    # estimator = SVC(kernel=\"rbf\")\n",
    "    # estimator = LR(max_iter=10000, solver='liblinear', class_weight='balanced')\n",
    "    estimator = RFR()\n",
    "    selector = RFE(estimator=estimator, n_features_to_select=n)\n",
    "    # selector = RFECV(estimator=estimator, step=1, cv=StratifiedKFold(2),\n",
    "    #           scoring='accuracy', n_jobs=-1)\n",
    "    return selector\n",
    "\n",
    "def get_UFE(percentile=80):\n",
    "    # use F-test algorithm\n",
    "    selector = SelectPercentile(score_func=mutual_info_regression, percentile=percentile)\n",
    "    return selector\n",
    "\n",
    "\n",
    "def tree_based_selection(X, y):\n",
    "    clf = ExtraTreesClassifier()\n",
    "    clf = clf.fit(X, y)\n",
    "    # print(clf.feature_importances_)\n",
    "    # array([ 0.04...,  0.05...,  0.4...,  0.4...])\n",
    "    model = SelectFromModel(clf, prefit=True)\n",
    "    X_new = model.transform(X)\n",
    "    # print(X_new.shape)\n",
    "    return X_new, clf.feature_importances_\n"
   ]
  },
  {
   "cell_type": "code",
   "execution_count": 13,
   "metadata": {},
   "outputs": [
    {
     "name": "stdout",
     "output_type": "stream",
     "text": [
      "Initial:  (420, 1617)\n",
      "DropNA:  (420, 1588)\n",
      "Drop duplicates:  (364, 1588)\n",
      "(364, 1584)\n"
     ]
    }
   ],
   "source": [
    "filetime = \"20221221\"\n",
    "desc_csvfilepath = f\"./result/{filetime}/RatioDescriptors.csv\"\n",
    "X, blood_y, brain_y, ratio_y, SMILES = get_X_Y(desc_csvfilepath)\n",
    "origin_X = X\n",
    "y = blood_y\n",
    "print(X.shape)"
   ]
  },
  {
   "cell_type": "code",
   "execution_count": 14,
   "metadata": {},
   "outputs": [
    {
     "name": "stdout",
     "output_type": "stream",
     "text": [
      "(364, 627)\n"
     ]
    }
   ],
   "source": [
    "selector = get_VT(0.02)\n",
    "\n",
    "X = selector.fit_transform(X, y)\n",
    "\n",
    "print(X.shape)"
   ]
  },
  {
   "cell_type": "code",
   "execution_count": 15,
   "metadata": {},
   "outputs": [],
   "source": [
    "# X, fea = tree_based_selection(X, y)\n",
    "# print(X.shape)"
   ]
  },
  {
   "cell_type": "code",
   "execution_count": 16,
   "metadata": {},
   "outputs": [
    {
     "name": "stdout",
     "output_type": "stream",
     "text": [
      "(364, 501)\n"
     ]
    }
   ],
   "source": [
    "selector = get_UFE()\n",
    "\n",
    "X = selector.fit_transform(X, y)\n",
    "print(X.shape)"
   ]
  },
  {
   "cell_type": "code",
   "execution_count": 17,
   "metadata": {},
   "outputs": [
    {
     "name": "stdout",
     "output_type": "stream",
     "text": [
      "(364, 200)\n"
     ]
    }
   ],
   "source": [
    "selector = get_RFE(200)\n",
    "\n",
    "X = selector.fit_transform(X, y)\n",
    "print(X.shape)"
   ]
  },
  {
   "cell_type": "code",
   "execution_count": 18,
   "metadata": {},
   "outputs": [
    {
     "name": "stdout",
     "output_type": "stream",
     "text": [
      "[5, 10, 60, 76, 111, 129, 132, 142, 150, 151, 162, 164, 168, 183, 184, 186, 196, 203, 220, 222, 223, 230, 231, 243, 246, 247, 254, 255, 261, 264, 270, 289, 300, 310, 311, 320, 323, 325, 333, 334, 337, 338, 350, 359, 368, 369, 396, 397, 404, 405, 414, 422, 441, 446, 449, 452, 453, 458, 465, 466, 474, 481, 489, 497, 498, 502, 506, 513, 514, 522, 529, 530, 534, 540, 541, 542, 546, 549, 561, 565, 566, 567, 568, 570, 572, 581, 582, 589, 594, 597, 598, 599, 600, 602, 604, 610, 618, 626, 629, 630, 631, 632, 637, 638, 642, 644, 645, 646, 648, 665, 781, 788, 791, 802, 803, 807, 814, 816, 825, 832, 838, 846, 847, 848, 978, 981, 986, 987, 999, 1055, 1057, 1065, 1072, 1086, 1134, 1136, 1139, 1143, 1144, 1145, 1156, 1157, 1161, 1163, 1165, 1209, 1211, 1217, 1219, 1221, 1226, 1228, 1232, 1235, 1236, 1238, 1245, 1249, 1250, 1252, 1253, 1257, 1259, 1262, 1263, 1266, 1278, 1281, 1282, 1286, 1287, 1289, 1297, 1301, 1306, 1309, 1311, 1314, 1319, 1325, 1328, 1330, 1333, 1337, 1356, 1357, 1358, 1360, 1362, 1377, 1382, 1523, 1524, 1539, 1540, 1541, 1543, 1544, 1545, 1547]\n",
      "200\n"
     ]
    }
   ],
   "source": [
    "X = pd.DataFrame(X)\n",
    "origin_X = pd.DataFrame(origin_X)\n",
    "# print(X.columns.to_list())\n",
    "column_header = []\n",
    "for idx, col in X.iteritems():\n",
    "    for origin_idx, origin_col in origin_X.iteritems():\n",
    "        if col.equals(origin_col):\n",
    "            column_header.append(origin_idx)\n",
    "            break\n",
    "print(column_header)\n",
    "print(len(column_header))"
   ]
  }
 ],
 "metadata": {
  "kernelspec": {
   "display_name": "BBB",
   "language": "python",
   "name": "python3"
  },
  "language_info": {
   "codemirror_mode": {
    "name": "ipython",
    "version": 3
   },
   "file_extension": ".py",
   "mimetype": "text/x-python",
   "name": "python",
   "nbconvert_exporter": "python",
   "pygments_lexer": "ipython3",
   "version": "3.7.12"
  },
  "orig_nbformat": 4,
  "vscode": {
   "interpreter": {
    "hash": "1e16bf243da0930d7340ce187bde8e3a4b0a6cf5e6333c4d640cd2c98ac77f14"
   }
  }
 },
 "nbformat": 4,
 "nbformat_minor": 2
}
