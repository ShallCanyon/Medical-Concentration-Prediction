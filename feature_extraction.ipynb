{
 "cells": [
  {
   "cell_type": "code",
   "execution_count": 10,
   "metadata": {},
   "outputs": [],
   "source": [
    "from sklearn.preprocessing import StandardScaler, MinMaxScaler, LabelEncoder\n",
    "from sklearn.pipeline import make_pipeline\n",
    "from sklearn.feature_selection import VarianceThreshold, RFE, RFECV, f_regression, mutual_info_regression, SelectPercentile, SelectFromModel\n",
    "from sklearn.model_selection import StratifiedKFold\n",
    "from sklearn.svm import SVC\n",
    "from sklearn.ensemble import ExtraTreesRegressor\n",
    "from sklearn.linear_model import LogisticRegression as LR\n",
    "from time import time\n",
    "import global_config as cfg\n",
    "import pandas as pd"
   ]
  },
  {
   "cell_type": "code",
   "execution_count": 11,
   "metadata": {},
   "outputs": [],
   "source": [
    "def get_X_Y(csvfile):\n",
    "    df = pd.read_csv(csvfile)\n",
    "    print(\"Initial: \", df.shape)\n",
    "\n",
    "    df = df.dropna(axis=1)\n",
    "    print(\"DropNA: \", df.shape)\n",
    "    df = df.drop_duplicates()\n",
    "    print(\"Drop duplicates: \", df.shape)\n",
    "    \n",
    "    X = df.drop(['SMILES', 'Blood', 'Brain', 'Ratio'], axis=1).astype('float64')\n",
    "    X = MinMaxScaler().fit_transform(X)\n",
    "    # print(len(X))\n",
    "    blood_y = df['Blood'].ravel()\n",
    "    brain_y = df['Brain'].ravel()\n",
    "    ratio_y = df['Ratio'].ravel()\n",
    "    SMILES = df['SMILES']\n",
    "    return X, blood_y, brain_y, ratio_y, SMILES"
   ]
  },
  {
   "cell_type": "code",
   "execution_count": 12,
   "metadata": {},
   "outputs": [],
   "source": [
    "def get_VT(thres=0.02):\n",
    "    # deleted all features that were either one or zero in more than 98% of samples\n",
    "    selector = VarianceThreshold(thres)\n",
    "    return selector\n",
    "\n",
    "def get_RFE(n):\n",
    "    from sklearn.ensemble import RandomForestRegressor as RFR\n",
    "    \n",
    "    # base estimator SVM\n",
    "    # estimator = SVC(kernel=\"rbf\")\n",
    "    # estimator = LR(max_iter=10000, solver='liblinear', class_weight='balanced')\n",
    "    estimator = RFR()\n",
    "    selector = RFE(estimator=estimator, n_features_to_select=n)\n",
    "    # selector = RFECV(estimator=estimator, step=1, cv=StratifiedKFold(2),\n",
    "    #           scoring='accuracy', n_jobs=-1)\n",
    "    return selector\n",
    "\n",
    "def get_UFE(percentile=80):\n",
    "    selector = SelectPercentile(score_func=mutual_info_regression, percentile=percentile)\n",
    "    return selector\n",
    "\n",
    "\n",
    "def tree_based_selection(X, y):\n",
    "    clf = ExtraTreesRegressor()\n",
    "    clf = clf.fit(X, y)\n",
    "    # print(clf.feature_importances_)\n",
    "    # array([ 0.04...,  0.05...,  0.4...,  0.4...])\n",
    "    model = SelectFromModel(clf, prefit=True)\n",
    "    X_new = model.transform(X)\n",
    "    # print(X_new.shape)\n",
    "    return X_new, clf.feature_importances_\n",
    "\n"
   ]
  },
  {
   "cell_type": "code",
   "execution_count": 13,
   "metadata": {},
   "outputs": [
    {
     "name": "stdout",
     "output_type": "stream",
     "text": [
      "Initial:  (420, 3832)\n",
      "DropNA:  (420, 3803)\n",
      "Drop duplicates:  (364, 3803)\n",
      "(364, 3799)\n"
     ]
    }
   ],
   "source": [
    "desc_csvfilepath = cfg.ECCF_csvfilepath\n",
    "X, blood_y, brain_y, ratio_y, SMILES = get_X_Y(desc_csvfilepath)\n",
    "origin_X = X\n",
    "y = blood_y\n",
    "print(X.shape)"
   ]
  },
  {
   "cell_type": "code",
   "execution_count": 14,
   "metadata": {},
   "outputs": [
    {
     "name": "stdout",
     "output_type": "stream",
     "text": [
      "(364, 1610)\n"
     ]
    }
   ],
   "source": [
    "selector = get_VT(0.02)\n",
    "\n",
    "X = selector.fit_transform(X, y)\n",
    "\n",
    "print(X.shape)"
   ]
  },
  {
   "cell_type": "code",
   "execution_count": 15,
   "metadata": {},
   "outputs": [
    {
     "name": "stdout",
     "output_type": "stream",
     "text": [
      "(364, 127)\n"
     ]
    }
   ],
   "source": [
    "X, fea = tree_based_selection(X, y)\n",
    "print(X.shape)"
   ]
  },
  {
   "cell_type": "code",
   "execution_count": 16,
   "metadata": {},
   "outputs": [
    {
     "name": "stdout",
     "output_type": "stream",
     "text": [
      "(364, 101)\n",
      "[[0.         0.34375    0.1235651  ... 0.         0.         0.        ]\n",
      " [0.         0.375      0.25167211 ... 0.         0.         0.        ]\n",
      " [0.         0.375      0.19822678 ... 0.         1.         0.        ]\n",
      " ...\n",
      " [0.         0.1875     0.18422772 ... 0.         0.         0.        ]\n",
      " [0.33333333 0.375      0.38712086 ... 0.         0.         0.        ]\n",
      " [0.         0.5625     0.53191269 ... 0.         0.         0.        ]]\n"
     ]
    }
   ],
   "source": [
    "selector = get_UFE()\n",
    "\n",
    "X = selector.fit_transform(X, y)\n",
    "print(X.shape)\n",
    "print(X)"
   ]
  },
  {
   "cell_type": "code",
   "execution_count": 17,
   "metadata": {},
   "outputs": [],
   "source": [
    "# from sklearn.decomposition import PCA\n",
    "\n",
    "# pca = PCA(n_components = 0.95)\n",
    "# X = pca.fit_transform(X)\n",
    "# print(X.shape)\n",
    "# print(X)"
   ]
  },
  {
   "cell_type": "code",
   "execution_count": 18,
   "metadata": {},
   "outputs": [
    {
     "name": "stdout",
     "output_type": "stream",
     "text": [
      "(364, 50)\n",
      "[[0.         0.18083146 0.15281024 ... 0.26196189 0.76923077 0.        ]\n",
      " [0.         0.3071882  0.2609079  ... 0.24522396 0.8        0.        ]\n",
      " [0.         0.23100553 0.21529457 ... 0.18019614 1.         0.        ]\n",
      " ...\n",
      " [0.         0.19762441 0.13322477 ... 0.45165843 0.66666667 0.        ]\n",
      " [0.33333333 0.49232029 0.42457957 ... 0.21651376 1.         0.        ]\n",
      " [0.         0.62256809 0.63487368 ... 0.35847417 1.         0.        ]]\n"
     ]
    }
   ],
   "source": [
    "selector = get_RFE(50)\n",
    "\n",
    "X = selector.fit_transform(X, y)\n",
    "print(X.shape)\n",
    "print(X)"
   ]
  },
  {
   "cell_type": "code",
   "execution_count": 19,
   "metadata": {},
   "outputs": [
    {
     "name": "stdout",
     "output_type": "stream",
     "text": [
      "[3, 67, 78, 186, 243, 264, 270, 300, 334, 341, 359, 397, 449, 450, 457, 458, 502, 506, 542, 546, 565, 570, 572, 594, 602, 604, 610, 618, 630, 642, 648, 651, 678, 729, 755, 781, 792, 815, 986, 1060, 1136, 1139, 1143, 1163, 1226, 1246, 1278, 1539, 1552, 2544]\n",
      "50\n"
     ]
    }
   ],
   "source": [
    "X = pd.DataFrame(X)\n",
    "origin_X = pd.DataFrame(origin_X)\n",
    "# print(X.columns.to_list())\n",
    "column_header = []\n",
    "for idx, col in X.iteritems():\n",
    "    for origin_idx, origin_col in origin_X.iteritems():\n",
    "        if col.equals(origin_col):\n",
    "            column_header.append(origin_idx)\n",
    "            break\n",
    "print(column_header)\n",
    "print(len(column_header))"
   ]
  }
 ],
 "metadata": {
  "kernelspec": {
   "display_name": "BBB",
   "language": "python",
   "name": "python3"
  },
  "language_info": {
   "codemirror_mode": {
    "name": "ipython",
    "version": 3
   },
   "file_extension": ".py",
   "mimetype": "text/x-python",
   "name": "python",
   "nbconvert_exporter": "python",
   "pygments_lexer": "ipython3",
   "version": "3.7.12"
  },
  "orig_nbformat": 4,
  "vscode": {
   "interpreter": {
    "hash": "1e16bf243da0930d7340ce187bde8e3a4b0a6cf5e6333c4d640cd2c98ac77f14"
   }
  }
 },
 "nbformat": 4,
 "nbformat_minor": 2
}
