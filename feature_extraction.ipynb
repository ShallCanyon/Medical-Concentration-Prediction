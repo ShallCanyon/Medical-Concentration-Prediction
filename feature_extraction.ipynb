{
 "cells": [
  {
   "cell_type": "code",
   "execution_count": 1,
   "metadata": {},
   "outputs": [],
   "source": [
    "from sklearn.preprocessing import StandardScaler, MinMaxScaler, LabelEncoder\n",
    "from sklearn.pipeline import make_pipeline\n",
    "from sklearn.feature_selection import VarianceThreshold, RFE, RFECV, f_regression, mutual_info_regression, SelectPercentile, SelectFromModel\n",
    "from sklearn.model_selection import StratifiedKFold\n",
    "from sklearn.svm import SVC\n",
    "from sklearn.ensemble import ExtraTreesRegressor\n",
    "from sklearn.linear_model import LogisticRegression as LR\n",
    "from time import time\n",
    "import global_config as cfg\n",
    "import pandas as pd"
   ]
  },
  {
   "cell_type": "code",
   "execution_count": 2,
   "metadata": {},
   "outputs": [],
   "source": [
    "def get_X_Y(csvfile):\n",
    "    df = pd.read_csv(csvfile)\n",
    "    print(\"Initial: \", df.shape)\n",
    "\n",
    "    df = df.dropna(axis=1)\n",
    "    print(\"DropNA: \", df.shape)\n",
    "    df = df.drop_duplicates()\n",
    "    print(\"Drop duplicates: \", df.shape)\n",
    "    \n",
    "    X = df.drop(['SMILES', 'Blood', 'Brain', 'Ratio'], axis=1).astype('float64')\n",
    "    X = MinMaxScaler().fit_transform(X)\n",
    "    # print(len(X))\n",
    "    blood_y = df['Blood'].ravel()\n",
    "    brain_y = df['Brain'].ravel()\n",
    "    ratio_y = df['Ratio'].ravel()\n",
    "    SMILES = df['SMILES']\n",
    "    return X, blood_y, brain_y, ratio_y, SMILES"
   ]
  },
  {
   "cell_type": "code",
   "execution_count": 3,
   "metadata": {},
   "outputs": [],
   "source": [
    "def get_VT(thres=0.02):\n",
    "    # deleted all features that were either one or zero in more than 98% of samples\n",
    "    selector = VarianceThreshold(thres)\n",
    "    return selector\n",
    "\n",
    "def get_RFE(n):\n",
    "    from sklearn.ensemble import RandomForestRegressor as RFR\n",
    "    \n",
    "    # base estimator SVM\n",
    "    # estimator = SVC(kernel=\"rbf\")\n",
    "    # estimator = LR(max_iter=10000, solver='liblinear', class_weight='balanced')\n",
    "    estimator = RFR()\n",
    "    selector = RFE(estimator=estimator, n_features_to_select=n)\n",
    "    # selector = RFECV(estimator=estimator, step=1, cv=StratifiedKFold(2),\n",
    "    #           scoring='accuracy', n_jobs=-1)\n",
    "    return selector\n",
    "\n",
    "def get_UFE(percentile=80):\n",
    "    selector = SelectPercentile(score_func=mutual_info_regression, percentile=percentile)\n",
    "    return selector\n",
    "\n",
    "\n",
    "def tree_based_selection(X, y):\n",
    "    clf = ExtraTreesRegressor()\n",
    "    clf = clf.fit(X, y)\n",
    "    # print(clf.feature_importances_)\n",
    "    # array([ 0.04...,  0.05...,  0.4...,  0.4...])\n",
    "    model = SelectFromModel(clf, prefit=True)\n",
    "    X_new = model.transform(X)\n",
    "    # print(X_new.shape)\n",
    "    return X_new, clf.feature_importances_\n",
    "\n"
   ]
  },
  {
   "cell_type": "code",
   "execution_count": 4,
   "metadata": {},
   "outputs": [
    {
     "name": "stderr",
     "output_type": "stream",
     "text": [
      "c:\\Users\\80473\\anaconda3\\envs\\BBB\\lib\\site-packages\\ipykernel_launcher.py:2: DtypeWarning: Columns (2401,2402,2444,2448,2450,2461,2467,2471,2520,2521,2563,2567,2569,2580,2586,2590,2761,2762) have mixed types.Specify dtype option on import or set low_memory=False.\n",
      "  \n"
     ]
    },
    {
     "name": "stdout",
     "output_type": "stream",
     "text": [
      "Initial:  (414, 9706)\n",
      "DropNA:  (414, 3309)\n",
      "Drop duplicates:  (358, 3309)\n",
      "(358, 3305)\n"
     ]
    }
   ],
   "source": [
    "desc_csvfilepath = cfg.padel_csvfilepath\n",
    "X, blood_y, brain_y, ratio_y, SMILES = get_X_Y(desc_csvfilepath)\n",
    "origin_X = X\n",
    "y = ratio_y\n",
    "print(X.shape)"
   ]
  },
  {
   "cell_type": "code",
   "execution_count": 5,
   "metadata": {},
   "outputs": [
    {
     "name": "stdout",
     "output_type": "stream",
     "text": [
      "(358, 1385)\n"
     ]
    }
   ],
   "source": [
    "selector = get_VT(0.02)\n",
    "\n",
    "X = selector.fit_transform(X, y)\n",
    "\n",
    "print(X.shape)"
   ]
  },
  {
   "cell_type": "code",
   "execution_count": 6,
   "metadata": {},
   "outputs": [
    {
     "name": "stdout",
     "output_type": "stream",
     "text": [
      "(358, 108)\n"
     ]
    }
   ],
   "source": [
    "X, fea = tree_based_selection(X, y)\n",
    "print(X.shape)"
   ]
  },
  {
   "cell_type": "code",
   "execution_count": 7,
   "metadata": {},
   "outputs": [
    {
     "name": "stdout",
     "output_type": "stream",
     "text": [
      "(358, 86)\n",
      "[[0.34375    0.17272727 0.13500482 ... 1.         1.         1.        ]\n",
      " [0.375      0.29166667 0.25650916 ... 1.         1.         1.        ]\n",
      " [0.375      0.17575758 0.19864995 ... 1.         1.         1.        ]\n",
      " ...\n",
      " [0.1875     0.27878788 0.07618129 ... 0.         0.         0.        ]\n",
      " [0.375      0.38787879 0.34715526 ... 1.         1.         0.        ]\n",
      " [0.5625     0.53207071 0.58052073 ... 1.         1.         0.        ]]\n"
     ]
    }
   ],
   "source": [
    "selector = get_UFE()\n",
    "\n",
    "X = selector.fit_transform(X, y)\n",
    "print(X.shape)\n",
    "print(X)"
   ]
  },
  {
   "cell_type": "code",
   "execution_count": 8,
   "metadata": {},
   "outputs": [],
   "source": [
    "# from sklearn.decomposition import PCA\n",
    "\n",
    "# pca = PCA(n_components = 0.95)\n",
    "# X = pca.fit_transform(X)\n",
    "# print(X.shape)\n",
    "# print(X)"
   ]
  },
  {
   "cell_type": "code",
   "execution_count": 9,
   "metadata": {},
   "outputs": [
    {
     "name": "stdout",
     "output_type": "stream",
     "text": [
      "(358, 50)\n",
      "[[0.17272727 0.13500482 0.25402322 ... 0.76107454 0.14885664 0.56809405]\n",
      " [0.29166667 0.25650916 0.32824506 ... 0.81706112 0.27616535 0.50799694]\n",
      " [0.17575758 0.19864995 0.28921875 ... 0.77503097 0.15127529 0.28341585]\n",
      " ...\n",
      " [0.27878788 0.07618129 0.27978368 ... 0.57646998 0.24131486 0.        ]\n",
      " [0.38787879 0.34715526 0.4791944  ... 0.7110843  0.36587511 0.32274033]\n",
      " [0.53207071 0.58052073 0.62232751 ... 0.84812377 0.43359719 0.33051587]]\n"
     ]
    }
   ],
   "source": [
    "selector = get_RFE(50)\n",
    "\n",
    "X = selector.fit_transform(X, y)\n",
    "print(X.shape)\n",
    "print(X)"
   ]
  },
  {
   "cell_type": "code",
   "execution_count": 10,
   "metadata": {},
   "outputs": [
    {
     "name": "stdout",
     "output_type": "stream",
     "text": [
      "[39, 43, 73, 74, 144, 222, 413, 453, 457, 497, 547, 570, 602, 626, 648, 704, 755, 781, 820, 825, 847, 907, 981, 1057, 1061, 1065, 1139, 1140, 1143, 1209, 1213, 1221, 1226, 1259, 1383, 1432, 1534, 1543, 1601, 1666, 1682, 1690, 1708, 1723, 1747, 1755, 1802, 1808, 1891, 1907]\n",
      "50\n"
     ]
    }
   ],
   "source": [
    "X = pd.DataFrame(X)\n",
    "origin_X = pd.DataFrame(origin_X)\n",
    "# print(X.columns.to_list())\n",
    "column_header = []\n",
    "for idx, col in X.iteritems():\n",
    "    for origin_idx, origin_col in origin_X.iteritems():\n",
    "        if col.equals(origin_col):\n",
    "            column_header.append(origin_idx)\n",
    "            break\n",
    "print(column_header)\n",
    "print(len(column_header))"
   ]
  }
 ],
 "metadata": {
  "kernelspec": {
   "display_name": "BBB",
   "language": "python",
   "name": "python3"
  },
  "language_info": {
   "codemirror_mode": {
    "name": "ipython",
    "version": 3
   },
   "file_extension": ".py",
   "mimetype": "text/x-python",
   "name": "python",
   "nbconvert_exporter": "python",
   "pygments_lexer": "ipython3",
   "version": "3.7.12"
  },
  "orig_nbformat": 4,
  "vscode": {
   "interpreter": {
    "hash": "1e16bf243da0930d7340ce187bde8e3a4b0a6cf5e6333c4d640cd2c98ac77f14"
   }
  }
 },
 "nbformat": 4,
 "nbformat_minor": 2
}
