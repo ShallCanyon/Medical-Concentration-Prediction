{
 "cells": [
  {
   "cell_type": "code",
   "execution_count": 21,
   "metadata": {},
   "outputs": [],
   "source": [
    "from sklearn.preprocessing import StandardScaler, MinMaxScaler, LabelEncoder\n",
    "from sklearn.pipeline import make_pipeline\n",
    "from sklearn.feature_selection import VarianceThreshold, RFE, RFECV, f_regression, mutual_info_regression, SelectPercentile, SelectFromModel\n",
    "from sklearn.model_selection import StratifiedKFold\n",
    "from sklearn.svm import SVC\n",
    "from sklearn.ensemble import ExtraTreesRegressor\n",
    "from sklearn.linear_model import LogisticRegression as LR\n",
    "from time import time\n",
    "import global_config as cfg\n",
    "import pandas as pd"
   ]
  },
  {
   "cell_type": "code",
   "execution_count": 22,
   "metadata": {},
   "outputs": [],
   "source": [
    "def get_X_Y(csvfile):\n",
    "    df = pd.read_csv(csvfile)\n",
    "    print(\"Initial: \", df.shape)\n",
    "\n",
    "    df = df.dropna(axis=1)\n",
    "    print(\"DropNA: \", df.shape)\n",
    "    df = df.drop_duplicates()\n",
    "    print(\"Drop duplicates: \", df.shape)\n",
    "    \n",
    "    X = df.drop(['SMILES', 'Blood', 'Brain', 'Ratio'], axis=1).astype('float64')\n",
    "    X = MinMaxScaler().fit_transform(X)\n",
    "    # print(len(X))\n",
    "    blood_y = df['Blood'].ravel()\n",
    "    brain_y = df['Brain'].ravel()\n",
    "    ratio_y = df['Ratio'].ravel()\n",
    "    SMILES = df['SMILES']\n",
    "    return X, blood_y, brain_y, ratio_y, SMILES"
   ]
  },
  {
   "cell_type": "code",
   "execution_count": 23,
   "metadata": {},
   "outputs": [],
   "source": [
    "def get_VT(thres=0.02):\n",
    "    # deleted all features that were either one or zero in more than 98% of samples\n",
    "    selector = VarianceThreshold(thres)\n",
    "    return selector\n",
    "\n",
    "def get_RFE(n):\n",
    "    from sklearn.ensemble import RandomForestRegressor as RFR\n",
    "    \n",
    "    # base estimator SVM\n",
    "    # estimator = SVC(kernel=\"rbf\")\n",
    "    # estimator = LR(max_iter=10000, solver='liblinear', class_weight='balanced')\n",
    "    estimator = RFR()\n",
    "    selector = RFE(estimator=estimator, n_features_to_select=n)\n",
    "    # selector = RFECV(estimator=estimator, step=1, cv=StratifiedKFold(2),\n",
    "    #           scoring='accuracy', n_jobs=-1)\n",
    "    return selector\n",
    "\n",
    "def get_UFE(percentile=80):\n",
    "    selector = SelectPercentile(score_func=mutual_info_regression, percentile=percentile)\n",
    "    return selector\n",
    "\n",
    "\n",
    "def tree_based_selection(X, y):\n",
    "    clf = ExtraTreesRegressor()\n",
    "    clf = clf.fit(X, y)\n",
    "    # print(clf.feature_importances_)\n",
    "    # array([ 0.04...,  0.05...,  0.4...,  0.4...])\n",
    "    model = SelectFromModel(clf, prefit=True)\n",
    "    X_new = model.transform(X)\n",
    "    # print(X_new.shape)\n",
    "    return X_new, clf.feature_importances_\n",
    "\n"
   ]
  },
  {
   "cell_type": "code",
   "execution_count": 24,
   "metadata": {},
   "outputs": [
    {
     "name": "stderr",
     "output_type": "stream",
     "text": [
      "c:\\Users\\80473\\anaconda3\\envs\\BBB\\lib\\site-packages\\ipykernel_launcher.py:2: DtypeWarning: Columns (788,789,831,835,837,848,854,858,907,908,950,954,956,967,973,977,1148,1149) have mixed types.Specify dtype option on import or set low_memory=False.\n",
      "  \n"
     ]
    },
    {
     "name": "stdout",
     "output_type": "stream",
     "text": [
      "Initial:  (414, 8093)\n",
      "DropNA:  (414, 1725)\n",
      "Drop duplicates:  (358, 1725)\n",
      "(358, 1721)\n"
     ]
    }
   ],
   "source": [
    "desc_csvfilepath = cfg.padel_csvfilepath\n",
    "X, blood_y, brain_y, ratio_y, SMILES = get_X_Y(desc_csvfilepath)\n",
    "origin_X = X\n",
    "y = blood_y\n",
    "print(X.shape)"
   ]
  },
  {
   "cell_type": "code",
   "execution_count": 25,
   "metadata": {},
   "outputs": [
    {
     "name": "stdout",
     "output_type": "stream",
     "text": [
      "(358, 753)\n"
     ]
    }
   ],
   "source": [
    "selector = get_VT(0.02)\n",
    "\n",
    "X = selector.fit_transform(X, y)\n",
    "\n",
    "print(X.shape)"
   ]
  },
  {
   "cell_type": "code",
   "execution_count": 26,
   "metadata": {},
   "outputs": [
    {
     "name": "stdout",
     "output_type": "stream",
     "text": [
      "(358, 56)\n"
     ]
    }
   ],
   "source": [
    "X, fea = tree_based_selection(X, y)\n",
    "print(X.shape)"
   ]
  },
  {
   "cell_type": "code",
   "execution_count": 27,
   "metadata": {},
   "outputs": [
    {
     "name": "stdout",
     "output_type": "stream",
     "text": [
      "(358, 44)\n",
      "[[0.35483871 0.32352941 0.87205263 ... 0.         1.         1.        ]\n",
      " [0.38709677 0.35294118 0.6858884  ... 1.         1.         1.        ]\n",
      " [0.38709677 0.35294118 0.7049152  ... 1.         1.         1.        ]\n",
      " ...\n",
      " [0.         0.         0.3435903  ... 0.         0.         0.        ]\n",
      " [0.38709677 0.35294118 0.40730173 ... 1.         1.         1.        ]\n",
      " [0.58064516 0.52941176 0.59453575 ... 1.         1.         1.        ]]\n"
     ]
    }
   ],
   "source": [
    "selector = get_UFE()\n",
    "\n",
    "X = selector.fit_transform(X, y)\n",
    "print(X.shape)\n",
    "print(X)"
   ]
  },
  {
   "cell_type": "code",
   "execution_count": 28,
   "metadata": {},
   "outputs": [],
   "source": [
    "# from sklearn.decomposition import PCA\n",
    "\n",
    "# pca = PCA(n_components = 0.95)\n",
    "# X = pca.fit_transform(X)\n",
    "# print(X.shape)\n",
    "# print(X)"
   ]
  },
  {
   "cell_type": "code",
   "execution_count": 29,
   "metadata": {},
   "outputs": [
    {
     "name": "stdout",
     "output_type": "stream",
     "text": [
      "(358, 30)\n",
      "[[0.35483871 0.32352941 0.87205263 ... 1.         0.         1.        ]\n",
      " [0.38709677 0.35294118 0.6858884  ... 1.         1.         1.        ]\n",
      " [0.38709677 0.35294118 0.7049152  ... 1.         1.         1.        ]\n",
      " ...\n",
      " [0.         0.         0.3435903  ... 0.         0.         0.        ]\n",
      " [0.38709677 0.35294118 0.40730173 ... 1.         1.         1.        ]\n",
      " [0.58064516 0.52941176 0.59453575 ... 1.         1.         1.        ]]\n"
     ]
    }
   ],
   "source": [
    "selector = get_RFE(30)\n",
    "\n",
    "X = selector.fit_transform(X, y)\n",
    "print(X.shape)\n",
    "print(X)"
   ]
  },
  {
   "cell_type": "code",
   "execution_count": 30,
   "metadata": {},
   "outputs": [
    {
     "name": "stdout",
     "output_type": "stream",
     "text": [
      "[1, 2, 17, 82, 98, 100, 106, 122, 124, 129, 156, 163, 203, 220, 226, 299, 303, 312, 313, 314, 317, 320, 350, 352, 362, 461, 903, 1003, 1188, 1242]\n",
      "30\n"
     ]
    }
   ],
   "source": [
    "X = pd.DataFrame(X)\n",
    "origin_X = pd.DataFrame(origin_X)\n",
    "# print(X.columns.to_list())\n",
    "column_header = []\n",
    "for idx, col in X.iteritems():\n",
    "    for origin_idx, origin_col in origin_X.iteritems():\n",
    "        if col.equals(origin_col):\n",
    "            column_header.append(origin_idx)\n",
    "            break\n",
    "print(column_header)\n",
    "print(len(column_header))"
   ]
  }
 ],
 "metadata": {
  "kernelspec": {
   "display_name": "BBB",
   "language": "python",
   "name": "python3"
  },
  "language_info": {
   "codemirror_mode": {
    "name": "ipython",
    "version": 3
   },
   "file_extension": ".py",
   "mimetype": "text/x-python",
   "name": "python",
   "nbconvert_exporter": "python",
   "pygments_lexer": "ipython3",
   "version": "3.7.12 | packaged by conda-forge | (default, Oct 26 2021, 05:35:01) [MSC v.1916 64 bit (AMD64)]"
  },
  "orig_nbformat": 4,
  "vscode": {
   "interpreter": {
    "hash": "1e16bf243da0930d7340ce187bde8e3a4b0a6cf5e6333c4d640cd2c98ac77f14"
   }
  }
 },
 "nbformat": 4,
 "nbformat_minor": 2
}
