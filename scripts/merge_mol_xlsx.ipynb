{
 "cells": [
  {
   "cell_type": "code",
   "execution_count": 44,
   "metadata": {},
   "outputs": [],
   "source": [
    "import os\n",
    "import pandas as pd\n",
    "import numpy as np\n"
   ]
  },
  {
   "cell_type": "code",
   "execution_count": 45,
   "metadata": {},
   "outputs": [],
   "source": [
    "def get_codes_from_filePath(filePath):\n",
    "    fileBaseName = os.path.basename(filePath)\n",
    "    literatureCode = fileBaseName.split(\".\")[0].split(\"-\")[0]\n",
    "    drugCode = fileBaseName.split(\".\")[0].split(\"-\")[1]\n",
    "    return literatureCode, drugCode"
   ]
  },
  {
   "cell_type": "code",
   "execution_count": 46,
   "metadata": {},
   "outputs": [],
   "source": [
    "header_list = [['mean1min', 'SD1min'],\n",
    "               ['mean5min', 'SD5min'],\n",
    "               ['mean10min', 'SD10min'],\n",
    "               ['mean15min', 'SD15min'],\n",
    "               ['mean20min', 'SD20min'],\n",
    "               ['mean25min', 'SD25min'],\n",
    "               ['mean30min', 'SD30min'],\n",
    "               ['mean45min', 'SD45min'],\n",
    "               ['mean60min', 'SD60min'],\n",
    "               ['mean120min', 'SD120min'],]\n",
    "organ_list = ['blood', 'lung', 'liver', 'spleen', 'kidney', 'muscle', 'fat', 'heart', 'pancreas', 'brain', 'bone']\n",
    "\n",
    "baseDir = './数据提取1/邓铸杰'\n",
    "filePath = f'{baseDir}/1059-18F7.xlsx'\n",
    "literatureCode, drugCode = get_codes_from_filePath(filePath)\n"
   ]
  },
  {
   "cell_type": "code",
   "execution_count": 47,
   "metadata": {},
   "outputs": [
    {
     "ename": "TypeError",
     "evalue": "map() must have at least two arguments.",
     "output_type": "error",
     "traceback": [
      "\u001b[1;31m---------------------------------------------------------------------------\u001b[0m",
      "\u001b[1;31mTypeError\u001b[0m                                 Traceback (most recent call last)",
      "\u001b[1;32m~\\AppData\\Local\\Temp\\ipykernel_213252\\3539590131.py\u001b[0m in \u001b[0;36m<module>\u001b[1;34m\u001b[0m\n\u001b[0;32m      1\u001b[0m \u001b[0mdata\u001b[0m \u001b[1;33m=\u001b[0m \u001b[0mpd\u001b[0m\u001b[1;33m.\u001b[0m\u001b[0mread_excel\u001b[0m\u001b[1;33m(\u001b[0m\u001b[0mfilePath\u001b[0m\u001b[1;33m)\u001b[0m\u001b[1;33m\u001b[0m\u001b[1;33m\u001b[0m\u001b[0m\n\u001b[1;32m----> 2\u001b[1;33m \u001b[0mnew_column_map\u001b[0m \u001b[1;33m=\u001b[0m \u001b[0mmap\u001b[0m\u001b[1;33m(\u001b[0m\u001b[1;33m)\u001b[0m\u001b[1;33m\u001b[0m\u001b[1;33m\u001b[0m\u001b[0m\n\u001b[0m\u001b[0;32m      3\u001b[0m \u001b[1;32mfor\u001b[0m \u001b[0mrow\u001b[0m \u001b[1;32min\u001b[0m \u001b[0mdata\u001b[0m\u001b[1;33m.\u001b[0m\u001b[0mitertuples\u001b[0m\u001b[1;33m(\u001b[0m\u001b[1;33m)\u001b[0m\u001b[1;33m:\u001b[0m\u001b[1;33m\u001b[0m\u001b[1;33m\u001b[0m\u001b[0m\n\u001b[0;32m      4\u001b[0m     \u001b[0mprint\u001b[0m\u001b[1;33m(\u001b[0m\u001b[0mrow\u001b[0m\u001b[1;33m[\u001b[0m\u001b[1;36m1\u001b[0m\u001b[1;33m]\u001b[0m\u001b[1;33m)\u001b[0m\u001b[1;33m\u001b[0m\u001b[1;33m\u001b[0m\u001b[0m\n\u001b[0;32m      5\u001b[0m     \u001b[0mdataLength\u001b[0m \u001b[1;33m=\u001b[0m \u001b[0mlen\u001b[0m\u001b[1;33m(\u001b[0m\u001b[0mrow\u001b[0m\u001b[1;33m)\u001b[0m \u001b[1;33m-\u001b[0m \u001b[1;36m2\u001b[0m\u001b[1;33m\u001b[0m\u001b[1;33m\u001b[0m\u001b[0m\n",
      "\u001b[1;31mTypeError\u001b[0m: map() must have at least two arguments."
     ]
    }
   ],
   "source": [
    "data = pd.read_excel(filePath)\n",
    "\n",
    "for row in data.itertuples():\n",
    "    print(row[1])\n",
    "    dataLength = len(row) - 2\n",
    "    print(row[2])"
   ]
  }
 ],
 "metadata": {
  "interpreter": {
   "hash": "0971f102d59b1b722e6e51d9a7a33f27af701dd5e5380b065033199aaea0d2d7"
  },
  "kernelspec": {
   "display_name": "Python 3.7.12 ('BBB')",
   "language": "python",
   "name": "python3"
  },
  "language_info": {
   "codemirror_mode": {
    "name": "ipython",
    "version": 3
   },
   "file_extension": ".py",
   "mimetype": "text/x-python",
   "name": "python",
   "nbconvert_exporter": "python",
   "pygments_lexer": "ipython3",
   "version": "3.7.12"
  },
  "orig_nbformat": 4
 },
 "nbformat": 4,
 "nbformat_minor": 2
}
