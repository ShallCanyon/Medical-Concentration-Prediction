{
 "cells": [
  {
   "cell_type": "code",
   "execution_count": 89,
   "metadata": {},
   "outputs": [],
   "source": [
    "from sklearn.preprocessing import StandardScaler, MinMaxScaler, LabelEncoder\n",
    "from sklearn.pipeline import make_pipeline\n",
    "from sklearn.feature_selection import VarianceThreshold, RFE, RFECV, f_regression, mutual_info_regression, SelectPercentile, SelectFromModel\n",
    "from sklearn.model_selection import StratifiedKFold\n",
    "from sklearn.svm import SVC\n",
    "from sklearn.ensemble import ExtraTreesRegressor\n",
    "from sklearn.linear_model import LogisticRegression as LR\n",
    "from time import time\n",
    "import global_config as cfg\n",
    "import pandas as pd\n",
    "import numpy as np"
   ]
  },
  {
   "cell_type": "code",
   "execution_count": 90,
   "metadata": {},
   "outputs": [],
   "source": [
    "def get_X_Y(csvfile):\n",
    "    df = pd.read_csv(csvfile)\n",
    "    print(\"Initial: \", df.shape)\n",
    "    df = df.replace([\"#NAME?\", np.inf, -np.inf], np.nan)\n",
    "    df = df.dropna(axis=1)\n",
    "    print(\"DropNA: \", df.shape)\n",
    "    # df = df.drop_duplicates()\n",
    "    # print(\"Drop duplicates: \", df.shape)\n",
    "    \n",
    "    X = df.drop(['SMILES', 'Blood', 'Brain', 'Ratio'], axis=1).astype('float64')\n",
    "    X = MinMaxScaler().fit_transform(X)\n",
    "    # print(len(X))\n",
    "    blood_y = df['Blood'].ravel()\n",
    "    brain_y = df['Brain'].ravel()\n",
    "    ratio_y = df['Ratio'].ravel()\n",
    "    SMILES = df['SMILES']\n",
    "    return X, blood_y, brain_y, ratio_y, SMILES"
   ]
  },
  {
   "cell_type": "code",
   "execution_count": 91,
   "metadata": {},
   "outputs": [],
   "source": [
    "def get_VT(thres=0.02):\n",
    "    # deleted all features that were either one or zero in more than 98% of samples\n",
    "    selector = VarianceThreshold(thres)\n",
    "    return selector\n",
    "\n",
    "def get_RFE(n):\n",
    "    from sklearn.ensemble import RandomForestRegressor as RFR\n",
    "    \n",
    "    # base estimator SVM\n",
    "    # estimator = SVC(kernel=\"rbf\")\n",
    "    # estimator = LR(max_iter=10000, solver='liblinear', class_weight='balanced')\n",
    "    estimator = RFR()\n",
    "    selector = RFE(estimator=estimator, n_features_to_select=n)\n",
    "    # selector = RFECV(estimator=estimator, step=1, cv=StratifiedKFold(2),\n",
    "    #           scoring='accuracy', n_jobs=-1)\n",
    "    return selector\n",
    "\n",
    "def get_UFE(percentile=80):\n",
    "    selector = SelectPercentile(score_func=mutual_info_regression, percentile=percentile)\n",
    "    return selector\n",
    "\n",
    "\n",
    "def tree_based_selection(X, y):\n",
    "    clf = ExtraTreesRegressor()\n",
    "    clf = clf.fit(X, y)\n",
    "    # print(clf.feature_importances_)\n",
    "    # array([ 0.04...,  0.05...,  0.4...,  0.4...])\n",
    "    model = SelectFromModel(clf, prefit=True)\n",
    "    X_new = model.transform(X)\n",
    "    # print(X_new.shape)\n",
    "    return X_new, clf.feature_importances_\n",
    "\n"
   ]
  },
  {
   "cell_type": "code",
   "execution_count": 92,
   "metadata": {},
   "outputs": [],
   "source": [
    "def feature_extraction(X, y, threshold=0.02, n_features_to_select=50):\n",
    "    selector = get_VT(threshold)\n",
    "    X = selector.fit_transform(X, y)\n",
    "    print(X.shape)\n",
    "    \n",
    "    X, fea = tree_based_selection(X, y)\n",
    "    print(X.shape)\n",
    "    \n",
    "    selector = get_UFE()\n",
    "    X = selector.fit_transform(X, y)\n",
    "    print(X.shape)\n",
    "    \n",
    "    selector = get_RFE(n_features_to_select)\n",
    "\n",
    "    X = selector.fit_transform(X, y)\n",
    "    print(X.shape)\n",
    "\n",
    "    return X"
   ]
  },
  {
   "cell_type": "code",
   "execution_count": 93,
   "metadata": {},
   "outputs": [],
   "source": [
    "# selector = get_VT(0.02)\n",
    "\n",
    "# X = selector.fit_transform(X, y)\n",
    "\n",
    "# print(X.shape)"
   ]
  },
  {
   "cell_type": "code",
   "execution_count": 94,
   "metadata": {},
   "outputs": [],
   "source": [
    "# X, fea = tree_based_selection(X, y)\n",
    "# print(X.shape)"
   ]
  },
  {
   "cell_type": "code",
   "execution_count": 95,
   "metadata": {},
   "outputs": [],
   "source": [
    "# selector = get_UFE()\n",
    "\n",
    "# X = selector.fit_transform(X, y)\n",
    "# print(X.shape)\n",
    "# print(X)"
   ]
  },
  {
   "cell_type": "code",
   "execution_count": 96,
   "metadata": {},
   "outputs": [],
   "source": [
    "# from sklearn.decomposition import PCA\n",
    "\n",
    "# pca = PCA(n_components = 0.95)\n",
    "# X = pca.fit_transform(X)\n",
    "# print(X.shape)\n",
    "# print(X)"
   ]
  },
  {
   "cell_type": "code",
   "execution_count": 97,
   "metadata": {},
   "outputs": [],
   "source": [
    "# selector = get_RFE(30)\n",
    "\n",
    "# X = selector.fit_transform(X, y)\n",
    "# print(X.shape)\n",
    "# print(X)"
   ]
  },
  {
   "cell_type": "code",
   "execution_count": 98,
   "metadata": {},
   "outputs": [],
   "source": [
    "def get_feature_column_index(X, origin_X):\n",
    "    if type(X) is not pd.DataFrame:\n",
    "        X = pd.DataFrame(X)\n",
    "    if type(origin_X) is not pd.DataFrame:\n",
    "        origin_X = pd.DataFrame(origin_X)\n",
    "    # print(X.columns.to_list())\n",
    "    column_header = []\n",
    "    for idx, col in X.iteritems():\n",
    "        for origin_idx, origin_col in origin_X.iteritems():\n",
    "            if col.equals(origin_col):\n",
    "                column_header.append(origin_idx)\n",
    "                break\n",
    "    return column_header"
   ]
  },
  {
   "cell_type": "code",
   "execution_count": 99,
   "metadata": {},
   "outputs": [
    {
     "name": "stderr",
     "output_type": "stream",
     "text": [
      "c:\\Users\\80473\\anaconda3\\envs\\BBB\\lib\\site-packages\\ipykernel_launcher.py:2: DtypeWarning: Columns (788,789,831,835,837,848,854,858,907,908,950,954,956,967,973,977,1148,1149) have mixed types.Specify dtype option on import or set low_memory=False.\n",
      "  \n"
     ]
    },
    {
     "name": "stdout",
     "output_type": "stream",
     "text": [
      "Initial:  (411, 9196)\n",
      "DropNA:  (411, 3576)\n",
      "(411, 3572)\n"
     ]
    }
   ],
   "source": [
    "desc_csvfilepath = cfg.padel_csvfilepath\n",
    "X, blood_y, brain_y, ratio_y, SMILES = get_X_Y(desc_csvfilepath)\n",
    "# origin_X = X\n",
    "print(X.shape)"
   ]
  },
  {
   "cell_type": "code",
   "execution_count": 100,
   "metadata": {},
   "outputs": [
    {
     "name": "stdout",
     "output_type": "stream",
     "text": [
      "Brain feature extraction:\n",
      "(411, 2060)\n",
      "(411, 186)\n",
      "(411, 148)\n",
      "(411, 50)\n",
      "[51, 101, 108, 133, 140, 166, 193, 209, 217, 233, 234, 238, 250, 261, 262, 278, 282, 283, 289, 293, 298, 306, 353, 635, 638, 709, 820, 822, 849, 853, 857, 860, 862, 877, 878, 903, 922, 965, 968, 969, 971, 1043, 1061, 1063, 1065, 1090, 1113, 1250, 1865, 2078]\n",
      "50\n"
     ]
    }
   ],
   "source": [
    "print(\"Blood feature extraction:\")\n",
    "y = blood_y\n",
    "extracted_X = feature_extraction(X, y, n_features_to_select=50)\n",
    "column_header = get_feature_column_index(extracted_X, X)\n",
    "print(column_header)\n",
    "print(len(column_header))"
   ]
  },
  {
   "cell_type": "code",
   "execution_count": 101,
   "metadata": {},
   "outputs": [
    {
     "name": "stdout",
     "output_type": "stream",
     "text": [
      "Brain feature extraction:\n",
      "(411, 2060)\n",
      "(411, 164)\n",
      "(411, 131)\n",
      "(411, 50)\n",
      "[2, 25, 26, 27, 28, 64, 69, 93, 109, 166, 167, 193, 209, 217, 233, 238, 258, 273, 274, 280, 282, 289, 294, 306, 540, 638, 704, 768, 837, 842, 849, 851, 865, 875, 909, 948, 949, 967, 1051, 1054, 1055, 1056, 1065, 1066, 1113, 1318, 1393, 1678, 1754, 1820]\n",
      "50\n"
     ]
    }
   ],
   "source": [
    "print(\"Brain feature extraction:\")\n",
    "y = brain_y\n",
    "extracted_X = feature_extraction(X, y, n_features_to_select=50)\n",
    "column_header = get_feature_column_index(extracted_X, X)\n",
    "print(column_header)\n",
    "print(len(column_header))"
   ]
  },
  {
   "cell_type": "code",
   "execution_count": 102,
   "metadata": {},
   "outputs": [
    {
     "name": "stdout",
     "output_type": "stream",
     "text": [
      "Ratio feature extraction:\n",
      "(411, 2060)\n",
      "(411, 156)\n",
      "(411, 124)\n",
      "(411, 50)\n",
      "[26, 82, 133, 140, 152, 175, 201, 204, 218, 246, 261, 262, 269, 280, 286, 351, 352, 484, 507, 591, 592, 618, 629, 632, 641, 728, 750, 763, 769, 820, 822, 832, 838, 842, 845, 851, 855, 863, 865, 893, 933, 966, 969, 1062, 1063, 1065, 1067, 1077, 1089, 3290]\n",
      "50\n"
     ]
    }
   ],
   "source": [
    "print(\"Ratio feature extraction:\")\n",
    "y = ratio_y\n",
    "extracted_X = feature_extraction(X, y, n_features_to_select=50)\n",
    "column_header = get_feature_column_index(extracted_X, X)\n",
    "print(column_header)\n",
    "print(len(column_header))"
   ]
  }
 ],
 "metadata": {
  "kernelspec": {
   "display_name": "BBB",
   "language": "python",
   "name": "python3"
  },
  "language_info": {
   "codemirror_mode": {
    "name": "ipython",
    "version": 3
   },
   "file_extension": ".py",
   "mimetype": "text/x-python",
   "name": "python",
   "nbconvert_exporter": "python",
   "pygments_lexer": "ipython3",
   "version": "3.7.12"
  },
  "orig_nbformat": 4,
  "vscode": {
   "interpreter": {
    "hash": "1e16bf243da0930d7340ce187bde8e3a4b0a6cf5e6333c4d640cd2c98ac77f14"
   }
  }
 },
 "nbformat": 4,
 "nbformat_minor": 2
}
