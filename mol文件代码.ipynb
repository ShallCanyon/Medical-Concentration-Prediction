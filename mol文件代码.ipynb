{
 "cells": [
  {
   "cell_type": "code",
   "execution_count": 55,
   "metadata": {},
   "outputs": [],
   "source": [
    "# from tkinter import Image\n",
    "from tqdm import tqdm\n",
    "from datetime import datetime\n",
    "import openpyxl\n",
    "from openpyxl.utils.dataframe import dataframe_to_rows\n",
    "from openpyxl.styles import Alignment\n",
    "from openpyxl.drawing.image import Image\n",
    "import pandas as pd\n",
    "import os\n",
    "from rdkit import Chem\n",
    "from rdkit.Chem import Draw\n",
    "from pandas.core.indexes.base import InvalidIndexError"
   ]
  },
  {
   "cell_type": "code",
   "execution_count": 56,
   "metadata": {},
   "outputs": [],
   "source": [
    "def get_deprecated_organ_names():\n",
    "    \"\"\"\n",
    "        返回冗余器官名的替换映射表\n",
    "    \"\"\"\n",
    "    deprecated_organ_names = dict()\n",
    "    deprecated_organ_names['adrenalgland'] = 'adrenal'\n",
    "    deprecated_organ_names['adrenal gland'] = 'adrenal'\n",
    "    deprecated_organ_names['adrenalglad'] = 'adrenal'\n",
    "    deprecated_organ_names['adrenay'] = 'adrenal'\n",
    "    deprecated_organ_names['adrenays'] = 'adrenal'\n",
    "    deprecated_organ_names['adrenals'] = 'adrenal'\n",
    "\n",
    "    deprecated_organ_names['bladder/urine'] = 'bladder'\n",
    "    deprecated_organ_names['braint'] = 'brain'\n",
    "    deprecated_organ_names['bran'] = 'brain'\n",
    "    deprecated_organ_names['brainstem'] = 'brain'\n",
    "    deprecated_organ_names['brown fat'] = 'fat'\n",
    "    deprecated_organ_names['brownfat'] = 'fat'\n",
    "    deprecated_organ_names['bones'] = 'bone'\n",
    "    deprecated_organ_names['bone marrow'] = 'bone'\n",
    "    deprecated_organ_names['bonemarrow'] = 'bone'\n",
    "\n",
    "    deprecated_organ_names['caudalcortex'] = 'brain'\n",
    "    deprecated_organ_names['cerebellam'] = 'brain'\n",
    "    deprecated_organ_names['cerebellun'] = 'brain'\n",
    "    deprecated_organ_names['cerebellum'] = 'brain'\n",
    "    deprecated_organ_names['cerebellurn'] = 'brain'\n",
    "    deprecated_organ_names['cerebeum'] = 'brain'\n",
    "    deprecated_organ_names['cerebrum'] = 'brain'\n",
    "    deprecated_organ_names['cerebralcortex'] = 'brain'\n",
    "    deprecated_organ_names['cerebralcoex'] = 'brain'\n",
    "    deprecated_organ_names['cerebrum(left)'] = 'brain'\n",
    "    deprecated_organ_names['cerebrum(right)'] = 'brain'\n",
    "    deprecated_organ_names['cortex'] = 'brain'\n",
    "    deprecated_organ_names['cortex(left)'] = 'brain'\n",
    "    deprecated_organ_names['cortex(right)'] = 'brain'\n",
    "    deprecated_organ_names['cranium'] = 'bone'\n",
    "\n",
    "    deprecated_organ_names['diencephalon'] = 'brain'\n",
    "    \n",
    "    deprecated_organ_names['eyes'] = 'eye'\n",
    "\n",
    "    deprecated_organ_names['faeces'] = 'feces'\n",
    "    deprecated_organ_names['frontal cortex'] = 'brain'\n",
    "    deprecated_organ_names['frontalcortex'] = 'brain'\n",
    "    deprecated_organ_names['frontalccortex'] = 'brain'\n",
    "    deprecated_organ_names['fatsubcutaneous'] = 'fat'\n",
    "    deprecated_organ_names['fat,subcutan'] = 'fat'\n",
    "    deprecated_organ_names['femur'] = 'bone'\n",
    "    deprecated_organ_names['femurs'] = 'bone'\n",
    "\n",
    "    deprecated_organ_names['gallbladder'] = 'bladder'\n",
    "\n",
    "    deprecated_organ_names['hiwocampus'] = 'brain'\n",
    "    deprecated_organ_names['hoart'] = 'heart'\n",
    "    deprecated_organ_names['hear'] = 'heart'\n",
    "    deprecated_organ_names['hippocampus'] = 'brain'\n",
    "    deprecated_organ_names['hypothalamus'] = 'brain'\n",
    "    deprecated_organ_names['hard.'] = 'hardergland'\n",
    "    deprecated_organ_names['harderiangland'] = 'hardergland'\n",
    "\n",
    "    deprecated_organ_names['iiver'] = 'liver'\n",
    "    deprecated_organ_names['intestines'] = 'intestine'\n",
    "\n",
    "    deprecated_organ_names['kidneys'] = 'kidney'\n",
    "    deprecated_organ_names['ktdney'] = 'kidney'\n",
    "    deprecated_organ_names['kidners'] = 'kidney'\n",
    "    deprecated_organ_names['kidncy'] = 'kidney'\n",
    "\n",
    "    deprecated_organ_names['lungs'] = 'lung'\n",
    "    deprecated_organ_names['lurg'] = 'lung'\n",
    "    deprecated_organ_names['lver'] = 'liver'\n",
    "    deprecated_organ_names['l-intestine'] = 'large intestine'\n",
    "    deprecated_organ_names['l.intest'] = 'large intestine'\n",
    "    deprecated_organ_names['large'] = 'large intestine'\n",
    "    deprecated_organ_names['largeintestine'] = 'large intestine'\n",
    "    \n",
    "    deprecated_organ_names['muscles'] = 'muscle'\n",
    "    deprecated_organ_names['musclo'] = 'muscle'\n",
    "    deprecated_organ_names['mwclc'] = 'muscle'\n",
    "    deprecated_organ_names['midbrain'] = 'brain'\n",
    "\n",
    "    deprecated_organ_names['medalla'] = 'medulla'\n",
    "    deprecated_organ_names['modulla'] = 'medulla'\n",
    "    \n",
    "    deprecated_organ_names['gonads'] = 'gonad'\n",
    "\n",
    "    deprecated_organ_names['ovaries'] = 'ovary'\n",
    "    deprecated_organ_names['occipitalcortex'] = 'brain'\n",
    "    deprecated_organ_names['olfac.tub.'] = 'olfactorybulb'\n",
    "\n",
    "    deprecated_organ_names['pans'] = 'pancreas'\n",
    "    deprecated_organ_names['parictalcortex'] = 'brain'\n",
    "    deprecated_organ_names['pinealbod'] = 'brain'\n",
    "    deprecated_organ_names['pituitary'] = 'brain'\n",
    "    deprecated_organ_names['pituitarygland'] = 'brain'\n",
    "    deprecated_organ_names['plasma'] = 'blood'\n",
    "    \n",
    "    deprecated_organ_names['restbrain'] = 'brain'\n",
    "    deprecated_organ_names['restofbrain'] = 'brain'\n",
    "\n",
    "    deprecated_organ_names['s-intestine'] = 'small intestine'\n",
    "    deprecated_organ_names['s.intest'] = 'small intestine'\n",
    "    deprecated_organ_names['s.intestine'] = 'small intestine'\n",
    "    deprecated_organ_names['small'] = 'small intestine'\n",
    "    deprecated_organ_names['smalintestine'] = 'small intestine'\n",
    "    deprecated_organ_names['smallintestine'] = 'small intestine'\n",
    "    deprecated_organ_names['smallinterstine'] = 'small intestine'\n",
    "    deprecated_organ_names['smallintestines'] = 'small intestine'\n",
    "    deprecated_organ_names['smallintestme'] = 'small intestine'\n",
    "    deprecated_organ_names['salivaryglands'] = 'salivarygland'\n",
    "    deprecated_organ_names['salivary gland'] = 'salivarygland'\n",
    "    deprecated_organ_names['splee'] = 'spleen'\n",
    "    deprecated_organ_names['skull'] = 'bone'\n",
    "    deprecated_organ_names['stomachb'] = 'stomach'\n",
    "    deprecated_organ_names['stomachc'] = 'stomach'\n",
    "    deprecated_organ_names['striatum'] = 'brain'\n",
    "    deprecated_organ_names['stratum'] = 'brain'\n",
    "    deprecated_organ_names['striaturn'] = 'brain'\n",
    "    deprecated_organ_names['striatam'] = 'brain'\n",
    "    deprecated_organ_names['splee'] = 'spleen'\n",
    "        \n",
    "    deprecated_organ_names['testes'] = 'testis'\n",
    "    deprecated_organ_names['testicle'] = 'testis'\n",
    "    deprecated_organ_names['thalamas'] = 'thalamus'\n",
    "    deprecated_organ_names['thyroidc'] = 'thyroid'\n",
    "    deprecated_organ_names['thyroidgland'] = 'thyroid'\n",
    "\n",
    "    deprecated_organ_names['urineb'] = 'bladder'\n",
    "\n",
    "    deprecated_organ_names['whitefat'] = 'fat'\n",
    "    deprecated_organ_names['wholebrain'] = 'brain'\n",
    "       \n",
    "    return deprecated_organ_names\n",
    "\n",
    "def get_removed_organ_names():\n",
    "    removed_organ_names = list()\n",
    "    removed_organ_names.append('')\n",
    "    removed_organ_names.append(' ')\n",
    "    removed_organ_names.append('c6tumor')\n",
    "    removed_organ_names.append('caecum')\n",
    "    removed_organ_names.append('carcass')\n",
    "    removed_organ_names.append('cartilage')\n",
    "    removed_organ_names.append('caudate')\n",
    "    removed_organ_names.append('cervicalcord')\n",
    "    removed_organ_names.append('coecum')\n",
    "    removed_organ_names.append('duodenum')\n",
    "    removed_organ_names.append('erythrocyte')\n",
    "    removed_organ_names.append('esophagus')\n",
    "    removed_organ_names.append('fat,mesentrial')\n",
    "    removed_organ_names.append('inferiorcolliculus')\n",
    "    removed_organ_names.append('oesophagus')\n",
    "    removed_organ_names.append('superiorcolliculus')\n",
    "    removed_organ_names.append('trachea')\n",
    "    removed_organ_names.append('tumor')\n",
    "    removed_organ_names.append('tumor:bloodratio')\n",
    "    removed_organ_names.append('tumor:lungratio')\n",
    "    removed_organ_names.append('tumor:muscleratio')\n",
    "    removed_organ_names.append('tumour')\n",
    "    removed_organ_names.append('uterus/blood')\n",
    "    removed_organ_names.append('uterus/muscle')\n",
    "    removed_organ_names.append('uterus-to-blood')\n",
    "    removed_organ_names.append('uterus-to-muscle')\n",
    "    removed_organ_names.append('xenograftcontrol')\n",
    "    removed_organ_names.append('xenografttk+')\n",
    "    return removed_organ_names"
   ]
  },
  {
   "cell_type": "code",
   "execution_count": 57,
   "metadata": {},
   "outputs": [],
   "source": [
    "# 保存化合物名与其mol文件路径以及图片路径的映射，优化制表的遍历效率\n",
    "compound_name2file_map = dict()\n",
    "compound_name2img_map = dict()\n",
    "\"\"\"替换器官名映射表\"\"\"\n",
    "deprecated_organ_names = get_deprecated_organ_names()\n",
    "# 无用器官名列表\n",
    "removed_organ_names = get_removed_organ_names()\n",
    "\n",
    "# base_dir = os.getcwd()\n",
    "# print(\"base dir: \", base_dir)\n",
    "\n",
    "# 数据集的mol文件路径\n",
    "mol_files = []\n",
    "data_path = \"./data\"\n",
    "# data_path = \"./test\"\n",
    "if not os.path.exists(data_path):\n",
    "    os.makedirs(data_path)\n",
    "\n",
    "# 文件夹1-img用于存放数据集化合物图片\n",
    "savepic = \"./img\"\n",
    "if not os.path.exists(savepic):\n",
    "    os.makedirs(savepic)\n",
    "# 数据集汇总表存放路径\n",
    "cur_time = datetime.now().strftime(\"%Y%m%d\")\n",
    "folder_path = f\"./result/{cur_time}\"\n",
    "excel_path = f\"{folder_path}/数据表汇总.xlsx\"\n",
    "\n",
    "data_list = os.listdir(data_path)\n",
    "for file in data_list:\n",
    "    if file.endswith(\".mol\"):\n",
    "        mol_file = os.path.join(data_path, file)\n",
    "        compound_name = os.path.splitext(file)[0]\n",
    "        compound_name2file_map[compound_name] = mol_file\n",
    "        mol_files.append(mol_file)\n",
    "# print(compound_name2file_map)\n",
    "\n",
    "if not os.path.exists(folder_path):\n",
    "    os.makedirs(folder_path)\n",
    "if not os.path.exists(excel_path):\n",
    "    wkc = openpyxl.Workbook(excel_path)\n",
    "    wkc.save(excel_path)\n",
    "\n",
    "# # 数据集汇总表存放路径\n",
    "# filepath = \"./数据表汇总测试10-8.xlsx\"\n",
    "# # 若路径下无汇总表则新建\n",
    "# if not os.path.exists(filepath):\n",
    "#     wkc = openpyxl.Workbook(filepath)\n",
    "#     wkc.save(filepath)\n",
    "# # 打开数据汇总表\n",
    "# wbc = openpyxl.load_workbook(filepath)\n",
    "# # 操作当前相应的表\n",
    "# wsc = wbc.active\n",
    "# 记录出错的文件\n",
    "errorfile = []\n",
    "\n",
    "# 分散数据集中对于时间间隔一栏（首栏）的叫法不一，会影响数据的收集，用列表记录用于函数处理\n",
    "denied_interval_markers = ['', 'time', 'organ', 'time(min)', 'tissue', 'organs', 'tissues', '% id/organ', '%id/organ', 'organ distribution', 'organdistribution', 'regin', 'organ（body）']"
   ]
  },
  {
   "cell_type": "code",
   "execution_count": 58,
   "metadata": {},
   "outputs": [],
   "source": [
    "def init_workbook_dataframe():\n",
    "    \"\"\"\n",
    "        初始化带全部列头的dataframe, 用于将读取到的excel数据填入其中\n",
    "\n",
    "        Return:\n",
    "            包含所有列头的空DataFrame\n",
    "    \"\"\"\n",
    "    \n",
    "    organ_lists = ['blood', 'brain', 'brain/blooda', 'brain:bloodratio','heart', 'heart/blood',\n",
    "\n",
    "                    'abdominalaorta', 'adrenal', 'amygdala', 'aorta', 'at',\n",
    "\n",
    "                    'bile', 'bladder', 'bone', 'bow', \n",
    "\n",
    "                    'colon', 'corpusstriatum',\n",
    "                    \n",
    "                    'eye',\n",
    "\n",
    "                    'fat', 'feces',\n",
    "                    # gonad hard. \n",
    "                    'git', 'gitract', 'gonad', 'gut', 'hardergland',\n",
    "\n",
    "                    'intestine',\n",
    "\n",
    "                    'kidney',\n",
    "\n",
    "                    'large intestine', 'lean', 'liver', 'llmg', 'lung',\n",
    "                    \n",
    "                    'marrow', 'medulla', 'muscle',\n",
    "\n",
    "                    'olfactorybulb', 'ovary',\n",
    "\n",
    "                    'pancreas', 'pocs', 'pons', 'pons-medulla', 'prostate', \n",
    "\n",
    "                    'region', 'remainder',\n",
    "\n",
    "                    'small intestine', 'salivarygland', 'septum', 'skin', 'spleen', 'stiatum', 'stomach', 'submandibular', \n",
    "                    \n",
    "                    'tail', 'testis', 'thalamus', 'thymus', 'thyroid', 'trachea', 'tissue',\n",
    "                    \n",
    "                    'urinarybladder', 'urine', 'uterus'\n",
    "                ]\n",
    "\n",
    "    time_intervals = [0.25, 0.5, 1, 2, 5, 7, 10, 12, 13, 15, 20, 30, \n",
    "                    40, 45, 55, 60, 70, 75, 80, 90, 100, 105, 110, 120, \n",
    "                    125, 150, 180, 220, 240, 300, 330, 360, 440, \n",
    "                    480, 550, 720, 1080, 1440, 2120, 2880]\n",
    "    headers = ['Compound index']\n",
    "    for organ in organ_lists:\n",
    "        for time in time_intervals:\n",
    "            if str(time).find(\"*\") != -1:\n",
    "                headers.append(organ + \" mean\" + str(time)[:-1] + \"min*\")\n",
    "                headers.append(organ + \" sd\" + str(time)[:-1] + \"min*\")\n",
    "            else:\n",
    "                headers.append(organ + \" mean\" + str(time) + \"min\")\n",
    "                headers.append(organ + \" sd\" + str(time) + \"min\")\n",
    "    df = pd.DataFrame(columns=headers)\n",
    "    return df\n"
   ]
  },
  {
   "cell_type": "code",
   "execution_count": 59,
   "metadata": {},
   "outputs": [],
   "source": [
    "def get_DataFrame_from_workbook(workbook):\n",
    "\t\"\"\"\n",
    "\t\t用于从excel文件中读取药物的各种数据, 将数据进行处理并打包成DataFrame输入到总表中\n",
    "\n",
    "\t\tArgs:\n",
    "\t\t\tworkbook: excel文件的文件路径\n",
    "\t\tReturn:\n",
    "\t\t\t处理所有workbook内数据的DataFrame\n",
    "\t\"\"\"\n",
    "\ttry:\n",
    "\t\ttemp_wb = openpyxl.load_workbook(workbook)\n",
    "\texcept FileNotFoundError as e:\n",
    "\t\tprint(e)\n",
    "\t\treturn None\n",
    "\ttemp_ws = temp_wb.active\n",
    "\tcompound_index = os.path.splitext(os.path.split(workbook)[-1])[0]\n",
    "\tsheet_data = dict()\n",
    "\t# 判断处理的是否是第一行列表头\n",
    "\tis_header_row = True\n",
    "\t# 保存列表头数据（时间点数据）的列表\n",
    "\ttime_headers = []\n",
    "\n",
    "\tfor row in temp_ws.rows:\n",
    "\t\t# 记录第一行的列头（保存着时间点数据）\n",
    "\t\tif is_header_row:\n",
    "\t\t\tfor cell in row:\n",
    "\t\t\t\tif cell.value is not None:\n",
    "\t\t\t\t\ttime_header = str(cell.value).strip().replace(\n",
    "\t\t\t\t\t    \" \", \"\").replace(\"\\n\", \"\").lower()\n",
    "\t\t\t\t\t# 判断列头是否是被拒绝接受的，是则跳过不处理，否则为正常的时间点数据\n",
    "\t\t\t\t\tif time_header not in denied_interval_markers:\n",
    "\t\t\t\t\t\t# 修正由于OCR识别问题导致的字符错误\n",
    "\t\t\t\t\t\ttime_header = time_header.replace('mim', 'min').replace('minb', 'min').replace('minc', 'min').replace(\n",
    "\t\t\t\t\t\t    'miu', 'min').replace('meanm', 'mean').replace('sem', 'sd').replace('se', 'sd').replace('mn', 'min')\n",
    "\t\t\t\t\telse:\n",
    "\t\t\t\t\t\tcontinue\n",
    "\t\t\t\t\t# 存在部分时间点数据缺少时间单位，默认附上min\n",
    "\t\t\t\t\tif not time_header.endswith(\"min\") and not time_header.endswith(\"h\"):\n",
    "\t\t\t\t\t\ttime_header = time_header + \"min\"\n",
    "\t\t\t\t\t# 存在部分时间点数据的单位是小时，转换为分钟\n",
    "\t\t\t\t\tif time_header[-1] == 'h':\n",
    "\t\t\t\t\t\ttry:\n",
    "\t\t\t\t\t\t\tindex = time_header.find('mean')\n",
    "\t\t\t\t\t\t\tif index != -1:\n",
    "\t\t\t\t\t\t\t\tindex = index + 4\n",
    "\t\t\t\t\t\t\telse:\n",
    "\t\t\t\t\t\t\t\tindex = time_header.find('sd')\n",
    "\t\t\t\t\t\t\t\tif index != -1:\n",
    "\t\t\t\t\t\t\t\t\tindex = index + 2\n",
    "\t\t\t\t\t\t\tif index != -1:\n",
    "\t\t\t\t\t\t\t\thour = int(time_header[index:-1])\n",
    "\t\t\t\t\t\t\t\ttime_header = time_header[:index] + str(hour * 60) + 'min'\n",
    "\t\t\t\t\t\t\telse:\n",
    "\t\t\t\t\t\t\t\tprint(\"Data missed in {}: {}\".format(compound_index, time_header))\n",
    "\t\t\t\t\t\t\t\tcontinue\n",
    "\t\t\t\t\t\texcept ValueError as e:\n",
    "\t\t\t\t\t\t\tprint(e)\n",
    "\t\t\t\t\t\t\tprint(compound_index)\n",
    "\t\t\t\t\t\t\tprint(time_header)\n",
    "\t\t\t\t\t\t\tprint()\n",
    "\t\t\t\t\t\t# 存在部分时序列头的时间数字缺失，输出错误的数据并防止输入到总数据集中\n",
    "\t\t\t\t\tif time_header != 'sdmin' and time_header != 'meanmin':\n",
    "\t\t\t\t\t\ttime_headers.append(time_header)\n",
    "\t\t\t\t\telse:\n",
    "\t\t\t\t\t\tprint(\"Invalid header format of {}: {}\".format(compound_index, time_header))\n",
    "\n",
    "\t\t\t# 部分数据文件中的数据并非从第一行开始，通过判断列表的长度可以充当跳过前面空行的作用\n",
    "\t\t\tif len(time_headers) > 0:\n",
    "\t\t\t\tis_header_row = False\n",
    "\t\t\t\t# 试图找出错误的时间列头的列表\n",
    "\t\t\t\tif str(time_headers[0]).find('mean') == -1 and str(time_headers[0]).find('sd') == -1:\n",
    "\t\t\t\t\tprint(\"Wrong headers of {}: {}\".format(compound_index, time_headers))\n",
    "\t\t# 带数值的列表数据\n",
    "\t\telse:\n",
    "\t\t\t# 将一行的数据先置入列表中，再根据行名与行数据切割成字典形式并保存到sheet_data，这一步等同于将行转换为列\n",
    "\t\t\ttemp_list = []\n",
    "\t\t\tfor cell in row:\n",
    "\t\t\t\tif cell.value is not None:\n",
    "\t\t\t\t\ttemp_list.append(str(cell.value).strip().replace(\" \", \"\").replace(\"\\n\", \"\"))\n",
    "\t\t\tif len(temp_list) > 0:\n",
    "\t\t\t\torgan_name = str(temp_list[0]).lower()\n",
    "\t\t\t\tsheet_data[organ_name] = temp_list[1:]\n",
    "\n",
    "\t# 将时间表头与器官名进行组合，用于置入DataFrame成为新的表头\n",
    "\torgans = list(sheet_data.keys())\n",
    "\textended_headers = ['Compound index']\n",
    "\ttry:\n",
    "\t\tfor organ in organs:\n",
    "\t\t\tfor time_header in time_headers:\n",
    "\t\t\t\t# 若器官名是被取消的，跳过\n",
    "\t\t\t\tif organ not in removed_organ_names:\n",
    "\t\t\t\t\t# 若器官名是需要被替换的，替换\n",
    "\t\t\t\t\tif deprecated_organ_names.get(organ) is not None:\n",
    "\t\t\t\t\t\torgan = deprecated_organ_names.get(organ)\n",
    "\t\t\t\t\textended_headers.append(str.lower(\" \".join([str(organ), str(time_header)])))\n",
    "\texcept Exception as e:\n",
    "\t\tprint(e)\n",
    "\t\tprint(\"Problem compound index: \", compound_index)\n",
    "\t\tprint(\"Organ: \", organ)\n",
    "\t\tprint(\"time_header: \", time_header)\n",
    "\t\tprint(\"extended_headers: \", extended_headers)\n",
    "\t\tprint()\n",
    "\t# 设置DataFrame并写入化合物编号\n",
    "\tdf = pd.DataFrame(columns=extended_headers)\n",
    "\tdf[extended_headers[0]] = [compound_index]\n",
    "\n",
    "\t# 遍历表内其他数据，并写入到对应的列中\n",
    "\tfor organ_name, organ_data in sheet_data.items():\n",
    "\t\t# 跳过organ数据\n",
    "\t\t# if organ_name == organs[0]:\n",
    "\t\t# \tcontinue\n",
    "\t\tif organ_name not in removed_organ_names:\n",
    "\t\t\tif deprecated_organ_names.get(organ_name) is not None:\n",
    "\t\t\t\torgan_name = deprecated_organ_names.get(organ_name)\n",
    "\t\t\tcur = 0\n",
    "\t\t\ttry:\n",
    "\t\t\t\tfor data in organ_data:\n",
    "\t\t\t\t\ttime_header = str.lower(' '.join([str(organ_name), str(time_headers[cur])]))\n",
    "\t\t\t\t\tdf[time_header] = [data]\n",
    "\t\t\t\t\tcur = cur + 1\n",
    "\t\t\texcept IndexError as e:\n",
    "\t\t\t\tprint(\"Sheet data: \", sheet_data)\n",
    "\t\t\t\tprint(\"Organs list: \", organs)\n",
    "\t\t\t\tprint(\"Headers list: \", time_headers)\n",
    "\t\t\t\tprint(\"Problem organ name:\", organ_name)\n",
    "\t\t\t\tprint(\"Problem organ data:\", data)\n",
    "\t\t\t\tprint(\"Cursor index: \", cur)\n",
    "\t\t\t\tprint(\"Problem compound index: \", compound_index)\n",
    "\t\t\t\tprint(e)\n",
    "\t\t\t\tprint()\n",
    "\t\t\t\tcontinue\n",
    "\treturn df"
   ]
  },
  {
   "cell_type": "code",
   "execution_count": 60,
   "metadata": {},
   "outputs": [
    {
     "name": "stderr",
     "output_type": "stream",
     "text": [
      " 13%|█▎        | 109/832 [00:00<00:04, 167.69it/s]"
     ]
    },
    {
     "name": "stdout",
     "output_type": "stream",
     "text": [
      "Bad input file ./data\\1069A-16β-F-DHT;18F-2.mol\n",
      "Bad input file ./data\\1069A-16β-F-Mib;18F-6.mol\n",
      "Bad input file ./data\\1069A-16β-F-MNT;18F-7.mol\n",
      "Bad input file ./data\\1069A-16β-F-MNT;18F-9.mol\n",
      "Bad input file ./data\\1069A-16β-F-T;18F-4.mol\n"
     ]
    },
    {
     "name": "stderr",
     "output_type": "stream",
     "text": [
      " 62%|██████▏   | 515/832 [00:03<00:01, 159.28it/s][02:48:50] Warning: conflicting stereochemistry at atom 5 ignored. by rule 2b.\n",
      " 81%|████████  | 671/832 [00:04<00:01, 122.25it/s]"
     ]
    },
    {
     "name": "stdout",
     "output_type": "stream",
     "text": [
      "Bad input file ./data\\1620A-18F-ﬂuoroisonicotinic.mol\n"
     ]
    },
    {
     "name": "stderr",
     "output_type": "stream",
     "text": [
      " 88%|████████▊ | 728/832 [00:05<00:00, 162.61it/s]"
     ]
    },
    {
     "name": "stdout",
     "output_type": "stream",
     "text": [
      "Bad input file ./data\\1672C-18F-β-CFT-FP.mol\n"
     ]
    },
    {
     "name": "stderr",
     "output_type": "stream",
     "text": [
      "100%|██████████| 832/832 [00:06<00:00, 130.90it/s]\n"
     ]
    }
   ],
   "source": [
    "\"\"\"\n",
    "    把mol文件生成的化合物图片保存到文件夹1-img中\n",
    "\"\"\"\n",
    "# 读取数据集文件\n",
    "for mol_file in tqdm(mol_files):\n",
    "    try:\n",
    "        # 确认文件后缀名是否为mol\n",
    "        split_path = os.path.splitext(mol_file)\n",
    "        if split_path[-1] == '.mol':\n",
    "            # 筛选路径，获得文件名\n",
    "            compound_name = os.path.split(split_path[0])[-1]\n",
    "            mol = Chem.MolFromMolFile(mol_file)\n",
    "            # Draw.MolToImage(mol, size=(120, 120), kekulize=True)\n",
    "            img_path = savepic + '/' + compound_name + '.png'\n",
    "            Draw.MolToFile(mol, img_path, size=(120, 120))\n",
    "            \n",
    "            compound_name2img_map[compound_name] = img_path\n",
    "    except (FileNotFoundError, OSError) as e:\n",
    "        print(e)\n",
    "        errorfile.append(mol_file)\n",
    "# print(compound_name2img_map)"
   ]
  },
  {
   "cell_type": "code",
   "execution_count": 61,
   "metadata": {},
   "outputs": [
    {
     "name": "stderr",
     "output_type": "stream",
     "text": [
      "  2%|▏         | 20/832 [00:01<00:48, 16.89it/s]"
     ]
    },
    {
     "name": "stdout",
     "output_type": "stream",
     "text": [
      "./data\\1031-18F5.mol\n",
      "Reindexing only valid with uniquely valued Index objects\n"
     ]
    },
    {
     "name": "stderr",
     "output_type": "stream",
     "text": [
      "  3%|▎         | 22/832 [00:01<00:48, 16.60it/s]"
     ]
    },
    {
     "name": "stdout",
     "output_type": "stream",
     "text": [
      "./data\\1037B-18F3.mol\n",
      "Reindexing only valid with uniquely valued Index objects\n"
     ]
    },
    {
     "name": "stderr",
     "output_type": "stream",
     "text": [
      "  3%|▎         | 26/832 [00:01<01:18, 10.33it/s]"
     ]
    },
    {
     "name": "stdout",
     "output_type": "stream",
     "text": [
      "./data\\1038-18F1.mol\n",
      "Reindexing only valid with uniquely valued Index objects\n"
     ]
    },
    {
     "name": "stderr",
     "output_type": "stream",
     "text": [
      "  5%|▌         | 42/832 [00:03<01:52,  7.05it/s]"
     ]
    },
    {
     "name": "stdout",
     "output_type": "stream",
     "text": [
      "./data\\1051-18F4.mol\n",
      "Reindexing only valid with uniquely valued Index objects\n"
     ]
    },
    {
     "name": "stderr",
     "output_type": "stream",
     "text": [
      "  5%|▌         | 45/832 [00:04<01:44,  7.50it/s]"
     ]
    },
    {
     "name": "stdout",
     "output_type": "stream",
     "text": [
      "./data\\1056-11C4.mol\n",
      "Reindexing only valid with uniquely valued Index objects\n",
      "./data\\1056-18F2.mol\n",
      "Reindexing only valid with uniquely valued Index objects\n"
     ]
    },
    {
     "name": "stderr",
     "output_type": "stream",
     "text": [
      "  6%|▌         | 48/832 [00:04<01:21,  9.57it/s]"
     ]
    },
    {
     "name": "stdout",
     "output_type": "stream",
     "text": [
      "./data\\1056-18F3.mol\n",
      "Reindexing only valid with uniquely valued Index objects\n"
     ]
    },
    {
     "name": "stderr",
     "output_type": "stream",
     "text": [
      "  6%|▋         | 54/832 [00:04<01:03, 12.22it/s]"
     ]
    },
    {
     "name": "stdout",
     "output_type": "stream",
     "text": [
      "./data\\1063-18F-2a.mol\n",
      "Reindexing only valid with uniquely valued Index objects\n",
      "./data\\1063-18F-2b.mol\n",
      "Reindexing only valid with uniquely valued Index objects\n"
     ]
    },
    {
     "name": "stderr",
     "output_type": "stream",
     "text": [
      "  7%|▋         | 58/832 [00:05<01:10, 10.96it/s]"
     ]
    },
    {
     "name": "stdout",
     "output_type": "stream",
     "text": [
      "./data\\1063-18F-2c.mol\n",
      "Reindexing only valid with uniquely valued Index objects\n",
      "./data\\1063-FES.mol\n",
      "Reindexing only valid with uniquely valued Index objects\n"
     ]
    },
    {
     "name": "stderr",
     "output_type": "stream",
     "text": [
      " 13%|█▎        | 105/832 [00:09<00:48, 15.07it/s]"
     ]
    },
    {
     "name": "stdout",
     "output_type": "stream",
     "text": [
      "./data\\1077-18F-2.mol\n",
      "Reindexing only valid with uniquely valued Index objects\n"
     ]
    },
    {
     "name": "stderr",
     "output_type": "stream",
     "text": [
      " 13%|█▎        | 109/832 [00:09<00:56, 12.76it/s]"
     ]
    },
    {
     "name": "stdout",
     "output_type": "stream",
     "text": [
      "./data\\1081-18F-1.mol\n",
      "Reindexing only valid with uniquely valued Index objects\n",
      "./data\\1081-18F-2.mol\n",
      "Reindexing only valid with uniquely valued Index objects\n",
      "./data\\1081-18F-3.mol\n",
      "Reindexing only valid with uniquely valued Index objects\n"
     ]
    },
    {
     "name": "stderr",
     "output_type": "stream",
     "text": [
      " 14%|█▎        | 113/832 [00:09<00:54, 13.10it/s]"
     ]
    },
    {
     "name": "stdout",
     "output_type": "stream",
     "text": [
      "./data\\1081-18F-4.mol\n",
      "Reindexing only valid with uniquely valued Index objects\n",
      "./data\\1082A-18F28.mol\n",
      "Reindexing only valid with uniquely valued Index objects\n",
      "./data\\1082A-18F29.mol\n",
      "Reindexing only valid with uniquely valued Index objects\n",
      "./data\\1082A-18F30.mol\n",
      "Reindexing only valid with uniquely valued Index objects\n"
     ]
    },
    {
     "name": "stderr",
     "output_type": "stream",
     "text": [
      " 14%|█▍        | 117/832 [00:10<00:50, 14.23it/s]"
     ]
    },
    {
     "name": "stdout",
     "output_type": "stream",
     "text": [
      "./data\\1082A-18F31.mol\n",
      "Reindexing only valid with uniquely valued Index objects\n",
      "./data\\1082A-18F40.mol\n",
      "Reindexing only valid with uniquely valued Index objects\n",
      "./data\\1082A-18F41.mol\n",
      "Reindexing only valid with uniquely valued Index objects\n",
      "./data\\1082A-18F42.mol\n",
      "Reindexing only valid with uniquely valued Index objects\n"
     ]
    },
    {
     "name": "stderr",
     "output_type": "stream",
     "text": [
      " 14%|█▍        | 119/832 [00:10<00:52, 13.53it/s]"
     ]
    },
    {
     "name": "stdout",
     "output_type": "stream",
     "text": [
      "./data\\1083-18F-1.mol\n",
      "Reindexing only valid with uniquely valued Index objects\n",
      "./data\\1083-18F-2.mol\n",
      "Reindexing only valid with uniquely valued Index objects\n",
      "./data\\1083-18F-3.mol\n",
      "Reindexing only valid with uniquely valued Index objects\n"
     ]
    },
    {
     "name": "stderr",
     "output_type": "stream",
     "text": [
      " 15%|█▍        | 123/832 [00:10<00:57, 12.29it/s]"
     ]
    },
    {
     "name": "stdout",
     "output_type": "stream",
     "text": [
      "./data\\1083-18F-4.mol\n",
      "Reindexing only valid with uniquely valued Index objects\n"
     ]
    },
    {
     "name": "stderr",
     "output_type": "stream",
     "text": [
      " 16%|█▌        | 131/832 [00:11<01:32,  7.61it/s]"
     ]
    },
    {
     "name": "stdout",
     "output_type": "stream",
     "text": [
      "./data\\1093-18F19.mol\n",
      "Reindexing only valid with uniquely valued Index objects\n",
      "./data\\1093-18F4.mol\n",
      "Reindexing only valid with uniquely valued Index objects\n"
     ]
    },
    {
     "name": "stderr",
     "output_type": "stream",
     "text": [
      " 16%|█▌        | 135/832 [00:12<01:22,  8.44it/s]"
     ]
    },
    {
     "name": "stdout",
     "output_type": "stream",
     "text": [
      "./data\\1095-18F6d.mol\n",
      "Reindexing only valid with uniquely valued Index objects\n"
     ]
    },
    {
     "name": "stderr",
     "output_type": "stream",
     "text": [
      " 19%|█▉        | 159/832 [00:13<00:48, 13.90it/s]"
     ]
    },
    {
     "name": "stdout",
     "output_type": "stream",
     "text": [
      "./data\\1133-18F1a.mol\n",
      "Reindexing only valid with uniquely valued Index objects\n",
      "./data\\1133-18F3.mol\n",
      "Reindexing only valid with uniquely valued Index objects\n",
      "./data\\1133-18F4.mol\n",
      "Reindexing only valid with uniquely valued Index objects\n"
     ]
    },
    {
     "name": "stderr",
     "output_type": "stream",
     "text": [
      " 20%|██        | 167/832 [00:14<00:49, 13.50it/s]"
     ]
    },
    {
     "name": "stdout",
     "output_type": "stream",
     "text": [
      "./data\\1136-18F10.mol\n",
      "Reindexing only valid with uniquely valued Index objects\n"
     ]
    },
    {
     "name": "stderr",
     "output_type": "stream",
     "text": [
      " 20%|██        | 169/832 [00:14<01:12,  9.14it/s]"
     ]
    },
    {
     "name": "stdout",
     "output_type": "stream",
     "text": [
      "./data\\1136-18F11.mol\n",
      "Reindexing only valid with uniquely valued Index objects\n",
      "./data\\1136-18F15.mol\n",
      "Reindexing only valid with uniquely valued Index objects\n"
     ]
    },
    {
     "name": "stderr",
     "output_type": "stream",
     "text": [
      " 21%|██        | 171/832 [00:15<01:26,  7.65it/s]"
     ]
    },
    {
     "name": "stdout",
     "output_type": "stream",
     "text": [
      "./data\\1136-18F2.mol\n",
      "Reindexing only valid with uniquely valued Index objects\n",
      "./data\\1136-18F5.mol\n",
      "Reindexing only valid with uniquely valued Index objects\n"
     ]
    },
    {
     "name": "stderr",
     "output_type": "stream",
     "text": [
      " 21%|██        | 175/832 [00:15<01:26,  7.59it/s]"
     ]
    },
    {
     "name": "stdout",
     "output_type": "stream",
     "text": [
      "./data\\1141A-18F2a.mol\n",
      "Reindexing only valid with uniquely valued Index objects\n",
      "./data\\1141A-18F2b.mol\n",
      "Reindexing only valid with uniquely valued Index objects\n"
     ]
    },
    {
     "name": "stderr",
     "output_type": "stream",
     "text": [
      " 21%|██▏       | 177/832 [00:15<01:27,  7.47it/s]"
     ]
    },
    {
     "name": "stdout",
     "output_type": "stream",
     "text": [
      "./data\\1141A-18F2c.mol\n",
      "Reindexing only valid with uniquely valued Index objects\n",
      "./data\\1141A-18F2d.mol\n",
      "Reindexing only valid with uniquely valued Index objects\n"
     ]
    },
    {
     "name": "stderr",
     "output_type": "stream",
     "text": [
      " 22%|██▏       | 179/832 [00:16<01:27,  7.49it/s]"
     ]
    },
    {
     "name": "stdout",
     "output_type": "stream",
     "text": [
      "./data\\1141A-18F2e.mol\n",
      "Reindexing only valid with uniquely valued Index objects\n",
      "./data\\1141A-18F2f.mol\n",
      "Reindexing only valid with uniquely valued Index objects\n"
     ]
    },
    {
     "name": "stderr",
     "output_type": "stream",
     "text": [
      " 23%|██▎       | 190/832 [00:17<00:46, 13.74it/s]"
     ]
    },
    {
     "name": "stdout",
     "output_type": "stream",
     "text": [
      "./data\\1149-18F22.mol\n",
      "Reindexing only valid with uniquely valued Index objects\n"
     ]
    },
    {
     "name": "stderr",
     "output_type": "stream",
     "text": [
      " 24%|██▍       | 198/832 [00:17<00:44, 14.31it/s]"
     ]
    },
    {
     "name": "stdout",
     "output_type": "stream",
     "text": [
      "./data\\1163-15a.mol\n",
      "Reindexing only valid with uniquely valued Index objects\n",
      "./data\\1163-15b.mol\n",
      "Reindexing only valid with uniquely valued Index objects\n",
      "./data\\1163-15c.mol\n",
      "Reindexing only valid with uniquely valued Index objects\n"
     ]
    },
    {
     "name": "stderr",
     "output_type": "stream",
     "text": [
      " 25%|██▍       | 206/832 [00:18<00:58, 10.77it/s]"
     ]
    },
    {
     "name": "stdout",
     "output_type": "stream",
     "text": [
      "./data\\1170A-18FRU52461.mol\n",
      "Reindexing only valid with uniquely valued Index objects\n",
      "./data\\1170B-18F10.mol\n",
      "Reindexing only valid with uniquely valued Index objects\n"
     ]
    },
    {
     "name": "stderr",
     "output_type": "stream",
     "text": [
      " 25%|██▌       | 208/832 [00:18<01:03,  9.81it/s]"
     ]
    },
    {
     "name": "stdout",
     "output_type": "stream",
     "text": [
      "./data\\1170B-18F11.mol\n",
      "Reindexing only valid with uniquely valued Index objects\n",
      "./data\\1170B-18F15.mol\n",
      "Reindexing only valid with uniquely valued Index objects\n"
     ]
    },
    {
     "name": "stderr",
     "output_type": "stream",
     "text": [
      " 25%|██▌       | 210/832 [00:18<01:26,  7.21it/s]"
     ]
    },
    {
     "name": "stdout",
     "output_type": "stream",
     "text": [
      "./data\\1170B-18F2.mol\n",
      "Reindexing only valid with uniquely valued Index objects\n",
      "./data\\1170B-18F5.mol\n",
      "Reindexing only valid with uniquely valued Index objects\n"
     ]
    },
    {
     "name": "stderr",
     "output_type": "stream",
     "text": [
      " 26%|██▋       | 220/832 [00:19<00:45, 13.57it/s]"
     ]
    },
    {
     "name": "stdout",
     "output_type": "stream",
     "text": [
      "./data\\1182-18F1a.mol\n",
      "Reindexing only valid with uniquely valued Index objects\n"
     ]
    },
    {
     "name": "stderr",
     "output_type": "stream",
     "text": [
      " 27%|██▋       | 224/832 [00:20<00:48, 12.59it/s]"
     ]
    },
    {
     "name": "stdout",
     "output_type": "stream",
     "text": [
      "./data\\1187A-18F5a.mol\n",
      "Reindexing only valid with uniquely valued Index objects\n",
      "./data\\1187A-18F5b.mol\n",
      "Reindexing only valid with uniquely valued Index objects\n",
      "./data\\1187A-18F5c.mol\n",
      "Reindexing only valid with uniquely valued Index objects\n"
     ]
    },
    {
     "name": "stderr",
     "output_type": "stream",
     "text": [
      " 28%|██▊       | 229/832 [00:20<00:50, 11.98it/s]"
     ]
    },
    {
     "name": "stdout",
     "output_type": "stream",
     "text": [
      "./data\\1189C-18F6.mol\n",
      "Reindexing only valid with uniquely valued Index objects\n",
      "./data\\1194A-42.mol\n",
      "Reindexing only valid with uniquely valued Index objects\n"
     ]
    },
    {
     "name": "stderr",
     "output_type": "stream",
     "text": [
      " 28%|██▊       | 231/832 [00:20<00:52, 11.49it/s]"
     ]
    },
    {
     "name": "stdout",
     "output_type": "stream",
     "text": [
      "./data\\1194A-43.mol\n",
      "Reindexing only valid with uniquely valued Index objects\n"
     ]
    },
    {
     "name": "stderr",
     "output_type": "stream",
     "text": [
      " 29%|██▉       | 244/832 [00:21<00:36, 16.20it/s]"
     ]
    },
    {
     "name": "stdout",
     "output_type": "stream",
     "text": [
      "./data\\1202-15a.mol\n",
      "Reindexing only valid with uniquely valued Index objects\n",
      "./data\\1202-15b.mol\n",
      "Reindexing only valid with uniquely valued Index objects\n",
      "./data\\1202-15c.mol\n",
      "Reindexing only valid with uniquely valued Index objects\n"
     ]
    },
    {
     "name": "stderr",
     "output_type": "stream",
     "text": [
      " 30%|██▉       | 248/832 [00:21<00:43, 13.44it/s]"
     ]
    },
    {
     "name": "stdout",
     "output_type": "stream",
     "text": [
      "./data\\1205-18F2a.mol\n",
      "Reindexing only valid with uniquely valued Index objects\n",
      "./data\\1205-18F3a.mol\n",
      "Reindexing only valid with uniquely valued Index objects\n"
     ]
    },
    {
     "name": "stderr",
     "output_type": "stream",
     "text": [
      " 30%|███       | 252/832 [00:22<00:56, 10.22it/s]"
     ]
    },
    {
     "name": "stdout",
     "output_type": "stream",
     "text": [
      "./data\\1205-18F4a.mol\n",
      "Reindexing only valid with uniquely valued Index objects\n",
      "./data\\1209A-18F-2a.mol\n",
      "Reindexing only valid with uniquely valued Index objects\n",
      "./data\\1209A-18F-2b.mol\n",
      "Reindexing only valid with uniquely valued Index objects\n"
     ]
    },
    {
     "name": "stderr",
     "output_type": "stream",
     "text": [
      " 31%|███       | 254/832 [00:22<01:17,  7.47it/s]"
     ]
    },
    {
     "name": "stdout",
     "output_type": "stream",
     "text": [
      "./data\\1209A-18F-2c.mol\n",
      "Reindexing only valid with uniquely valued Index objects\n"
     ]
    },
    {
     "name": "stderr",
     "output_type": "stream",
     "text": [
      " 31%|███       | 255/832 [00:23<01:41,  5.70it/s]"
     ]
    },
    {
     "name": "stdout",
     "output_type": "stream",
     "text": [
      "./data\\1209A-18F-2d.mol\n",
      "Reindexing only valid with uniquely valued Index objects\n"
     ]
    },
    {
     "name": "stderr",
     "output_type": "stream",
     "text": [
      " 31%|███       | 257/832 [00:23<01:43,  5.58it/s]"
     ]
    },
    {
     "name": "stdout",
     "output_type": "stream",
     "text": [
      "./data\\1209A-18F-2e.mol\n",
      "Reindexing only valid with uniquely valued Index objects\n",
      "./data\\1209A-18F-2f.mol\n",
      "Reindexing only valid with uniquely valued Index objects\n"
     ]
    },
    {
     "name": "stderr",
     "output_type": "stream",
     "text": [
      " 31%|███▏      | 260/832 [00:23<01:12,  7.90it/s]"
     ]
    },
    {
     "name": "stdout",
     "output_type": "stream",
     "text": [
      "./data\\1210-18F 4-PBFPB.mol\n",
      "Reindexing only valid with uniquely valued Index objects\n"
     ]
    },
    {
     "name": "stderr",
     "output_type": "stream",
     "text": [
      " 33%|███▎      | 272/832 [00:24<00:50, 11.17it/s]"
     ]
    },
    {
     "name": "stdout",
     "output_type": "stream",
     "text": [
      "./data\\1230A-18F-FU.mol\n",
      "Reindexing only valid with uniquely valued Index objects\n"
     ]
    },
    {
     "name": "stderr",
     "output_type": "stream",
     "text": [
      " 35%|███▍      | 290/832 [00:26<00:43, 12.57it/s]"
     ]
    },
    {
     "name": "stdout",
     "output_type": "stream",
     "text": [
      "./data\\1248-11CPIB.mol\n",
      "Reindexing only valid with uniquely valued Index objects\n",
      "./data\\1248-18F3a.mol\n",
      "Reindexing only valid with uniquely valued Index objects\n"
     ]
    },
    {
     "name": "stderr",
     "output_type": "stream",
     "text": [
      " 35%|███▌      | 292/832 [00:26<00:51, 10.58it/s]"
     ]
    },
    {
     "name": "stdout",
     "output_type": "stream",
     "text": [
      "./data\\1248-18F3b.mol\n",
      "Reindexing only valid with uniquely valued Index objects\n",
      "./data\\1248-18F5.mol\n",
      "Reindexing only valid with uniquely valued Index objects\n"
     ]
    },
    {
     "name": "stderr",
     "output_type": "stream",
     "text": [
      " 35%|███▌      | 294/832 [00:26<01:05,  8.16it/s]"
     ]
    },
    {
     "name": "stdout",
     "output_type": "stream",
     "text": [
      "./data\\1251-11CPIB.mol\n",
      "Reindexing only valid with uniquely valued Index objects\n",
      "./data\\1251-18F2.mol\n",
      "Reindexing only valid with uniquely valued Index objects\n"
     ]
    },
    {
     "name": "stderr",
     "output_type": "stream",
     "text": [
      " 35%|███▌      | 295/832 [00:26<01:16,  6.98it/s]"
     ]
    },
    {
     "name": "stdout",
     "output_type": "stream",
     "text": [
      "./data\\1251-18F3.mol\n",
      "Reindexing only valid with uniquely valued Index objects\n",
      "./data\\1251-18F6.mol\n",
      "Reindexing only valid with uniquely valued Index objects\n"
     ]
    },
    {
     "name": "stderr",
     "output_type": "stream",
     "text": [
      " 36%|███▌      | 298/832 [00:27<01:27,  6.11it/s]"
     ]
    },
    {
     "name": "stdout",
     "output_type": "stream",
     "text": [
      "./data\\1251-18FKS28.mol\n",
      "Reindexing only valid with uniquely valued Index objects\n",
      "./data\\1253A-18FDFA.mol\n",
      "Reindexing only valid with uniquely valued Index objects\n"
     ]
    },
    {
     "name": "stderr",
     "output_type": "stream",
     "text": [
      " 37%|███▋      | 310/832 [00:28<00:34, 15.03it/s]"
     ]
    },
    {
     "name": "stdout",
     "output_type": "stream",
     "text": [
      "./data\\1262D-4-18F-FMR.mol\n",
      "Reindexing only valid with uniquely valued Index objects\n",
      "./data\\1262D-6-18F-FMR.mol\n",
      "Reindexing only valid with uniquely valued Index objects\n"
     ]
    },
    {
     "name": "stderr",
     "output_type": "stream",
     "text": [
      " 38%|███▊      | 318/832 [00:28<00:43, 11.77it/s]"
     ]
    },
    {
     "name": "stdout",
     "output_type": "stream",
     "text": [
      "./data\\1268-18F-IV.mol\n",
      "Reindexing only valid with uniquely valued Index objects\n"
     ]
    },
    {
     "name": "stderr",
     "output_type": "stream",
     "text": [
      " 41%|████      | 339/832 [00:30<00:38, 12.73it/s]"
     ]
    },
    {
     "name": "stdout",
     "output_type": "stream",
     "text": [
      "./data\\1314-FAGal.mol\n",
      "Reindexing only valid with uniquely valued Index objects\n",
      "./data\\1314-FAGlu.mol\n",
      "Reindexing only valid with uniquely valued Index objects\n",
      "./data\\1314-FAMan.mol\n",
      "Reindexing only valid with uniquely valued Index objects\n"
     ]
    },
    {
     "name": "stderr",
     "output_type": "stream",
     "text": [
      " 41%|████      | 341/832 [00:31<01:23,  5.88it/s]"
     ]
    },
    {
     "name": "stdout",
     "output_type": "stream",
     "text": [
      "./data\\1315-18FFAG.mol\n",
      "Reindexing only valid with uniquely valued Index objects\n"
     ]
    },
    {
     "name": "stderr",
     "output_type": "stream",
     "text": [
      " 44%|████▍     | 368/832 [00:34<00:52,  8.77it/s]"
     ]
    },
    {
     "name": "stdout",
     "output_type": "stream",
     "text": [
      "./data\\1344-18F-FPP.mol\n",
      "Reindexing only valid with uniquely valued Index objects\n"
     ]
    },
    {
     "name": "stderr",
     "output_type": "stream",
     "text": [
      " 45%|████▍     | 371/832 [00:34<01:03,  7.27it/s]"
     ]
    },
    {
     "name": "stdout",
     "output_type": "stream",
     "text": [
      "./data\\1352-18FFPND.mol\n",
      "Reindexing only valid with uniquely valued Index objects\n"
     ]
    },
    {
     "name": "stderr",
     "output_type": "stream",
     "text": [
      " 45%|████▍     | 372/832 [00:35<01:31,  5.00it/s]"
     ]
    },
    {
     "name": "stdout",
     "output_type": "stream",
     "text": [
      "./data\\1354-18F2.mol\n",
      "Reindexing only valid with uniquely valued Index objects\n"
     ]
    },
    {
     "name": "stderr",
     "output_type": "stream",
     "text": [
      " 45%|████▍     | 373/832 [00:36<02:22,  3.22it/s]"
     ]
    },
    {
     "name": "stdout",
     "output_type": "stream",
     "text": [
      "./data\\1354-18F3.mol\n",
      "Reindexing only valid with uniquely valued Index objects\n"
     ]
    },
    {
     "name": "stderr",
     "output_type": "stream",
     "text": [
      " 45%|████▌     | 377/832 [00:36<01:29,  5.10it/s]"
     ]
    },
    {
     "name": "stdout",
     "output_type": "stream",
     "text": [
      "./data\\1354-18F4.mol\n",
      "Reindexing only valid with uniquely valued Index objects\n"
     ]
    },
    {
     "name": "stderr",
     "output_type": "stream",
     "text": [
      " 46%|████▌     | 379/832 [00:36<01:16,  5.92it/s]"
     ]
    },
    {
     "name": "stdout",
     "output_type": "stream",
     "text": [
      "./data\\1358-11C-AMP.mol\n",
      "Reindexing only valid with uniquely valued Index objects\n",
      "./data\\1358-11C-BMP.mol\n",
      "Reindexing only valid with uniquely valued Index objects\n"
     ]
    },
    {
     "name": "stderr",
     "output_type": "stream",
     "text": [
      " 46%|████▌     | 382/832 [00:37<00:53,  8.36it/s]"
     ]
    },
    {
     "name": "stdout",
     "output_type": "stream",
     "text": [
      "./data\\1358-18F-BMP.mol\n",
      "Reindexing only valid with uniquely valued Index objects\n"
     ]
    },
    {
     "name": "stderr",
     "output_type": "stream",
     "text": [
      " 47%|████▋     | 390/832 [00:37<00:47,  9.32it/s]"
     ]
    },
    {
     "name": "stdout",
     "output_type": "stream",
     "text": [
      "./data\\1384-5a.mol\n",
      "Reindexing only valid with uniquely valued Index objects\n",
      "./data\\1384-5b.mol\n",
      "Reindexing only valid with uniquely valued Index objects\n",
      "./data\\1384-5c.mol\n",
      "Reindexing only valid with uniquely valued Index objects\n"
     ]
    },
    {
     "name": "stderr",
     "output_type": "stream",
     "text": [
      " 49%|████▉     | 411/832 [00:40<01:23,  5.02it/s]"
     ]
    },
    {
     "name": "stdout",
     "output_type": "stream",
     "text": [
      "./data\\1406-18FDOA.mol\n",
      "Reindexing only valid with uniquely valued Index objects\n"
     ]
    },
    {
     "name": "stderr",
     "output_type": "stream",
     "text": [
      " 50%|████▉     | 413/832 [00:41<01:15,  5.53it/s]"
     ]
    },
    {
     "name": "stdout",
     "output_type": "stream",
     "text": [
      "./data\\1413A-18FO-PEt-PD3.mol\n",
      "Reindexing only valid with uniquely valued Index objects\n"
     ]
    },
    {
     "name": "stderr",
     "output_type": "stream",
     "text": [
      " 53%|█████▎    | 443/832 [00:43<00:32, 12.00it/s]"
     ]
    },
    {
     "name": "stdout",
     "output_type": "stream",
     "text": [
      "./data\\1428D-cis-4-FCWAY.mol\n",
      "Reindexing only valid with uniquely valued Index objects\n",
      "./data\\1428D-trans-4-FCWAY.mol\n",
      "Reindexing only valid with uniquely valued Index objects\n"
     ]
    },
    {
     "name": "stderr",
     "output_type": "stream",
     "text": [
      " 54%|█████▍    | 448/832 [00:44<01:14,  5.16it/s]"
     ]
    },
    {
     "name": "stdout",
     "output_type": "stream",
     "text": [
      "./data\\1432-2S-18F1.mol\n",
      "Reindexing only valid with uniquely valued Index objects\n"
     ]
    },
    {
     "name": "stderr",
     "output_type": "stream",
     "text": [
      " 55%|█████▌    | 458/832 [00:45<00:41,  9.05it/s]"
     ]
    },
    {
     "name": "stdout",
     "output_type": "stream",
     "text": [
      "./data\\1440-18F-JNJ41510417.mol\n",
      "Reindexing only valid with uniquely valued Index objects\n"
     ]
    },
    {
     "name": "stderr",
     "output_type": "stream",
     "text": [
      " 56%|█████▌    | 464/832 [00:46<00:42,  8.61it/s]"
     ]
    },
    {
     "name": "stdout",
     "output_type": "stream",
     "text": [
      "./data\\1444E-F18FDMPPF.mol\n",
      "Reindexing only valid with uniquely valued Index objects\n"
     ]
    },
    {
     "name": "stderr",
     "output_type": "stream",
     "text": [
      " 57%|█████▋    | 471/832 [00:47<00:42,  8.41it/s]"
     ]
    },
    {
     "name": "stdout",
     "output_type": "stream",
     "text": [
      "./data\\1446-125I4.mol\n",
      "Reindexing only valid with uniquely valued Index objects\n",
      "./data\\1446-125I6.mol\n",
      "Reindexing only valid with uniquely valued Index objects\n"
     ]
    },
    {
     "name": "stderr",
     "output_type": "stream",
     "text": [
      " 57%|█████▋    | 473/832 [00:47<00:45,  7.84it/s]"
     ]
    },
    {
     "name": "stdout",
     "output_type": "stream",
     "text": [
      "./data\\1447-18F1.mol\n",
      "Reindexing only valid with uniquely valued Index objects\n",
      "./data\\1450-18FT807.mol\n",
      "Reindexing only valid with uniquely valued Index objects\n"
     ]
    },
    {
     "name": "stderr",
     "output_type": "stream",
     "text": [
      " 57%|█████▋    | 475/832 [00:48<00:53,  6.73it/s]"
     ]
    },
    {
     "name": "stdout",
     "output_type": "stream",
     "text": [
      "./data\\1460-18a.mol\n",
      "Reindexing only valid with uniquely valued Index objects\n"
     ]
    },
    {
     "name": "stderr",
     "output_type": "stream",
     "text": [
      " 57%|█████▋    | 476/832 [00:48<01:16,  4.65it/s]"
     ]
    },
    {
     "name": "stdout",
     "output_type": "stream",
     "text": [
      "./data\\1460-18b.mol\n",
      "Reindexing only valid with uniquely valued Index objects\n"
     ]
    },
    {
     "name": "stderr",
     "output_type": "stream",
     "text": [
      " 57%|█████▋    | 477/832 [00:48<01:29,  3.97it/s]"
     ]
    },
    {
     "name": "stdout",
     "output_type": "stream",
     "text": [
      "./data\\1460-18c.mol\n",
      "Reindexing only valid with uniquely valued Index objects\n"
     ]
    },
    {
     "name": "stderr",
     "output_type": "stream",
     "text": [
      " 58%|█████▊    | 479/832 [00:49<01:12,  4.87it/s]"
     ]
    },
    {
     "name": "stdout",
     "output_type": "stream",
     "text": [
      "./data\\1460-18F16.mol\n",
      "Reindexing only valid with uniquely valued Index objects\n"
     ]
    },
    {
     "name": "stderr",
     "output_type": "stream",
     "text": [
      " 58%|█████▊    | 484/832 [00:49<00:47,  7.27it/s]"
     ]
    },
    {
     "name": "stdout",
     "output_type": "stream",
     "text": [
      "./data\\1470-18FAZ11637326.mol\n",
      "Reindexing only valid with uniquely valued Index objects\n"
     ]
    },
    {
     "name": "stderr",
     "output_type": "stream",
     "text": [
      " 59%|█████▉    | 495/832 [00:50<00:27, 12.40it/s]"
     ]
    },
    {
     "name": "stdout",
     "output_type": "stream",
     "text": [
      "./data\\1489-18FDCFBC.mol\n",
      "Reindexing only valid with uniquely valued Index objects\n"
     ]
    },
    {
     "name": "stderr",
     "output_type": "stream",
     "text": [
      " 60%|█████▉    | 499/832 [00:51<00:49,  6.75it/s]"
     ]
    },
    {
     "name": "stdout",
     "output_type": "stream",
     "text": [
      "./data\\1490-18F3.mol\n",
      "Reindexing only valid with uniquely valued Index objects\n"
     ]
    },
    {
     "name": "stderr",
     "output_type": "stream",
     "text": [
      " 60%|██████    | 501/832 [00:51<00:44,  7.46it/s]"
     ]
    },
    {
     "name": "stdout",
     "output_type": "stream",
     "text": [
      "./data\\1494-p-18FDMPPF.mol\n",
      "Reindexing only valid with uniquely valued Index objects\n"
     ]
    },
    {
     "name": "stderr",
     "output_type": "stream",
     "text": [
      " 61%|██████    | 504/832 [00:52<00:55,  5.88it/s]"
     ]
    },
    {
     "name": "stdout",
     "output_type": "stream",
     "text": [
      "./data\\1494-p18FDMPPF.mol\n",
      "Reindexing only valid with uniquely valued Index objects\n"
     ]
    },
    {
     "name": "stderr",
     "output_type": "stream",
     "text": [
      " 62%|██████▏   | 512/832 [00:53<00:35,  8.99it/s]c:\\Users\\80473\\anaconda3\\envs\\BBB\\lib\\site-packages\\openpyxl\\reader\\drawings.py:59: UserWarning: wmf image format is not supported so the image is being dropped\n",
      "  warn(msg)\n",
      " 62%|██████▏   | 515/832 [00:53<00:35,  8.95it/s]"
     ]
    },
    {
     "name": "stdout",
     "output_type": "stream",
     "text": [
      "./data\\1505A-FFMMT.mol\n",
      "Reindexing only valid with uniquely valued Index objects\n",
      "./data\\1509B-11C-pipzA-4.mol\n",
      "Reindexing only valid with uniquely valued Index objects\n"
     ]
    },
    {
     "name": "stderr",
     "output_type": "stream",
     "text": [
      " 62%|██████▏   | 517/832 [00:54<00:41,  7.67it/s]"
     ]
    },
    {
     "name": "stdout",
     "output_type": "stream",
     "text": [
      "./data\\1509B-18F-FA-4.mol\n",
      "Reindexing only valid with uniquely valued Index objects\n",
      "./data\\1510B-18F-FAA Ester.mol\n",
      "Reindexing only valid with uniquely valued Index objects\n"
     ]
    },
    {
     "name": "stderr",
     "output_type": "stream",
     "text": [
      " 62%|██████▎   | 520/832 [00:54<00:38,  8.20it/s]"
     ]
    },
    {
     "name": "stdout",
     "output_type": "stream",
     "text": [
      "./data\\1510B-18F-FAA.mol\n",
      "Reindexing only valid with uniquely valued Index objects\n"
     ]
    },
    {
     "name": "stderr",
     "output_type": "stream",
     "text": [
      " 64%|██████▎   | 529/832 [00:55<00:38,  7.86it/s]"
     ]
    },
    {
     "name": "stdout",
     "output_type": "stream",
     "text": [
      "./data\\1516A-18FFAG.mol\n",
      "Reindexing only valid with uniquely valued Index objects\n"
     ]
    },
    {
     "name": "stderr",
     "output_type": "stream",
     "text": [
      " 65%|██████▍   | 537/832 [00:56<00:26, 10.96it/s]"
     ]
    },
    {
     "name": "stdout",
     "output_type": "stream",
     "text": [
      "./data\\1531-18FFBFPA.mol\n",
      "Reindexing only valid with uniquely valued Index objects\n",
      "./data\\1534-123IIBPPA.mol\n",
      "Reindexing only valid with uniquely valued Index objects\n"
     ]
    },
    {
     "name": "stderr",
     "output_type": "stream",
     "text": [
      " 65%|██████▍   | 539/832 [00:56<00:42,  6.90it/s]"
     ]
    },
    {
     "name": "stdout",
     "output_type": "stream",
     "text": [
      "./data\\1534-18FFBPPA.mol\n",
      "Reindexing only valid with uniquely valued Index objects\n"
     ]
    },
    {
     "name": "stderr",
     "output_type": "stream",
     "text": [
      " 67%|██████▋   | 558/832 [00:58<00:22, 12.08it/s]"
     ]
    },
    {
     "name": "stdout",
     "output_type": "stream",
     "text": [
      "./data\\1554-18FFDE.mol\n",
      "Reindexing only valid with uniquely valued Index objects\n",
      "./data\\1554-18FFDP.mol\n",
      "Reindexing only valid with uniquely valued Index objects\n"
     ]
    },
    {
     "name": "stderr",
     "output_type": "stream",
     "text": [
      " 69%|██████▉   | 576/832 [00:59<00:17, 14.25it/s]"
     ]
    },
    {
     "name": "stdout",
     "output_type": "stream",
     "text": [
      "./data\\1564-18FE-TCP.mol\n",
      "Reindexing only valid with uniquely valued Index objects\n"
     ]
    },
    {
     "name": "stderr",
     "output_type": "stream",
     "text": [
      " 72%|███████▏  | 603/832 [01:07<00:19, 11.65it/s]"
     ]
    },
    {
     "name": "stdout",
     "output_type": "stream",
     "text": [
      "./data\\1589B-11C-SA4503.mol\n",
      "Reindexing only valid with uniquely valued Index objects\n",
      "./data\\1589B-18F-FE-SA5845.mol\n",
      "Reindexing only valid with uniquely valued Index objects\n"
     ]
    },
    {
     "name": "stderr",
     "output_type": "stream",
     "text": [
      " 74%|███████▎  | 612/832 [01:09<00:24,  9.03it/s]"
     ]
    },
    {
     "name": "stdout",
     "output_type": "stream",
     "text": [
      "./data\\1594A-18FFETNIM.mol\n",
      "Reindexing only valid with uniquely valued Index objects\n"
     ]
    },
    {
     "name": "stderr",
     "output_type": "stream",
     "text": [
      " 74%|███████▍  | 618/832 [01:09<00:20, 10.42it/s]"
     ]
    },
    {
     "name": "stdout",
     "output_type": "stream",
     "text": [
      "./data\\1597A-18FFEtP4A.mol\n",
      "Reindexing only valid with uniquely valued Index objects\n",
      "./data\\1597A-18FFEtP4OH.mol\n",
      "Reindexing only valid with uniquely valued Index objects\n"
     ]
    },
    {
     "name": "stderr",
     "output_type": "stream",
     "text": [
      " 75%|███████▍  | 620/832 [01:10<00:24,  8.71it/s]"
     ]
    },
    {
     "name": "stdout",
     "output_type": "stream",
     "text": [
      "./data\\1598-FECT.mol\n",
      "Reindexing only valid with uniquely valued Index objects\n",
      "./data\\1598-FETT.mol\n",
      "Reindexing only valid with uniquely valued Index objects\n"
     ]
    },
    {
     "name": "stderr",
     "output_type": "stream",
     "text": [
      " 75%|███████▍  | 622/832 [01:10<00:27,  7.51it/s]"
     ]
    },
    {
     "name": "stdout",
     "output_type": "stream",
     "text": [
      "./data\\1598-RTI-31.mol\n",
      "Reindexing only valid with uniquely valued Index objects\n",
      "./data\\1598-RTI-32.mol\n",
      "Reindexing only valid with uniquely valued Index objects\n"
     ]
    },
    {
     "name": "stderr",
     "output_type": "stream",
     "text": [
      " 78%|███████▊  | 649/832 [01:11<00:11, 16.35it/s]"
     ]
    },
    {
     "name": "stdout",
     "output_type": "stream",
     "text": [
      "./data\\1619A-18F-NCFHEB.mol\n",
      "Reindexing only valid with uniquely valued Index objects\n"
     ]
    },
    {
     "name": "stderr",
     "output_type": "stream",
     "text": [
      " 78%|███████▊  | 651/832 [01:12<00:14, 12.49it/s]"
     ]
    },
    {
     "name": "stdout",
     "output_type": "stream",
     "text": [
      "./data\\1623-11C-CGP-12388.mol\n",
      "Reindexing only valid with uniquely valued Index objects\n"
     ]
    },
    {
     "name": "stderr",
     "output_type": "stream",
     "text": [
      " 81%|████████▏ | 678/832 [01:14<00:09, 16.64it/s]"
     ]
    },
    {
     "name": "stdout",
     "output_type": "stream",
     "text": [
      "./data\\1644-11CYM-09151-2.mol\n",
      "Reindexing only valid with uniquely valued Index objects\n",
      "./data\\1644-18F10b.mol\n",
      "Reindexing only valid with uniquely valued Index objects\n",
      "./data\\1644-18F11b.mol\n",
      "Reindexing only valid with uniquely valued Index objects\n"
     ]
    },
    {
     "name": "stderr",
     "output_type": "stream",
     "text": [
      " 82%|████████▏ | 680/832 [01:14<00:14, 10.84it/s]"
     ]
    },
    {
     "name": "stdout",
     "output_type": "stream",
     "text": [
      "./data\\1645-18F-fluoroproxyfan.mol\n",
      "Reindexing only valid with uniquely valued Index objects\n"
     ]
    },
    {
     "name": "stderr",
     "output_type": "stream",
     "text": [
      " 82%|████████▏ | 682/832 [01:14<00:16,  9.28it/s]"
     ]
    },
    {
     "name": "stdout",
     "output_type": "stream",
     "text": [
      "./data\\1651A-18F-fluspidine.mol\n",
      "Reindexing only valid with uniquely valued Index objects\n"
     ]
    },
    {
     "name": "stderr",
     "output_type": "stream",
     "text": [
      " 82%|████████▏ | 686/832 [01:15<00:17,  8.59it/s]"
     ]
    },
    {
     "name": "stdout",
     "output_type": "stream",
     "text": [
      "./data\\1651B-18F1.mol\n",
      "Reindexing only valid with uniquely valued Index objects\n"
     ]
    },
    {
     "name": "stderr",
     "output_type": "stream",
     "text": [
      " 83%|████████▎ | 692/832 [01:15<00:14,  9.45it/s]"
     ]
    },
    {
     "name": "stdout",
     "output_type": "stream",
     "text": [
      "./data\\1658C-18F-FME-MCN.mol\n",
      "Reindexing only valid with uniquely valued Index objects\n",
      "./data\\1659B-18F-FP-TZTP.mol\n",
      "Reindexing only valid with uniquely valued Index objects\n",
      "./data\\1660A-18F-2a.mol\n",
      "Reindexing only valid with uniquely valued Index objects\n"
     ]
    },
    {
     "name": "stderr",
     "output_type": "stream",
     "text": [
      " 83%|████████▎ | 694/832 [01:16<00:20,  6.70it/s]"
     ]
    },
    {
     "name": "stdout",
     "output_type": "stream",
     "text": [
      "./data\\1660A-18F-2b.mol\n",
      "Reindexing only valid with uniquely valued Index objects\n"
     ]
    },
    {
     "name": "stderr",
     "output_type": "stream",
     "text": [
      " 84%|████████▎ | 695/832 [01:16<00:22,  6.08it/s]"
     ]
    },
    {
     "name": "stdout",
     "output_type": "stream",
     "text": [
      "./data\\1660A-18F-2c.mol\n",
      "Reindexing only valid with uniquely valued Index objects\n"
     ]
    },
    {
     "name": "stderr",
     "output_type": "stream",
     "text": [
      " 84%|████████▍ | 697/832 [01:16<00:22,  6.03it/s]"
     ]
    },
    {
     "name": "stdout",
     "output_type": "stream",
     "text": [
      "./data\\1660A-18F-2d.mol\n",
      "Reindexing only valid with uniquely valued Index objects\n",
      "./data\\1660A-18F-2e.mol\n",
      "Reindexing only valid with uniquely valued Index objects\n"
     ]
    },
    {
     "name": "stderr",
     "output_type": "stream",
     "text": [
      " 84%|████████▍ | 699/832 [01:17<00:21,  6.30it/s]"
     ]
    },
    {
     "name": "stdout",
     "output_type": "stream",
     "text": [
      "./data\\1660A-18F-2f.mol\n",
      "Reindexing only valid with uniquely valued Index objects\n",
      "./data\\1661B-18FFMNP.mol\n",
      "Reindexing only valid with uniquely valued Index objects\n"
     ]
    },
    {
     "name": "stderr",
     "output_type": "stream",
     "text": [
      " 86%|████████▌ | 713/832 [01:18<00:12,  9.61it/s]"
     ]
    },
    {
     "name": "stdout",
     "output_type": "stream",
     "text": [
      "./data\\1672C-18F-β-CFT-FP.mol\n",
      "Reindexing only valid with uniquely valued Index objects\n"
     ]
    },
    {
     "name": "stderr",
     "output_type": "stream",
     "text": [
      " 86%|████████▌ | 717/832 [01:18<00:13,  8.71it/s]"
     ]
    },
    {
     "name": "stdout",
     "output_type": "stream",
     "text": [
      "./data\\1675C-18F-FP-DTBZ.mol\n",
      "Reindexing only valid with uniquely valued Index objects\n",
      "./data\\1675D-18FAV-133.mol\n",
      "Reindexing only valid with uniquely valued Index objects\n",
      "./data\\1679B-18F-1.mol\n",
      "Reindexing only valid with uniquely valued Index objects\n"
     ]
    },
    {
     "name": "stderr",
     "output_type": "stream",
     "text": [
      " 87%|████████▋ | 721/832 [01:19<00:11, 10.02it/s]"
     ]
    },
    {
     "name": "stdout",
     "output_type": "stream",
     "text": [
      "./data\\1681-18F-FPCT.mol\n",
      "Reindexing only valid with uniquely valued Index objects\n"
     ]
    },
    {
     "name": "stderr",
     "output_type": "stream",
     "text": [
      " 88%|████████▊ | 731/832 [01:20<00:11,  9.11it/s]"
     ]
    },
    {
     "name": "stdout",
     "output_type": "stream",
     "text": [
      "./data\\1707-18F7a.mol\n",
      "Reindexing only valid with uniquely valued Index objects\n"
     ]
    },
    {
     "name": "stderr",
     "output_type": "stream",
     "text": [
      " 88%|████████▊ | 735/832 [01:20<00:09,  9.74it/s]"
     ]
    },
    {
     "name": "stdout",
     "output_type": "stream",
     "text": [
      "./data\\1712-18F-RR-2.mol\n",
      "Reindexing only valid with uniquely valued Index objects\n",
      "./data\\1712-18F-RR-FQNPe.mol\n",
      "Reindexing only valid with uniquely valued Index objects\n"
     ]
    },
    {
     "name": "stderr",
     "output_type": "stream",
     "text": [
      " 89%|████████▊ | 738/832 [01:21<00:11,  8.29it/s]"
     ]
    },
    {
     "name": "stdout",
     "output_type": "stream",
     "text": [
      "./data\\1712-18F-RS-2.mol\n",
      "Reindexing only valid with uniquely valued Index objects\n",
      "./data\\1712-18F-RS-FQNPe.mol\n",
      "Reindexing only valid with uniquely valued Index objects\n"
     ]
    },
    {
     "name": "stderr",
     "output_type": "stream",
     "text": [
      " 89%|████████▉ | 743/832 [01:21<00:08, 10.35it/s]"
     ]
    },
    {
     "name": "stdout",
     "output_type": "stream",
     "text": [
      "./data\\1717-18F-FTFMPP.mol\n",
      "Reindexing only valid with uniquely valued Index objects\n"
     ]
    },
    {
     "name": "stderr",
     "output_type": "stream",
     "text": [
      " 90%|█████████ | 751/832 [01:22<00:05, 13.86it/s]"
     ]
    },
    {
     "name": "stdout",
     "output_type": "stream",
     "text": [
      "./data\\1729-11C-HC3.mol\n",
      "Reindexing only valid with uniquely valued Index objects\n",
      "./data\\1729-18F-HC3.mol\n",
      "Reindexing only valid with uniquely valued Index objects\n",
      "./data\\1736D-123I-MIBG.mol\n",
      "Reindexing only valid with uniquely valued Index objects\n"
     ]
    },
    {
     "name": "stderr",
     "output_type": "stream",
     "text": [
      " 91%|█████████ | 755/832 [01:22<00:08,  9.11it/s]"
     ]
    },
    {
     "name": "stdout",
     "output_type": "stream",
     "text": [
      "./data\\1739A-18FFE@CIT.mol\n",
      "Reindexing only valid with uniquely valued Index objects\n"
     ]
    },
    {
     "name": "stderr",
     "output_type": "stream",
     "text": [
      " 91%|█████████ | 757/832 [01:23<00:09,  7.70it/s]"
     ]
    },
    {
     "name": "stdout",
     "output_type": "stream",
     "text": [
      "./data\\1739B-18FMCL-322.mol\n",
      "Reindexing only valid with uniquely valued Index objects\n"
     ]
    },
    {
     "name": "stderr",
     "output_type": "stream",
     "text": [
      " 94%|█████████▍| 785/832 [01:25<00:02, 17.42it/s]"
     ]
    },
    {
     "name": "stdout",
     "output_type": "stream",
     "text": [
      "./data\\1757A-NCQ115.mol\n",
      "Reindexing only valid with uniquely valued Index objects\n"
     ]
    },
    {
     "name": "stderr",
     "output_type": "stream",
     "text": [
      " 95%|█████████▍| 789/832 [01:25<00:02, 16.23it/s]"
     ]
    },
    {
     "name": "stdout",
     "output_type": "stream",
     "text": [
      "./data\\1764-18F-Nifrolidine.mol\n",
      "Reindexing only valid with uniquely valued Index objects\n",
      "./data\\1769A-18FNS10743.mol\n",
      "Reindexing only valid with uniquely valued Index objects\n"
     ]
    },
    {
     "name": "stderr",
     "output_type": "stream",
     "text": [
      " 95%|█████████▌| 793/832 [01:25<00:03,  9.94it/s]"
     ]
    },
    {
     "name": "stdout",
     "output_type": "stream",
     "text": [
      "./data\\1770-18FNS14490.mol\n",
      "Reindexing only valid with uniquely valued Index objects\n"
     ]
    },
    {
     "name": "stderr",
     "output_type": "stream",
     "text": [
      " 97%|█████████▋| 804/832 [01:26<00:01, 15.43it/s]"
     ]
    },
    {
     "name": "stdout",
     "output_type": "stream",
     "text": [
      "./data\\1781-18FPF-9811.mol\n",
      "Reindexing only valid with uniquely valued Index objects\n"
     ]
    },
    {
     "name": "stderr",
     "output_type": "stream",
     "text": [
      " 98%|█████████▊| 816/832 [01:27<00:01, 10.21it/s]"
     ]
    },
    {
     "name": "stdout",
     "output_type": "stream",
     "text": [
      "./data\\1812-18FSpiro-FBT.mol\n",
      "Reindexing only valid with uniquely valued Index objects\n"
     ]
    },
    {
     "name": "stderr",
     "output_type": "stream",
     "text": [
      " 98%|█████████▊| 818/832 [01:28<00:02,  6.69it/s]"
     ]
    },
    {
     "name": "stdout",
     "output_type": "stream",
     "text": [
      "./data\\1814-18FSR144385.mol\n",
      "Reindexing only valid with uniquely valued Index objects\n",
      "./data\\1814-18FSR147963.mol\n",
      "Reindexing only valid with uniquely valued Index objects\n"
     ]
    },
    {
     "name": "stderr",
     "output_type": "stream",
     "text": [
      "100%|█████████▉| 830/832 [01:28<00:00, 13.71it/s]"
     ]
    },
    {
     "name": "stdout",
     "output_type": "stream",
     "text": [
      "./data\\1827A-18F7a.mol\n",
      "Reindexing only valid with uniquely valued Index objects\n"
     ]
    },
    {
     "name": "stderr",
     "output_type": "stream",
     "text": [
      "100%|██████████| 832/832 [01:29<00:00,  9.29it/s]"
     ]
    },
    {
     "name": "stdout",
     "output_type": "stream",
     "text": [
      "./data\\1827B-18F1.mol\n",
      "Reindexing only valid with uniquely valued Index objects\n"
     ]
    },
    {
     "name": "stderr",
     "output_type": "stream",
     "text": [
      "\n"
     ]
    }
   ],
   "source": [
    "# 读取excel文件并写入excel表格\n",
    "# main_df = pd.DataFrame()\n",
    "main_df = init_workbook_dataframe()\n",
    "\n",
    "for compound_name, compound_file in tqdm(compound_name2file_map.items()):\n",
    "    if compound_name is not None:\n",
    "        # 获得mol文件对应的excel文件并读取数据\n",
    "        compound_excel_name = compound_file.replace(\"mol\", \"xlsx\")\n",
    "        df = get_DataFrame_from_workbook(compound_excel_name)\n",
    "\n",
    "        if df is not None:\n",
    "            try:\n",
    "                # 抛弃index来让这两个dataframe可以合并\n",
    "                # main_df = main_df.reset_index(drop=True)\n",
    "                # df = df.reset_index(drop=True)\n",
    "                main_df = pd.concat([main_df, df], axis=0, join='inner')\n",
    "                # main_df = main_df.append(df)\n",
    "            except (InvalidIndexError) as e:\n",
    "                # print(main_df)\n",
    "                # print(df)\n",
    "                print(compound_file)\n",
    "                print(e)\n",
    "\n"
   ]
  },
  {
   "cell_type": "code",
   "execution_count": 62,
   "metadata": {},
   "outputs": [],
   "source": [
    "main_df = pd.DataFrame.dropna(main_df, axis=1, how='all')\n",
    "main_df.insert(loc=1, column='Compound structure', value=\"\")\n",
    "main_df.insert(loc=1, column='SMILES', value=\"\")\n",
    "main_df.to_excel(excel_path, index=False, engine='openpyxl', encoding='utf-8')"
   ]
  },
  {
   "cell_type": "code",
   "execution_count": 63,
   "metadata": {},
   "outputs": [
    {
     "name": "stderr",
     "output_type": "stream",
     "text": [
      "3it [00:00, 96.06it/s]\n"
     ]
    }
   ],
   "source": [
    "\"\"\"\n",
    "    使用openpyxl打开excel文件并进行设定\n",
    "\"\"\"\n",
    "# 打开数据汇总表\n",
    "wbc = openpyxl.load_workbook(excel_path)\n",
    "# 操作当前相应的表\n",
    "wsc = wbc.active\n",
    "\n",
    "# 调整列宽\n",
    "wsc.column_dimensions['A'].width = 25\n",
    "wsc.column_dimensions['B'].width = 50\n",
    "wsc.row_dimensions[1].height = 30\n",
    "SMILES_column = 2\n",
    "\n",
    "alignment = Alignment(horizontal='left', vertical='center')\n",
    "\n",
    "for col in tqdm(wsc.columns):\n",
    "    for cell in col:\n",
    "        cell.alignment = alignment\n",
    "# wbc.save(excel_path)"
   ]
  },
  {
   "cell_type": "code",
   "execution_count": 64,
   "metadata": {},
   "outputs": [
    {
     "name": "stderr",
     "output_type": "stream",
     "text": [
      " 35%|███▍      | 224/646 [00:00<00:00, 790.01it/s]"
     ]
    },
    {
     "name": "stdout",
     "output_type": "stream",
     "text": [
      "Bad input file ./data\\1069A-16β-F-DHT;18F-2.mol\n",
      "Bad input file ./data\\1069A-16β-F-Mib;18F-6.mol\n",
      "Bad input file ./data\\1069A-16β-F-MNT;18F-7.mol\n",
      "Bad input file ./data\\1069A-16β-F-MNT;18F-9.mol\n",
      "Bad input file ./data\\1069A-16β-F-T;18F-4.mol\n"
     ]
    },
    {
     "name": "stderr",
     "output_type": "stream",
     "text": [
      " 49%|████▉     | 318/646 [00:00<00:00, 847.21it/s][02:50:24] Warning: conflicting stereochemistry at atom 5 ignored. by rule 2b.\n",
      "100%|██████████| 646/646 [00:00<00:00, 866.06it/s]"
     ]
    },
    {
     "name": "stdout",
     "output_type": "stream",
     "text": [
      "Bad input file ./data\\1620A-18F-ﬂuoroisonicotinic.mol\n"
     ]
    },
    {
     "name": "stderr",
     "output_type": "stream",
     "text": [
      "\n"
     ]
    }
   ],
   "source": [
    "\"\"\"\n",
    "    插入SMILES\n",
    "\"\"\"\n",
    "# 读取smiles文件并写入excel表格\n",
    "row = 2\n",
    "for compound_name_cell in tqdm(wsc['A']):\n",
    "    compound_file_name = compound_name2file_map.get(compound_name_cell.value)\n",
    "    if compound_file_name is not None:\n",
    "        try:\n",
    "            writer = Chem.MolFromMolFile(compound_file_name)\n",
    "            SMILES = Chem.MolToSmiles(writer)\n",
    "        except OSError as e:\n",
    "            print(e)\n",
    "            row = row + 1\n",
    "            continue\n",
    "        # 把对应文件的smiles字符串填写到对应行的第四列\n",
    "        wsc.cell(row, SMILES_column).value = SMILES\n",
    "        wsc.cell(row, SMILES_column).alignment = alignment\n",
    "        row = row + 1\n",
    "# wbc.save(excel_path)"
   ]
  },
  {
   "cell_type": "code",
   "execution_count": 65,
   "metadata": {},
   "outputs": [
    {
     "name": "stderr",
     "output_type": "stream",
     "text": [
      "100%|██████████| 646/646 [00:00<00:00, 888.25it/s] \n"
     ]
    }
   ],
   "source": [
    "\"\"\"图片写入到汇总表\"\"\"\n",
    "# 记录当前操作的行数\n",
    "row = 2\n",
    "# 对map长度的计数器，防止map内数据已经使用完的情况下程序还在对excel进行行遍历\n",
    "count = 0\n",
    "map_length = len(compound_name2img_map)\n",
    "# 调整列宽\n",
    "wsc.column_dimensions['C'].width = 20\n",
    "\n",
    "\n",
    "# from PIL import Image as PImage\n",
    "# 读取A列的化合物名\n",
    "try:\n",
    "    for compound_name_cell in tqdm(wsc['A']):\n",
    "        # if count == map_length:\n",
    "        #     break\n",
    "        compound_name = compound_name_cell.value\n",
    "        # 跳过第一行\n",
    "        if compound_name == '文献编号' or compound_name == '化合物编号':\n",
    "            continue\n",
    "        img_path = compound_name2img_map.get(compound_name)\n",
    "        if img_path is not None:\n",
    "            img = Image(img_path)\n",
    "            # img = PImage.open(img_path).resize((120, 120))\n",
    "\n",
    "            # 图片只保存在C列，只对C列每一行进行操作\n",
    "            wsc.add_image(img, 'C' + str(row))\n",
    "            # 调整行高\n",
    "            wsc.row_dimensions[row].height = 96\n",
    "            row = row + 1\n",
    "            count = count + 1\n",
    "except UnboundLocalError as e:\n",
    "    print(e)\n",
    "finally:\n",
    "    wbc.save(excel_path)\n",
    "\n",
    "    # # 读取savepic文件夹下的文件名\n",
    "    # for img_name in os.listdir(savepic):\n",
    "    #     img_compound_name = os.path.splitext(img_name)[0]\n",
    "    #     if compound_name_cell.value == img_compound_name:\n",
    "    #         img = Image(savepic + '/' + img_name)\n",
    "    #         # 图片只保存在C列，只对C列每一行进行操作\n",
    "    #         wsc.add_image(img, 'C' + str(row))\n",
    "    #         row = row + 1\n",
    "    #         # 调整列宽\n",
    "    #         wsc.column_dimensions['C'].width = 28\n",
    "    #         # 调整行高\n",
    "    #         wsc.row_dimensions[row].height = 101\n",
    "    #         wbc.save(filepath)\n",
    "    #         break"
   ]
  },
  {
   "cell_type": "code",
   "execution_count": 66,
   "metadata": {},
   "outputs": [
    {
     "name": "stdout",
     "output_type": "stream",
     "text": [
      "['./data\\\\1069A-16β-F-DHT;18F-2.mol', './data\\\\1069A-16β-F-Mib;18F-6.mol', './data\\\\1069A-16β-F-MNT;18F-7.mol', './data\\\\1069A-16β-F-MNT;18F-9.mol', './data\\\\1069A-16β-F-T;18F-4.mol', './data\\\\1620A-18F-ﬂuoroisonicotinic.mol', './data\\\\1672C-18F-β-CFT-FP.mol']\n"
     ]
    }
   ],
   "source": [
    "print(errorfile)"
   ]
  }
 ],
 "metadata": {
  "kernelspec": {
   "display_name": "BBB",
   "language": "python",
   "name": "python3"
  },
  "language_info": {
   "codemirror_mode": {
    "name": "ipython",
    "version": 3
   },
   "file_extension": ".py",
   "mimetype": "text/x-python",
   "name": "python",
   "nbconvert_exporter": "python",
   "pygments_lexer": "ipython3",
   "version": "3.7.12 | packaged by conda-forge | (default, Oct 26 2021, 05:35:01) [MSC v.1916 64 bit (AMD64)]"
  },
  "orig_nbformat": 4,
  "vscode": {
   "interpreter": {
    "hash": "1e16bf243da0930d7340ce187bde8e3a4b0a6cf5e6333c4d640cd2c98ac77f14"
   }
  }
 },
 "nbformat": 4,
 "nbformat_minor": 2
}
